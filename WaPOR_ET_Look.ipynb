{
  "cells": [
    {
      "cell_type": "markdown",
      "metadata": {
        "colab_type": "text",
        "id": "view-in-github"
      },
      "source": [
        "<a href=\"https://colab.research.google.com/github/zainof/GIT716.ET/blob/PartialCoding/WaPOR_ET_Look.ipynb\" target=\"_parent\"><img src=\"https://colab.research.google.com/assets/colab-badge.svg\" alt=\"Open In Colab\"/></a>"
      ]
    },
    {
      "cell_type": "markdown",
      "metadata": {
        "id": "0n6Z-XUL2zu7"
      },
      "source": [
        "\n",
        "How to GDAL on Colab\n",
        "\n",
        "https://github.com/acgeospatial/Satellite_Imagery_Python/blob/master/Colaboratory_GDAL.ipynb \n",
        "\n",
        "\n",
        "Example pepared for APIs https://drive.google.com/open?id=1FZKO_PgeSYNlDKqXYakmpxs6uCXxqzXb\n",
        "\n"
      ]
    },
    {
      "cell_type": "markdown",
      "metadata": {
        "id": "zykptWK66NMA"
      },
      "source": [
        "# pyWAPOR Toolbox\n",
        "\n",
        "This jupyter notebook explains the functions and possibilities of the pyWAPOR toolbox. The toolbox is developed based on the equations mentioned within the  WaPOR Data Manual. The toolbox has 3 phases, namely:\n",
        "\n",
        "1. Collect functions to download the in the WaPOR data manual described datasets automatically from the server. \n",
        "2. Processing functions to process and calculate the input datasets for ETLook model\n",
        "3. ETLook model\n",
        "\n",
        "While the output of the ET maps from the WaPOR ET dataset is dekadal, this toolbox calculates the ET on a daily basis. No interpolations methods in time are appied to remove \"no data values\" within the MODIS products like clouds. The ET value of a corresponding \"no data value\" will also be a \"no data value\". This will result in gaps within the ET maps.\n",
        "\n",
        "The different phases of the toolbox will be shown one by one within this jupyter notebook\n",
        "\n",
        "## 1. Collect Tools\n",
        "\n",
        "With the collect tools, all the Level 1 datasets that are described in the WaPOR Data Manual can be downloaded automatically by using the collect tools. The tools already convert the format and projection to Tiff and WGS84. The collect tools can collect datasets from:\n",
        "\n",
        "1.   CHIRPS\n",
        "2.   GEOS\n",
        "3.   Globcover\n",
        "4.   MCD43\n",
        "5.   MERRA\n",
        "6.   MOD11\n",
        "7.   MOD13\n",
        "8.   MSGCPP\n",
        "9.   MYD11\n",
        "10. MYD13\n",
        "11. SRTM\n",
        "12. WAPOR\n",
        "\n",
        "How to run the collect tools is shown one by one within this chapter. But before we start we will install the pyWAPOR module, which is available from the pypi library and therefor can be installed by using the pip command. To install run the following command:\n",
        "\n"
      ]
    },
    {
      "cell_type": "code",
      "execution_count": 1,
      "metadata": {
        "colab": {
          "base_uri": "https://localhost:8080/",
          "height": 615
        },
        "id": "mNZs1IrpH_U_",
        "outputId": "e7ae3e31-8a13-42eb-f8d5-29505b0e75b9"
      },
      "outputs": [
        {
          "name": "stdout",
          "output_type": "stream",
          "text": [
            "3.7.0\n"
          ]
        }
      ],
      "source": [
        "#!pip install --upgrade pip\n",
        "#!sudo apt-get install build-essential libgdal-dev\n",
        "#!pip install pyWAPOR==3.2.1\n",
        "#!sudo apt update\n",
        "#!apt search gdal\n",
        "#!sudo apt install gdal-bin\n",
        "!gdal-config --version"
      ]
    },
    {
      "cell_type": "markdown",
      "metadata": {
        "id": "i31bjDGDVv-9"
      },
      "source": [
        "Before using the toolbox, import the toolbox to make the functions available."
      ]
    },
    {
      "cell_type": "code",
      "execution_count": 1,
      "metadata": {
        "id": "B1MPqIBhVvF9"
      },
      "outputs": [
        {
          "name": "stderr",
          "output_type": "stream",
          "text": [
            "/opt/conda/envs/my_pywapor_env/lib/python3.11/site-packages/tqdm/auto.py:21: TqdmWarning: IProgress not found. Please update jupyter and ipywidgets. See https://ipywidgets.readthedocs.io/en/stable/user_install.html\n",
            "  from .autonotebook import tqdm as notebook_tqdm\n",
            "/opt/conda/envs/my_pywapor_env/lib/python3.11/site-packages/pywapor/enhancers/smooth/core.py:21: NumbaExperimentalFeatureWarning: Use of isinstance() detected. This is an experimental feature.\n",
            "  v = np.where(Y > Z, a_, 1 - a_)\n",
            "/opt/conda/envs/my_pywapor_env/lib/python3.11/site-packages/pywapor/enhancers/smooth/core.py:128: NumbaExperimentalFeatureWarning: Use of isinstance() detected. This is an experimental feature.\n",
            "  Y_ = np.where(w == 0, 0, Y)\n"
          ]
        }
      ],
      "source": [
        "#!pip install pywapor\n",
        "#import os \n",
        "#import pywapor as pw\n",
        "import pywapor "
      ]
    },
    {
      "cell_type": "markdown",
      "metadata": {
        "id": "A25kwuLRpqrJ"
      },
      "source": [
        "### 1.0 NASA Account\n",
        "\n",
        "To collect all the MODIS products and the MERRA2 datasets, an NASA user account is required. To create a NASA acccount go to https://urs.earthdata.nasa.gov/users/new. For the MERRA2 and MODIS data, a NASA account in which you authorize the \"NASA GESDISC DATA ARCHIVE\" is required. To do this, login into your account and authorize for the \"NASA GESDISC DATA ARCHIVE\" and \"LP DAAC OPeNDAP\" applications within the Applications tab of your profile.\n",
        "\n",
        "Fill in your username and password here:"
      ]
    },
    {
      "cell_type": "code",
      "execution_count": 2,
      "metadata": {
        "id": "FThYKCpuqiCi"
      },
      "outputs": [],
      "source": [
        "# Before running the rest of the codes fill in your username and password of your NASA account here:\n",
        "username = ",
        "password = 
      ]
    },
    {
      "cell_type": "markdown",
      "metadata": {
        "id": "n_5U3VY9H_6m"
      },
      "source": [
        "### 1.1 CHIRPS\n",
        "\n",
        "The CHIRPS collect function can be used to collect daily precipitation data between 1981 till now between the latitudes 50N and 50S.\n",
        "Lets run the code for the Nile Delta for 2009-07-03 till 2009-07-05. The bounding box of the Nile Delta is between the latitudes 28.5N and 31.9N and the longitudes are between 29.2E and 32.5E. \n",
        "\n",
        "The required inputs in order to run this function are:\n",
        "1. output folder, in which the end product will be stored as a tiff file and in the WGS84 projection. \n",
        "2. Startdate as a string in the following format: \"yyyy-mm-dd\"\n",
        "3. Enddate as a string in the following format: \"yyyy-mm-dd\"\n",
        "4. Latitude Limits as an array with the following format: [Ymin, Ymax]\n",
        "5. Longitude Limits as an array with the following format: [Xmin, Xmax]\n",
        "\n",
        "In order to run the function for the mentioned time and space, the following command can be applied:"
      ]
    },
    {
      "cell_type": "code",
      "execution_count": 5,
      "metadata": {
        "colab": {
          "base_uri": "https://localhost:8080/",
          "height": 72
        },
        "id": "w7gYLYNKVsDN",
        "outputId": "e6cd6bb9-7b90-4078-d859-66479fd486c7"
      },
      "outputs": [
        {
          "ename": "NameError",
          "evalue": "name 'pyWAPOR' is not defined",
          "output_type": "error",
          "traceback": [
            "\u001b[0;31m---------------------------------------------------------------------------\u001b[0m",
            "\u001b[0;31mNameError\u001b[0m                                 Traceback (most recent call last)",
            "Cell \u001b[0;32mIn[5], line 1\u001b[0m\n\u001b[0;32m----> 1\u001b[0m pyWAPOR\u001b[39m.\u001b[39mCollect\u001b[39m.\u001b[39mCHIRPS\u001b[39m.\u001b[39mdaily(\u001b[39mr\u001b[39m\u001b[39m\"\u001b[39m\u001b[39m/content/sample_data/RAW\u001b[39m\u001b[39m\"\u001b[39m, \u001b[39m\"\u001b[39m\u001b[39m2009-07-03\u001b[39m\u001b[39m\"\u001b[39m, \u001b[39m\"\u001b[39m\u001b[39m2009-07-05\u001b[39m\u001b[39m\"\u001b[39m, [\u001b[39m28.5\u001b[39m, \u001b[39m31.9\u001b[39m], [\u001b[39m29.2\u001b[39m, \u001b[39m32.5\u001b[39m])\n",
            "\u001b[0;31mNameError\u001b[0m: name 'pyWAPOR' is not defined"
          ]
        }
      ],
      "source": [
        "pyWAPOR.Collect.CHIRPS.daily(r\"/content/sample_data/RAW\", \"2009-07-03\", \"2009-07-05\", [28.5, 31.9], [29.2, 32.5])"
      ]
    },
    {
      "cell_type": "markdown",
      "metadata": {
        "id": "Q08y3fbVSUyA"
      },
      "source": [
        "To quickly show the tiff file a function is made within the toolbox called Show_tif. \n",
        "This functions needs 3 parameters:\n",
        "1. path to the tiff file: string\n",
        "2. Colormap minimum and maximum: [Cmin, Cmax]\n",
        "3. Colormap color that is used: string  (see https://matplotlib.org/examples/color/colormaps_reference.html for possible options)\n",
        "\n",
        "**Show daily CHIRPS data:**"
      ]
    },
    {
      "cell_type": "code",
      "execution_count": null,
      "metadata": {
        "colab": {
          "base_uri": "https://localhost:8080/",
          "height": 369
        },
        "id": "Wx9mFfXM0s51",
        "outputId": "6d375207-c4ba-46ce-e6b9-d74662e73dc0"
      },
      "outputs": [
        {
          "data": {
            "image/png": "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",
            "text/plain": [
              "<Figure size 576x396 with 2 Axes>"
            ]
          },
          "metadata": {
            "tags": []
          },
          "output_type": "display_data"
        },
        {
          "data": {
            "text/plain": [
              "()"
            ]
          },
          "execution_count": 6,
          "metadata": {
            "tags": []
          },
          "output_type": "execute_result"
        }
      ],
      "source": [
        "pyWAPOR.Functions.Processing_Functions.Show_tif(r\"/content/sample_data/RAW/Precipitation/CHIRPS/P_CHIRPS.v2.0_mm-day-1_daily_2009.07.03.tif\")\n"
      ]
    },
    {
      "cell_type": "markdown",
      "metadata": {
        "id": "Oh1GRoLJWPnm"
      },
      "source": [
        "### 1.2 GEOS\n",
        "\n",
        "The GEOS collect function can be used to collect daily or 3-hourly weather data between December 2017 and now globally. The following variables can be downloaded:\n",
        "\n",
        "1. t2m  =  2m Air Temperature\n",
        "2. u2m = 2m Eastward wind\n",
        "3. v2m = 2m Northward wind\n",
        "4. qv2m = 2m Specific Humidity\n",
        "5. tqv = Total Precipitable Water Vapor\n",
        "6. ps = Surface Pressure\n",
        "7. slp = Sea Level Pressure\n",
        "\n",
        "Lets run the daily code to collect all the possible weather data variables for the Nile Delta for 2018-07-03 till 2018-07-05 (here we take another time period, because for the sample period the data is not available). The bounding box of the Nile Delta is between the latitudes 28.5N and 31.9N and the longitudes are between 29.2E and 32.5E. \n",
        "\n",
        "The required inputs in order to run this function are:\n",
        "1. output folder, in which the end product will be stored as a tiff file and in the WGS84 projection. \n",
        "2. Define the variables that has to be collected like an Array inlcuding strings: [\"t2m\", \"u2m\"]\n",
        "3. Startdate as a string in the following format: \"yyyy-mm-dd\"\n",
        "4. Enddate as a string in the following format: \"yyyy-mm-dd\"\n",
        "5. Latitude Limits as an array with the following format: [Ymin, Ymax]\n",
        "6. Longitude Limits as an array with the following format: [Xmin, Xmax]\n",
        "\n",
        "In order to run the daily function for the mentioned time and space, the following command can be applied:"
      ]
    },
    {
      "cell_type": "code",
      "execution_count": null,
      "metadata": {
        "colab": {
          "base_uri": "https://localhost:8080/",
          "height": 399
        },
        "id": "x_L2ZkIMIaBO",
        "outputId": "7afa2f24-0d52-4619-ccc1-fb6117c24bdd"
      },
      "outputs": [
        {
          "name": "stdout",
          "output_type": "stream",
          "text": [
            "\n",
            "Downloading daily GEOS t2m data for the period 2018-07-03 till 2018-07-05\n",
            "Progress: |██████████████████████████████████████████████████| 100.0% Complete\n",
            "\n",
            "Downloading daily GEOS u2m data for the period 2018-07-03 till 2018-07-05\n",
            "Progress: |██████████████████████████████████████████████████| 100.0% Complete\n",
            "\n",
            "Downloading daily GEOS v2m data for the period 2018-07-03 till 2018-07-05\n",
            "Progress: |██████████████████████████████████████████████████| 100.0% Complete\n",
            "\n",
            "Downloading daily GEOS qv2m data for the period 2018-07-03 till 2018-07-05\n",
            "Progress: |██████████████████████████████████████████████████| 100.0% Complete\n",
            "\n",
            "Downloading daily GEOS tqv data for the period 2018-07-03 till 2018-07-05\n",
            "Progress: |██████████████████████████████████████████████████| 100.0% Complete\n",
            "\n",
            "Downloading daily GEOS ps data for the period 2018-07-03 till 2018-07-05\n",
            "Progress: |██████████████████████████████████████████████████| 100.0% Complete\n",
            "\n",
            "Downloading daily GEOS slp data for the period 2018-07-03 till 2018-07-05\n",
            "Progress: |██████████████████████████████████████████████████| 100.0% Complete\n"
          ]
        }
      ],
      "source": [
        "pyWAPOR.Collect.GEOS.daily(r\"/content/sample_data/RAW\", [\"t2m\", \"u2m\", \"v2m\", \"qv2m\", \"tqv\", \"ps\", \"slp\"], \"2018-07-03\", \"2018-07-05\", [28.5, 31.9], [29.2, 32.5])"
      ]
    },
    {
      "cell_type": "markdown",
      "metadata": {
        "id": "8HLqWr9GS-cu"
      },
      "source": [
        "**Show daily GEOS data:**\n",
        "1. Air Temperature\n",
        "2. Eastward wind component\n",
        "3. Northward wind component\n",
        "4. Sea Level Air Pressure\n",
        "5. Specific Humidity\n",
        "6. Surface Air Pressure\n",
        "7. Total Precipitable Water Vapor"
      ]
    },
    {
      "cell_type": "code",
      "execution_count": null,
      "metadata": {
        "colab": {
          "base_uri": "https://localhost:8080/",
          "height": 2348
        },
        "id": "2gt_KL5FOse8",
        "outputId": "2f9077ee-319e-4d03-9148-7f7e1f5d8128"
      },
      "outputs": [
        {
          "data": {
            "image/png": "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",
            "text/plain": [
              "<Figure size 576x396 with 2 Axes>"
            ]
          },
          "metadata": {
            "tags": []
          },
          "output_type": "display_data"
        },
        {
          "data": {
            "image/png": "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",
            "text/plain": [
              "<Figure size 576x396 with 2 Axes>"
            ]
          },
          "metadata": {
            "tags": []
          },
          "output_type": "display_data"
        },
        {
          "data": {
            "image/png": "iVBORw0KGgoAAAANSUhEUgAAAU8AAAFLCAYAAABWXA7kAAAABHNCSVQICAgIfAhkiAAAAAlwSFlzAAALEgAACxIB0t1+/AAAADl0RVh0U29mdHdhcmUAbWF0cGxvdGxpYiB2ZXJzaW9uIDMuMC4zLCBodHRwOi8vbWF0cGxvdGxpYi5vcmcvnQurowAAIABJREFUeJzt3X9YlGW+P/D3MID8VBkX/NEpLjPLE6HCwldRKTNI2opadQQ52Nbl95CrsblQCK579MTJFrf6akop+QMPZtGgJt+92jRX7dhZlG2nQ2bHMOmbhj8AE0l+yA/n+0dHamCY5557HuZhmPfrurgueOYzNx9T3t3P89w3j85isVhAREQO8dK6ASIid8TwJCKSwPAkIpLA8CQiksDwJCKSwPAkIpLgrXUDRET9raOjA7m5uTh//jz0ej1eeukl3HrrrVY1ERERiI6O7v66uLgYer2+zzFdEp7T/ypWVzIZWPhfynXh/8+pdnoZVyNW90wGsLFIYLwzzvXT0x2nxeqi/h349AnluvCzzvXT08/qxeqGfAJcj1Gu829zrh9pJwBEKpd1qXy+dqPvn08r3p8CnVHKdV2C44nya1V3vG46J97r4Or0P/3pTxg6dCheeeUVfPzxx3jllVewbt06q5qgoCCUlJQIjzmgTttvD9C6A/tGhmndgX2Bt2vdgX1eEVp3oOAerRuwTzfQ//s5yKKT/3BURUUFEhMTAQDTpk2D2Wx2uv8BFZ5ERP2hoaEBBoMBAODl5QWdTof29narmvb2dmRnZyM1NRXbt29XHJPXPIlIEzIzyJvsvdVkMsFkMlkdq6qqsv7eNnal5+TkIDk5GTqdDunp6YiJiUFkZN/XcRieRKQJZ8LTHqPRCKPRaHUsNzcX9fX1mDBhAjo6OmCxWODr62tVs2DBgu7Pp06diurqarvhydN2ItKEK695Tp8+HR988AEA4PDhw5gyZYrV6zU1NcjOzobFYkFnZyfMZjPGjx9vd0zpmeeaNWtQVVUFnU6HFStWYOLEibJDEZEH6q+Zpy2/+MUv8Ne//hULFiyAr68v/vCHPwAAioqKEBsbi6ioKIwaNQrz5s2Dl5cXZs2apZhpUuFZWVmJb775BqWlpThz5gxWrFiB0tJSmaGIyEO5Mjxvru3sKSMjo/vz559/3qExpU7bKyoqkJCQAAAYN24crl69imvXrskMRUQeypWn7f1BKjwbGhoQEhLS/bXBYEB9veBKaSKiQUCVu+1Kv4y+ZLL4Avj/nCZQJFLTT/JXave9Rcz4WOsO7PPvr90qahHYuaLyBh6HxvNpF6iR7sS1BsoMUpZUeIaFhaGhoaH767q6OoSGhvZZL7LlEvghOEW2cmq1PTN/JfD7fxMYT6PtmTM+Bj6eoVyn1fZM/1ag1V+gTqvtmRYIbRnUanumTzvQ4atc5y7bM909PKX+GUyfPh379+8HAJw8eRJhYWEICgpStTEiGtzc/Zqn1MwzOjoaERERSE1NhU6nw6pVq9Tui4gGuYESgrKkr3k+99xzavZBRB7G3cOTO4yIiCRwbzsRacLdZ54MTyLSBMOTiEgCw5OISALDU0C7wMJeR2pbVX5cR7MD44nUtggsBHfE5Z+pWyuy0NoR34SL1c0A8HeBZxi1+TnVTi/enWJ1MwEcmalcp+9yohkbfAV2DQHAFADmaMUy1fsT+CuTwvAkIpLg7uHJpUpERBI48yQiTbj7zJPhSUSaYHgSEUlgeBIRSWB4EhFJYHgSEUlw9/DkUiUiIgmceRKRJtx95snwJCJNMDyJiCQwPImIJDA8iYgkMDyJiCS4e3hyqRIRkQTOPIlIE+4+82R4EpEmGJ5ERBIYngI69erWXh8i34staj9jqWmYfC82v6cDf96vxyrXNA2V78WWFsFnQM0A8KdHlOsCWpxqp5fvDGJ1MwG897hynU+HM930NvKSWN0UAEfjleuCv3eqnV74DCPbeMOIiDRh0cl/yKisrERcXBwOHz5s8/Xy8nLMnTsXRqMRJpNJcTyethORJlw58zx79iy2b9+O6Gjbjx9taWlBYWEhysrK4OPjg3nz5iExMRHDhw/vc0zOPIlo0AsNDcXGjRsRHBxs8/WqqipERkYiODgYfn5+iI6OhtlstjsmZ55EpAlXzjz9/f3tvt7Q0ACD4ceL4waDAfX19Xbfw/AkIk30V3iaTKZe1ywzMzMRHy9wt+1/WCwWxRrp8Fy7di3+/ve/o7OzE08//TQefPBB2aGIyAP1V3gajUYYjUaH3hMWFoaGhobur+vq6jB58mS775G65nns2DGcPn0apaWl2LJlC9asWSMzDBF5MFffbbdn0qRJOHHiBJqamtDc3Ayz2YyYGPuLtKRmnrGxsZg4cSIAYOjQoWhtbUVXVxf0egcWdBKRR3PlNc8jR45g69atqKmpwcmTJ1FSUoJt27ahqKgIsbGxiIqKQnZ2NhYtWgSdToelS5f2eXPpJqnw1Ov1CAj4YWV0WVkZ7r33XgYnETnEleE5c+ZMzJw5s9fxjIyM7s+TkpKQlJQkPKbOInJltA8HDx7E5s2bsW3bNrsp/VUrcIf9m11E5GG+iJB/790n1etDlvQNo6NHj2LTpk3YsmWL4vTWeEpszE+jgKhPletGXxQbT9TtZ8TqNj4DPLNRue4fap3rpye/NrG6Zf8HWPdb5Tqttmf+YTmQW6Bcp9X2zHXPAsvWK9dptT3zuT8CLz+vXKf29synN6k73k3uvj1TKjy///57rF27FsXFxXZX4BMR9cUjw/P999/HlStXsGzZsu5jBQUFGDNmjGqNEdHg5pHhmZKSgpSUFLV7ISIP4pHhSUTkLIYnEZEEdw9P/lYlIiIJnHkSkSbcfebJ8CQiTTA8BXT4qFvryDOHRLQ5sPtJpPbiKPlebBFdhA4AX9ytXON7Xb4XWxz5GWgOVK4JbJZuxaZWB/5+RWqb7O8JcdipCWJ1zwH46D7lutEXnGrHZRieREQSGJ5ERBIYnkREEtw9PLlUiYhIAmeeRKQJd595MjyJSBMMTyIiCQxPIiIJDE8iIgkMTyIiCe4enlyqREQkgTNPItKEu888GZ5EpAmGJxGRBIYnEZEEhicRkQSGJxGRBHcPTy5VIiKSwJknEWnC3WeeLgnPSw4800ekNviafC+2+LarWzu8Ub4XW0ZdFK+9vUa5Juh7+V5scuCH4K4vlWuGqPyMpQmnBAszgISDymUiz2FyxH9OF68V+bdw21n5XlyJ4UlEJIHhSUQkwd3DkzeMiEgTFp38h4zKykrExcXh8OHDNl+PiIjAwoULuz+6urrsjseZJxFpwpUzz7Nnz2L79u2Ijo7usyYoKAglJSXCY3LmSUSDXmhoKDZu3Ijg4GDVxnQqPNva2pCQkIA9e/ao1Q8ReQhXnrb7+/tDr9fbrWlvb0d2djZSU1Oxfft2xTGdOm1/4403MGzYMGeGICIP1V+n7SaTCSaTyepYZmYm4uPj7b4vJycHycnJ0Ol0SE9PR0xMDCIjI/uslw7PM2fO4KuvvsLMmTNlhyAiD9Zf4Wk0GmE0Gh1+34IFC7o/nzp1Kqqrq+2Gp/Rpe0FBAXJzc2XfTkQeztV32+2pqalBdnY2LBYLOjs7YTabMX78eLvv0VksFouj3+i9997D+fPnsWTJEmzYsAG33HIL5syZ02f9f3cC/8j7+kT0E/83Wf69j5Y7Vn/kyBFs3boVNTU1MBgMCA0NxbZt21BUVITY2FhERUXhj3/8I44dOwYvLy/MmjULv/71r+2OKRWey5Ytw7lz56DX63Hx4kX4+vrihRdewLRp02zWhzaIjVv/M7HaO75yoFkBUZ+K1b3+a2DJG8p1YXXO9dOTX5tYXe5LwB/ylOu02p75zAZgY6ZyndrbM0W3yxrfBUzzleu02p755v8G/nmLcl34N87109PKfHXHu6n8Mfn3Ju9Trw9ZUvPBdevWdX9+c+bZV3ASEQ1GPJkmIk24+/ZMp8MzM1PgPIyIqAePD08iIhkMTyIiCQxPIiIJDE8iIgnuHp78rUpERBJcMvMUXYSORLHaEZedaqcXRxY9i9SqvYj67i/Ea0WeYXRppHwvtvi3iteKLPgX3RQgSt+pbu3Qq/K92BJ5Qt1atZ+h1V/cfebJ03Yi0gTDk4hIAsOTiEgCw5OISALDk4hIgruHJ5cqERFJ4MyTiDTh7jNPhicRaYLhSUQkgeFJRCSB4UlEJIHhSUQkwd3Dk0uViIgkcOZJRJpw95knw5OINMHwJCKSwPAkIpLA8CQiksDwJCKSwPAU4Mgzc0RqO/XyvdgS2iBe2+anXOPTId+LLWr/9wtolu/FlvO3iNdeGK1cc2e1fC+2BDjwjCWRWm8Hnokk4mf16tY2DpfvhcRx5klEmuDMk4hIAsOTiEgCw5OISIK7h6f03vby8nIkJydjzpw5OHLkiIotEZEnsOjkPxzV2dmJ5cuXY8GCBZg/fz4++eSTXjXl5eWYO3cujEYjTCaT4phSM88rV66gsLAQu3fvRktLCzZs2ICZM2fKDEVEHsqVM899+/bB398fb7/9Nk6fPo28vDyUlZV1v97S0oLCwkKUlZXBx8cH8+bNQ2JiIoYP73vpgtTMs6KiAnFxcQgKCkJYWBjy8/NlhiEiconk5GTk5eUBAAwGAxobG61er6qqQmRkJIKDg+Hn54fo6GiYzWa7Y0qF57fffou2tjYsXrwYaWlpqKiokBmGiDyYK0/bfXx8MGTIEADAjh078Mgjj1i93tDQAIPB0P21wWBAfb39RbXSN4waGxuxceNGnD9/Hk888QQOHz4Mnc72n2r3ncAdAovLAaBqomxHrlE6X+sO7Mt8TesO7Pv9C1p3YF/Sn7XuwL60XVp3oJ7+Om03mUy9rllmZmYiPj4eb731Fk6ePIlNmzbZ781iUfw+UuE5YsQIREVFwdvbG7fddhsCAwPx3XffYcSIETbr5wruGKmaCEz6TOD7O7AjSIToDqPS+UDKu8p14844109Poy+I1WW+Bmz4jXKdVjuMfv8CkP8vynVq7zAadlWsLunPwAcPKdepvcOoLlSsLm0XsCtNuU7tHUZLXld3vJv6KzyNRiOMRmOv4yaTCYcOHcLrr78OHx8fq9fCwsLQ0PBjENTV1WHy5Ml2v4/UafuMGTNw7Ngx3LhxA1euXEFLSwtCQkJkhiIiD+XK0/Zz587hnXfewcaNG7tP339q0qRJOHHiBJqamtDc3Ayz2YyYmBi7Y0rNPEeOHInZs2dj/vwfzmFXrlwJLy8+0YOIxLnybrvJZEJjYyMyMjK6j23duhXFxcWIjY1FVFQUsrOzsWjRIuh0OixduhTBwcF2x5S+5pmamorU1FTZtxORh3NleGZlZSErK6vX8Z+GaVJSEpKSkoTH5HSRiEgCt2cSkSbcfXsmw5OINMHwJCKSwPAkIpLA8BTgyKJskVr9DflebOlw4L+CSO339lc4OMyRTQHtPgI1Ki+ibg5Ut1anvLnDIY78kIrU3lD5Nqsj44nUfnurfC+uxPAkIpLg7uHJpUpERBI48yQiTbj7zJPhSUSaYHgSEUlgeBIRSWB4EhFJYHgSEUlw9/DkUiUiIgmceRKRJtx95snwJCJNMDyJiCQwPImIJDA8iYgkMDyJiCS4e3hyqRIRkQTOPIlIE+4+82R4EpEmGJ5ERBIYngICW/qnVi039OrWNgfI92JL7S0q16r8j9avTbzWS+D5U8emyvdiS8Tn4rXnRyvXqP1vtC5M3dqv7pDvxZUYnkREEhieREQS3D08uVSJiEgCZ55EpAl3n3kyPIlIEx4Zns3NzVi+fDmuXr2Kjo4OLF26FPHx8Wr3RkSDmEeG5969ezF27FhkZ2fj0qVL+NWvfoUPPvhA7d6IaBDzyPAMCQnBl19+CQBoampCSEiIqk0R0eDnyvDs7OzE7373O5w9exZdXV3IyclBTEyMVU1ERASio6O7vy4uLoZe3/fCbqnwfPjhh7Fnzx4kJiaiqakJmzdvlhmGiDyYK8Nz37598Pf3x9tvv43Tp08jLy8PZWVlVjVBQUEoKSkRHlNnsVgsMo188sknyM/Px6lTp7BixQrs2bOnz/qvrwFjgxz9LkQ0mC1bL//edc86Vt/R0YEbN25gyJAhuHz5MlJSUnDw4EGrmilTpuD48ePCY0rNPM1mM2bMmAEAmDBhAurq6tDV1dXnFPefBfs5+ACQ8BflOp3DcW9fYLNY3XuPAY/vU64zXHaun56GN4rVvZoFZL0qUKjR9sw1ecCKl5Tr2vyc66cn0e2Zi7YCWxcp16m9PVNkSyjww9/tq1nKdcfinOunp3eN6o53kytnnj4+Pt2f79ixA4888kivmvb2dmRnZ6O2thazZ8/GU089ZXdMqfAMDw9HVVUVZs+ejdraWgQGBtq9NkBE1FN/hafJZILJZLI6lpmZifj4eLz11ls4efIkNm3a1Ot9OTk5SE5Ohk6nQ3p6OmJiYhAZGdnn95EKz5SUFKxYsQLp6eno7OzE6tWrZYYhIg/WX+FpNBphNPaeLptMJhw6dAivv/661Uz0pgULFnR/PnXqVFRXV6sfnoGBgVi/3okLFkTk8Vx52n7u3Dm888472LlzJ4YMGdLr9ZqaGhQWFuLll19GV1cXzGYzkpKS7I7JHUZEpAlXhqfJZEJjYyMyMjK6j23duhXFxcWIjY1FVFQURo0ahXnz5sHLywuzZs3CxIkT7Y7J8CSiQS8rKwtZWb3vtv00TJ9//nmHxmR4EpEmPHKHERGRsxieREQSGJ4Crjmwu0ikVu1F8o4syr48Qrnm4ij5Xmzx7hCvrfxfyjWqbzJwYNG4OVq55vYz8r3YovYzqvRd8r3Ycst5dWu/CZfvxZUYnkREEhieREQS3D08+QwjIiIJnHkSkSbcfebJ8CQiTTA8iYgkMDyJiCQwPImIJDA8iYgkuHt4cqkSEZEEzjyJSBPuPvNkeBKRJhieREQSGJ5ERBIYnkREEhieREQS3D08uVSJiEgCZ55EpAl3n3kyPIlIEwxPAefHqFur9jN4RJ5LdNOnUco1Q5vke7Fl5CXx2maBZ0Cdu1W+F1smVonXtvso19SNlO/FFrX//V33le/FFl8HnlF1dZg6NQMBw5OISALDk4hIAsOTiEiCu4cnlyoREUngzJOINOERM8/q6mokJCRg586dAIALFy5g4cKFSEtLw7PPPov29vZ+bZKIBh+LTv5jIFAMz5aWFuTn5yMuLq772GuvvYa0tDTs2rUL4eHhKCsr69cmiWjwGfTh6evrizfffBNhYWHdx44fP44HHngAAHD//fejoqKi/zokokHJ3cNT8Zqnt7c3vL2ty1pbW+Hr+8NK4REjRqC+vr5/uiOiQWughKAsp28YWSzK230+HAXcJbCzBADOqrz7RW3XAgWKRGocMVq89NPJKn9vEbPESw85UKuaueKlq1b3WxeqyNgsUNP/bajCI8MzICAAbW1t8PPzw6VLl6xO6W1JvCg27tlbgdvOKddptT3zWiAQ1Kxcp9X2zE8nA1H/pVyn1fbMQ7OAWYeU6wxXnOunp8gTYnWrVgP/ulq5bkSDM930Jro9M2MzUPS0ct2rWc7109Opu9QdTwuXL1/G8uXLcf36dXR0dCAvLw+TJk2yqikvL8eOHTvg5eWF+fPnw2g02h1Tap3ntGnTsH//fgDAgQMHEB8fLzMMEXkwV17zLC8vx2OPPYaSkhJkZWVh/fr1Vq+3tLSgsLAQxcXFKCkpwY4dO9DY2Gh3TMWZ5+eff46CggLU1tbC29sb+/fvx8svv4zc3FyUlpZizJgxePzxxx3/0xCRR3PlaftTTz3V/fmFCxcwcqT1b5+pqqpCZGQkgoODAQDR0dEwm82YNavv60yK4XnPPfegpKSk1/Ht27cLN05E1JOrr3nW19dj8eLFaG5uxo4dO6xea2hogMFg6P7aYDAo3gjnDiMi0kR/hafJZILJZLI6lpmZifj4eOzevRsfffQR8vLysG3btr57E7gRzvAkIk30V3gajcZeN3sqKytx9epVDBs2DPfddx9ycnKsXg8LC0NDw493Auvq6jB5sv2lK/zFIESkCVfeMDpw4AD27t0LAPjyyy8xerT1+r9JkybhxIkTaGpqQnNzM8xmM2JiYuyOyZknEQ16S5YsQW5uLj788EO0t7dj9erVAICioiLExsYiKioK2dnZWLRoEXQ6HZYuXdp986gvDE8i0oQrbxgZDAYUFRX1Op6R8eOWgqSkJCQlJQmP6ZLwrA9Vt/aGyhcb2h14Jk2zwO6h0efle7HlH74VLJwsVvszlRd5BzuwKWC4/aVzAAB9l3wvttTcrm7tUZWXNcf+Tbz267HKNY78fWjJI3cYERE5i+FJRCSB4UlEJIHhSUQkwd3Dk+s8iYgkcOZJRJpw95knw5OINMHwJCKSwPAkIpLA8CQiksDwJCKS4O7hyaVKREQSOPMkIk24+8yT4UlEmmB4EhFJYHgSEUlgeBIRSWB4EhFJcPfw5FIlIiIJLpl5+nQIFvqJ1bYEONVOL8HfixaK1Qa0OtVOLyLP/XGkVu1nBNWFide2+SvX6Jvle7HFkRmOSG3qO/K92PJPOwULc4F/+VflsthKp9rpbY/K4/0Pd5958rSdiDTB8CQiksDwJCKSwPAkIpLA8CQikuDu4Sm0VKm6uhoJCQnYufOH24IXLlzAk08+ifT0dDz55JOor6/v1yaJiAYaxfBsaWlBfn4+4uLiuo+tW7cO8+fPx86dO5GYmIjt27f3a5NENPhYdPIfA4FiePr6+uLNN99EWNiPi/lWrVqF2bNnAwBCQkLQ2OjAQkQiInhAeHp7e8PPz8/qWEBAAPR6Pbq6urBr1y48+uij/dYgEQ1O7h6eOovFYhEp3LBhA0JCQpCeng4A6OrqQk5ODsaOHYtnnnnG7nu/6ALu1jvfLBENHhFfyL/35N3q9SFL+m57Xl4ewsPDFYMTAKa2iI3ZFAwMFdj+qPb2zACV+xv7tXP99DTxM7G6knRgocBWP622Z77/EPCLPyvXBaq8PdNfcLvsvy8EnihRrrv3P5zrpyfR7Zn+rUCrwPbWPz/kXD89zeH2TJukwrO8vBw+Pj74zW9+o3Y/ROQhBn14fv755ygoKEBtbS28vb2xf/9+XL58GUOGDMHChQsBAOPGjcPq1av7u1ciIimXL1/G8uXLcf36dXR0dCAvLw+TJk2yqomIiEB0dHT318XFxdDr+77eqBie99xzD0pKBM5liIgc4MqZZ3l5OR577DE8+uijqKysxPr167Ft2zarmqCgIIeyjjuMiEgTrgzPp556qvvzCxcuYOTIkU6PyfAkIk24+ppnfX09Fi9ejObmZuzYsaPX6+3t7cjOzkZtbS1mz55tFbi2MDyJSBP9FZ4mkwkmk8nqWGZmJuLj47F792589NFHyMvL63XanpOTg+TkZOh0OqSnpyMmJgaRkZF9fh+GJxFpor/C02g0wmg0Wh2rrKzE1atXMWzYMNx3333Iycnp9b4FCxZ0fz516lRUV1fbDU8+w4iINOHKHUYHDhzA3r17AQBffvklRo8ebfV6TU0NsrOzYbFY0NnZCbPZjPHjx9sd0yUzzzurBQt/LlZ79jan2umly4HdT0LPWBJYyOyISw5c2xapFd0UoJVrQeqOF+rAL/0KuqbueCKqJovVTRWs7fRxqp1BacmSJcjNzcWHH36I9vb27qWVRUVFiI2NRVRUFEaNGoV58+bBy8sLs2bNwsSJE+2OydN2ItKEK28YGQwGFBUV9TqekZHR/fnzzz/v0JgMTyLSxKDfYURE1B8YnkREEhieREQSGJ5ERBLcPTy5zpOISAJnnkSkCXefeTI8iUgTDE8iIgkMTyIiCQxPIiIJDE8iIgnuHp5cqkREJIEzTyLShLvPPBmeRKQJhicRkQSGJxGRBIYnEZEEhqcAnUXd2qnH5Hux5b//UbDQABi+Uy4b1uRUO718Z1C3tjlQvhdbRJ77c5PI86KaA+R7saVxuLq1J/p+oKKUM7eL1U0F8Nc45brwb5xqx2XcPTy5VImISAJP24lIE+4+82R4EpEmGJ5ERBIYnkREEtw9PIVuGFVXVyMhIQE7d+60On706FHcdddd/dIYEQ1uFp38x0CgOPNsaWlBfn4+4uKs10hcv34dRUVFCA0N7bfmiGjwGighKEtx5unr64s333wTYWFhVsc3bdqEtLQ0+Pr69ltzREQDlWJ4ent7w8/Pz+rY119/jVOnTuGhhx7qt8aIaHAb9Kfttrz00ktYuXKlcP07EcA4f7Hav8XIdOQ6p+/QugP7Pvm51h3Yt/9BrTuwb9cCrTuwL+tVrTtQz0AJQVkOh+elS5dQU1OD5557DgBQV1eH9PT0XjeTfir1pNjYf4sBYj9Rrht9QWw8UaLbM0/fAYz/Srlu2FXn+pH1yc+BmL8r1w25ru73Fd2euf9BYPYB5Tq1t2fedk6sbtcCIO1t5bq7v3Cun54CmsXqsl4FXs1SrlN7e+bc3eqOd5PHhefIkSNx8ODB7q9nzZplNziJiGwZ9OH5+eefo6CgALW1tfD29sb+/fuxYcMGDB/uwG9bICLqYdCH5z333IOSkpI+Xz906JCqDRGRZ3D38ORvVSIij9HQ0IDY2FgcP36812vl5eWYO3cujEYjTCaT4ljcnklEmtBi5rl27VrceuutvY63tLSgsLAQZWVl8PHxwbx585CYmGj38iRnnkSkCVev86yoqEBgYCDuvPPOXq9VVVUhMjISwcHB8PPzQ3R0NMxms93xGJ5EpAlXhmd7ezsKCwvx29/+1ubrDQ0NMBh+fAyDwWBAfX293TF52k5Emuiv03aTydTrmuW9994Lo9GIoUOHCo1hsSg/D0hnEakiInJjqampuHHjBgDg7NmzMBgMWL9+PcaPHw8AOH78OEpLS/Hqqz9s4crLy8ODDz6I+++/v88xGZ5E5FFyc3Pxy1/+ElOmTOk+1tbWhkcffRS7d++GXq/HnDlzUFZWhuDg4D7H4Wk7EXmsoqIixMbGIioqCtnZ2Vi0aBF0Oh2WLl1qNzgBzjyJiKTwbjsRkQSGJxGRBIYnEZGEAROea9asQUpKClJTU/HZZ59p3U4va9euRUpKCubOnYsvoxZAAAADvUlEQVQDBwR+KaUG2trakJCQgD179mjdSi/l5eVITk7GnDlzcOTIEa3b6dbc3IxnnnkGCxcuRGpqKo4ePap1S916PnjxwoULWLhwIdLS0vDss8+ivb1d4w4924AIz8rKSnzzzTcoLS3Fiy++iBdffFHrlqwcO3YMp0+fRmlpKbZs2YI1a9Zo3ZJNb7zxBoYNG6Z1G71cuXIFhYWF2LVrFzZt2oS//OUvWrfUbe/evRg7dixKSkqwfv36AfNvz9aDF1977TWkpaVh165dCA8PR1lZmYYd0oAIz4qKCiQkJAAAxo0bh6tXr+LaNcFfT+4CsbGxWL9+PQBg6NChaG1tRVdXl8ZdWTtz5gy++uorzJw5U+tWeqmoqEBcXByCgoIQFhaG/Px8rVvqFhISgsbGRgBAU1MTQkJCNO7oB7YevHj8+HE88MADAID7778fFRUVWrVHGCDh2dDQYPWPVmRfqSvp9XoEBPzwbIiysjLce++90Ov1GndlraCgALm5uVq3YdO3336LtrY2LF68GGlpaQPqh/7hhx/G+fPnkZiYiPT0dCxfvlzrlgDYfvBia2tr99NqR4wYMaB+RjzRgFwkP1CXnh48eBBlZWXYtm2b1q1Yee+99zB58mSbv2proGhsbMTGjRtx/vx5PPHEEzh8+DB0Ou1/G+6+ffswZswYbN26FadOncKKFSsG5DXjngbqz4gnGRDhGRYWhoaGhu6v6+rqEBoaqmFHvR09ehSbNm3Cli1bFHceuNqRI0dw7tw5HDlyBBcvXoSvry9GjRqFadOmad0agB9mSVFRUfD29sZtt92GwMBAfPfddxgxYoTWrcFsNmPGjBkAgAkTJqCurg5dXV0D7swCAAICAtDW1gY/Pz9cunTJ6pSeXG9AnLZPnz4d+/fvBwCcPHkSYWFhCAoK0rirH33//fdYu3YtNm/ePCCf3bRu3Trs3r0b7777LoxGI5YsWTJgghMAZsyYgWPHjuHGjRu4cuUKWlpaBsy1xfDwcFRVVQEAamtrERgYOCCDEwCmTZvW/XNy4MABxMfHa9yRZxsQM8/o6GhEREQgNTUVOp0Oq1at0rolK++//z6uXLmCZcuWdR8rKCjAmDFjNOzKfYwcORKzZ8/G/PnzAQArV66El9eA+P82UlJSsGLFCqSnp6OzsxOrV6/WuiUAth+8+PLLLyM3NxelpaUYM2YMHn/8ca3b9Gjc205EJGFg/O+fiMjNMDyJiCQwPImIJDA8iYgkMDyJiCQwPImIJDA8iYgkMDyJiCT8f9cBPisHJcVEAAAAAElFTkSuQmCC",
            "text/plain": [
              "<Figure size 576x396 with 2 Axes>"
            ]
          },
          "metadata": {
            "tags": []
          },
          "output_type": "display_data"
        },
        {
          "data": {
            "image/png": "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",
            "text/plain": [
              "<Figure size 576x396 with 2 Axes>"
            ]
          },
          "metadata": {
            "tags": []
          },
          "output_type": "display_data"
        },
        {
          "data": {
            "image/png": "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",
            "text/plain": [
              "<Figure size 576x396 with 2 Axes>"
            ]
          },
          "metadata": {
            "tags": []
          },
          "output_type": "display_data"
        },
        {
          "data": {
            "image/png": "iVBORw0KGgoAAAANSUhEUgAAAUwAAAFMCAYAAACgboVfAAAABHNCSVQICAgIfAhkiAAAAAlwSFlzAAALEgAACxIB0t1+/AAAADl0RVh0U29mdHdhcmUAbWF0cGxvdGxpYiB2ZXJzaW9uIDMuMC4zLCBodHRwOi8vbWF0cGxvdGxpYi5vcmcvnQurowAAIABJREFUeJzt3X1YlVW+N/Dv3mw2BL4hsFVMSDzuzJBezOcMpqFGYy8zHitKL0TzHCen0cqYehR8nKBDGBCnSdFCaTQGxwscsnLOU+EVZmgX2knPOGLDQDIgsZGXBEEBkb3380dPnCGQe3Hve7PY7O+na18X3f5Y+yfCj7Xutda9dHa73Q4iIlKkl50AEZGrYMEkIhLEgklEJIgFk4hIEAsmEZEgFkwiIkEsmEQ0IpWXlyMqKgr79u0DANTV1WHlypWIiYnBhg0b0NXVBQC4fPky1qxZg+eff16xTRZMIhpx2tvbkZycjIiIiJ5r27dvR0xMDPbv34+QkBAUFBQAABITEzF79myhdg1OyfZHblsbJBR3KPEIlryySDFOJ6nMf/ibI/iXZOX8tKYX/Pu+v+UIHn116PMTxfwcIyu/0rcsTml3xtNidaE/ZdkD52Q0GpGdnY3s7OyeaydPnsQrr7wCAFi4cCH27NmDmJgYvPrqqzh37hzKysoU33dICqao6ZNnyE5hQMM+vyDm5wjmN7Sc2fExGAwwGHqXt46ODhiNRgCAv78/GhsbAQCjRo0SbpdDciJyO2p3hA+rHiYRuQ+9Xjek7+fj44POzk54e3ujvr4eJpNp0G2wh0lEUuh06l9qzJ07F4WFhQCAw4cPY/78+YNugz1MIpJCdDJTjdLSUqSlpaG2thYGgwGFhYXIyMhAfHw88vPzERQUhKVLl8JqtWL16tVobW1FfX09Vq5ciXXr1vWaXf9Hqgvm1q1bcebMGeh0OmzevBnh4eGq/3JE5H50ThySh4WFITc3t8/1vXv39rnWX9yNqCqYX375Jaqrq5Gfn4/z589j8+bNyM/PV9MUEbkpZ/YwnUVVwSwpKUFUVBQAYNq0abh8+TKuXLkyqOl5InJvstZTO0JVyk1NTfDz8+v5//Hjx/esaSIiGqk0mfRRWtN0KPGI8KLvv+52zq4CrXydNbzzc9auDK0wP8cM9/wGQ692ulsiVQXTZDKhqamp5/8bGhoQGBh4w3iR7Y7A98VSZBulrK7811kWzHxG/XYutUTv9ZS+ZUHYuqHPTxTzc4ys/JxVpN1mSH7vvff2rGc6d+4cTCYT718S0aDo9epfsqjqYd599924/fbbsXz5cuh0OiQmJmqdFxGNcK7Yw1R9D/Oll17SMg8icjNDvTVSCy5Y44mI5ODWSCKSwgUnyVkwiUgOt9npQ0TkKGfuJXcWFkwikoI9zCFit2nb3nBf3mAbxN93MLFaccVvfJJvuP/c9cclCyYRuT5X3BrpgjWeiEgO9jCJSAoOyYmIBLnivW8WTCKSgsuKiIgEsYdJRCTIBSfJWTCJSA4+rYiIaARjD5OIpOCyIiIiQa44JGfBJCIpuDWSiEiQXq9T/RJRXl6OqKgo7Nu3DwBQV1eHlStXIiYmBhs2bEBXVxcA4NChQ3j88cfxxBNP4I9//OPAOTv2VyYiUseZBbO9vR3JycmIiIjoubZ9+3bExMRg//79CAkJQUFBAdrb27Fz5068++67yM3NRU5ODlpaWm6csyZ/cyKiQdLr9KpfSoxGI7Kzs2EymXqunTx5Evfffz8AYOHChSgpKcGZM2cwa9YsjB49Gt7e3rj77rtx+vTpG7bLe5hENOIYDAYYDL3LW0dHB4xGIwDA398fjY2NaGpqwvjx43tixo8fj8bGxhu365x0iYgGJnOW3G63D+r6DzgkJyIpnD3p82M+Pj7o7OwEANTX18NkMsFkMqGpqaknpqGhodcwvk/Oqt6ZiMhBep1O9UuNuXPnorCwEABw+PBhzJ8/H3fccQfOnj2L1tZWXL16FadPn8Y999xzwzaGZEiu0MsddKzWy7cGc0aQSOxw38Ew3J8So/Vjv+y2QXwD0pDRO/EbsbS0FGlpaaitrYXBYEBhYSEyMjIQHx+P/Px8BAUFYenSpfD09MSLL76INWvWQKfTYf369Rg9evQN2+U9TCKSwpn3MMPCwpCbm9vn+t69e/tce/DBB/Hggw8KtcuCSURScKcPEdEIxh4mEUnBh28QEQly5qSPs6gumOnp6Th16hS6u7vxy1/+Ej/96U+1zIuIRjidC97DVFUwT5w4gYqKCuTn56O5uRmPPvooCyYRDYrbDMnnzJmD8PBwAMCYMWPQ0dEBq9UKDw8PTZMjopHLbQqmh4cHfHx8AAAFBQW47777WCyJaFBEnjo03OjsSrvNB/Dpp59i165d2LNnz4Cr48try2CePEPt2xDRCPT8wX9W/bnbHzupYSbiVE/6HDt2DFlZWXjnnXcGLJYAsCRpkVCbZdkWzHg6SDFO1r3iv+624La1AvlJ+sX5dZYFM59Rzk/W5GTpWxaErRP5+snZGimanyyy8it9y+KUdt1mSN7W1ob09HS8++67GDdunNY5EZEbcMWdPqoK5kcffYTm5ma88MILPdfS0tIQFDR8fzsT0fDiNj3MZcuWYdmyZVrnQkRuxK0WrhMROcJthuRERI5yxSG56/WJiYgkYQ+TiKRwxR4mCyYRSeGKO31csmCq35vUP5lnBIkY7t9Xg1lorvWidK3fU0Z+7nrmEHuYRESC9DrXe/4ECyYRScF1mEREgjxcsIfpeiWeiEgS9jCJSAq93vV6mCyYRCQFJ32IiAQ5a9LHZrMhMTERFRUV8PT0RFJSEgDg5Zdfhk6nwy233IKkpCQYDIMvfyyYRCSFsyZ9ioqK0NbWhry8PFy4cAEpKSnQ6/VYu3YtIiMjsXPnTnz88cf4+c9/Pui2OelDRFLo9R6qXwOpqqrqOaQxODgYFoul17X58+fjiy++UJezqs8iInKQXqdX/RqI2WzG8ePHYbVaUVlZiZqaGgQEBODzzz8H8P3xOk1NTepyVvVZRETDVGRkJGbNmoUVK1YgJycHoaGhSE9Px8cff4xVq1bBbrdD7dmPvIdJRFI4c1lRXFxcz8dRUVGYMGECdu3aBeD7HmZDQ4OqdtnDJCIpPHQeql8DKSsrQ0JCAgCguLgYM2fOxI4dO3D06FEAwMGDB7FokdhJtj/GHiYRSeGsx7uZzWbY7XZER0fDy8sLGRkZ6OjowMaNG5GZmYl77rkHCxYsUNU2CyYRSeGsIbler0dqamqf6wUFBQ63zYJJRFJwpw8RkSAPF9xLzkkfIiJB7GESkRQ808dFed0kfraISGz3dXlntIg8z0Drc2sG8wwFofwkHvXiITBK1PpMKRu0PXPI6OUaZ+Xw8W5ERII46UNEJIhn+hARCXLFM31YMIlIClcckrten5iISBKHCmZnZyeioqJw8OBBrfIhIjfhrAcIO5NDQ/K3334bY8eO1SoXInIjbrUO8/z58/jmm29UP/WDiNybW22NTEtLQ3x8vJa5EJEb0es8VL9kUdXD/OCDD3DnnXdiypQpQvGHko7APHmGUGxZtkVNSkPmz9tqZacwoNK3hvfX78z24f31G+7/vmd3DO/8BsNthuRHjx5FTU0Njh49iosXL8JoNGLixImYO3duv/FLksSeblyWbcGMp4PUpOQQbx+xrWR/3laLOzdMVoyTtTWy9C0LwtYpf/1kbY08s70Wdzyv/PWTtTVS9N9X862RNrG4sztqMetZ5fy03hp56j++1bS9H7jisiJVBfPNN9/s+TgzMxOTJ0++YbEkIhopuHCdiKRwmx7mP3ruuee0yIOI3IzOHQsmEZEabtnDJCJSQw8WTCIiIexhEhEJcsWC6XorR4mIJBmSHuaEmz01jfWQ2C8eb1J+8yutgiuRBXV3ia+UNnop/w602eSdOSSyKF2v8cL6wRB5b5kbVEQWpQdOco2BI2fJiYgEOWvSx2azITExERUVFfD09ERSUhIuXbqEN954AwaDAT4+PkhPT1f1pDUWTCKSwll7yYuKitDW1oa8vDxcuHABKSkpaGxsREZGBkJDQ5GVlYX8/HysXbt20G2zYBKRFM6a9KmqqkJ4eDgAIDg4GBaLBQEBAWhpaQEAXL58GaGhoara5qQPEUnhrMe7mc1mHD9+HFarFZWVlaipqcGvfvUrrF+/HosXL8apU6fw6KOPqstZ1WcRETlIp/NQ/RpIZGQkZs2ahRUrViAnJwehoaF46623sGPHDhQWFmL27NnYv3+/qpw5JCeiEScuLq7n46ioKNTV1WH27NkAgLlz5+JPf/qTqnbZwyQiKfTwUP0aSFlZGRISEgAAxcXFmDlzJgICAvDNN98AAM6ePYuQkBBVObOHSURSOGvSx2w2w263Izo6Gl5eXsjIyEBdXR22bNkCT09PjB07Flu3blXVNgsmEUnhrIKp1+uRmpra69qkSZOQl5fncNssmEQkhSvuJWfBJCIpuDWSiEiQKz4Pk7PkRESC2MMkIinc5lxyIiJHcdKHiEgQCyYRkSCdC076sGASkRTsYRIRCWLBvAF/k1HTWIOHtrNro3y8hWNvCRmnGFPf1OpIOn18d7FbOFbkzBedxmfmdF0TPyPIwzD05/Xc5Cv+/eIzWjl2MO2J6OoU//qNGqNcZMaM8XIkHRoAe5hEJIXOBZeBs2ASkSTyTgdViwWTiKRgD5OISJCOPUwiIlGu18NUnfGhQ4ewZMkSPPbYYzh69KiGKRGRO9A58J8sqgpmc3Mzdu7cif379yMrKwtFRUVa50VENOyoGpKXlJQgIiICo0aNwqhRo5CcnKx1XkQ0wulc8GlFOrvdLr5q9v/bvXs3Kisr0dLSgtbWVjz33HOIiIi4YfyFS+UIHm92KFEiGlmaOs6r/tyAm6ZpmIk41ZM+LS0t2LFjBywWC1atWoXPPvsMOl3/9xZeyH9EqM2Dv6rAY29PV4yTtdNnT+wZ/Nu+OxTjZO30OZFag5/ET1GM0/oXu+hOn1P/8S1mv3iztm8uQHRnzvF/v4B5Lwdr1p4o0Z0+nydWI/IV5eNhJ0wS37km4sDav2na3g9ccVmRqoz9/f1x1113wWAwIDg4GL6+vrh06ZLWuRHRCOY2kz7z5s3DiRMnYLPZ0NzcjPb2dvj5+WmdGxGNaHoHXnKoGpJPmDABixcvxpNPPgkA2LJlC/R61+teE5E8brVwffny5Vi+fLmWuRARDWvc6UNEUrjipA8LJhFJ4pwhuc1mQ2JiIioqKuDp6YmkpCRs27YNzc3NAL5f4XPnnXeqWj/OgklEUjirh1lUVIS2tjbk5eXhwoULSElJwa5du3r+PCEhAU888YSqtlkwiUgKZ036VFVVITw8HAAQHBwMi8UCq9UKDw8PVFZWoq2trefPB2tICmb71euaxnrfpO1ZIN1Wq6ax04IDHUmnD72+UTg2MEj5n/RGGwzUar8i/vXzC1D+t7ve5Ug2fd0VPlE49p67JinGTA4Ub0+EwcNTOHbpT+coxnx68pQj6Qwh5/QwzWYzcnJy8NRTT6G6uho1NTVobm5GQEAAfv/73yM2NlZ1265315WIRgQd9KpfA4mMjMSsWbOwYsUK5OTkIDQ0FHa7HV1dXTh16hR+8pOfqM6ZQ3IiGnHi4uJ6Po6KioK/vz9KSkpUD8V/wB4mEUnhrK2RZWVlSEhIAAAUFxdj5syZ0Ov1OHv2LGbMmOFQzuxhEpEcTnq8m9lsht1uR3R0NLy8vJCRkQEAaGxsRHCw8sNVBsKCSURSOGuWXK/XIzU1tc/13/zmNw63zYJJRFJwpw8RkTA3evgGEZEjXLGH6XoZExFJwh4mEUnhVs/DJCJyDAsmEZGYQZ9XKx8LJhFJoRv8Cd/SsWASkRyuVy9ZMIlIEhcsmFxWREQkiD1MIpKD9zCJiMToXK9esmASkSQsmP0L8PfVNNY0fowj6fRhs9mEY8ePUc4vYNw4R9Lppz3xv++csGmKMV3Xxc9YEtF1vVs49u5ZNyvGfFvf7Eg6fWy4/w1NY70NoxxJpx/iC7iX3/GyYszZ8ysdSWbocEhORCTI9eolZ8mJiESxYBIRCeKQnIik4NZIIiJRrlcv1RXMq1evYtOmTbh8+TKuX7+O9evXY/78+VrnRkQjmbsUzPfffx9Tp07Fiy++iPr6ejz11FP45JNPtM6NiEYyFxySq5r08fPzQ0tLCwCgtbUVfn5+miZFRCOfzq7+JYuqHuYjjzyCgwcP4oEHHkBrayt27dqldV5ENNK5XgcTOrt98P3iDz/8EF999RWSk5NRVlaGzZs34+DBgzeMr2muwBS/6Q4lSkQjS3d9m+rPNUwYrWEmg3hfNZ90+vRpzJs3DwAwY8YMNDQ0wGq1wsPDo9/4hA+WCrW771/PIXbv7YpxsrZGvvnoSbzw/j8rxmm9NdJmtwrFvbzoU/z7kSjFOFlbI9N/9gU2/ue9inFab41MeSJbKG7qmHvx99YvFONkbY2c5BOOuva/KMb9n4Pabo3cE3tG0/Z6OKmHabPZkJiYiIqKCnh6eiIpKQnBwcGIj49HdXU1fH19sX37dowdO3bQbau6hxkSEoIzZ77/ItbW1sLX1/eGxZKIqF92u/rXAIqKitDW1oa8vDykpKQgPT0dBw4cgJ+fHwoKCvDwww/jq6++UpWyqh7msmXLsHnzZsTGxqK7uxtJSUmq3pyI3JezJm+qqqoQHh4OAAgODobFYsFnn32G559/HsD39UstVQXT19cX27ZtU/2mRETOYjabkZOTg6eeegrV1dWoqalBd3c3iouL8frrryMgIACJiYkYp+LWGfeSE5EcThqSR0ZGYtasWVixYgVycnIQGhoKu92OqVOnIjc3F9OnT1e9sodbI4loxImLi+v5OCoqCiaTCXPmzAEAzJs3D5mZmaraZQ+TiOSwO/AaQFlZGRISEgAAxcXFmDlzJhYsWIBjx44BAM6dO4epU6eqSpk9TCKSwlmTPmazGXa7HdHR0fDy8kJGRgbGjRuHTZs2oaCgAD4+PkhLS1PVNgsmEcnhpL3ker0eqampfa5v377d4baHpGAGT/LXNHbCuEmOpNPHTUbxM4dmhigvrA8JMDuSTh9d3Z3CsXfdMk8xprxOefHzYDRf+U441uip/C2n14ufcSMiwPNWTWMNEP9+EfH1lQ+F4ib5hMNy9WvFuAs1LY6mNDRccGske5hEJIfN9SomCyYRSaHiMRbScZaciEgQe5hEJIfYM2+GFRZMIpLCznuYRESCXPAeJgsmEUnBHiYRkSgWTCIiMVxWREQ0grGHSURycFkREZEYVxySs2ASkRyc9CEiEsNlRUREojgkJyIS44o9TC4rIiISxB4mEcnBZUVERGK4rOgGpk0QP1NFJDZg9ERH0uljwqhQ4djwoPmKMdesVx1Jp4//Ov+ZUNzPQ4Ez1SWKcSVnyh1NqZcrlwW7CouBYyeqFMMm36ztmTnGbh9NY+u3HXUgm74CrKPFAhOBgLeUY00af/2cxgXvYbKHSURysGASEYnhkJyISJQLTvpwWRERkSD2MIlICldcuC5UMMvLy7Fu3TqsXr0asbGxqKurw8aNG2G1WhEYGIjXX38dRqPR2bkS0UjipHuYNpsNiYmJqKiogKenJ5KSkpCdnY1z585h3LhxAIA1a9ZgwYIFg25bsWC2t7cjOTkZERERPde2b9+OmJgYPPTQQ3jjjTdQUFCAmJiYQb85EbkvZ/Uwi4qK0NbWhry8PFy4cAEpKSnw8/PDr3/9ayxcuNChthXvYRqNRmRnZ8NkMvVcO3nyJO6//34AwMKFC1FSorz2j4ioF5td/WsAVVVVCA8PBwAEBwfDYrHAarVqkrJiwTQYDPD29u51raOjo2cI7u/vj8bGRk2SISL3YbfbVb8GYjabcfz4cVitVlRWVqKmpgbNzc3Yt28fVq1ahbi4OFy6dElVzjq74GKozMxM+Pn5ITY2FhERET29yurqamzatAl5eXk3/Nzmjlr43TRZVYJENDK1fqR+x9mYh80D/vlvf/tbnDx5ErfeeivOnj2L1atXY/r06bjtttuwe/duXLx4ES+//PKg31fVLLmPjw86Ozvh7e2N+vr6XsP1/hwsSxJqd81d2fjdfz+tGCdra+RPJv4rTlzcqxin9dbIY+V/EorbsrAQr362WDFO1tbIzxOrEflKiGKc1lsj9z75lVCc12gfXGtrV4yr3/a5oyn1YreKff1CEh9B9Sv/VzEu4eb/7WhKvexf87Wm7Q2FuLi4no+joqLws5/9DHr99wPqRYsWISkpSVW7qtZhzp07F4WFhQCAw4cPY/585f3VRET/yG61qX4NpKysDAkJCQCA4uJizJw5Exs2bEBNTQ2A7+dgpk+fripnxR5maWkp0tLSUFtbC4PBgMLCQmRkZCA+Ph75+fkICgrC0qVLVb05EbkvZ82Sm81m2O12REdHw8vLCxkZGaiursYLL7yAm266CT4+PnjttddUta1YMMPCwpCbm9vn+t69ykNTIqIbEb0VMVh6vR6pqam9rk2aNAnvvfeew21zpw8RyWFzvc3kLJhEJIXdOkK3RhIRac3ugj1MPq2IiEgQe5hEJIWzJn2caUgKpmms+C4fkdgxXgGOpNOHh178SUsisZX1JxxJp4/jp/4mFrhQLLaxrtvBjHrz9NQJx17rUP4hMY0XPONGkF08PaFYW+d19cn0w5IjtrA+JPER1L5zUjHu7fIiR1MaGi44JGcPk4ikGLHPwyQi0hqH5EREglxxlpwFk4jkcMEeJpcVEREJYg+TiKTgpA8RkSBO+hARCeKkDxGRKD58g4hIDHuYRESCXPEeJpcVEREJYg+TiKTgkJyISBQnfYiIxLCHSUQkyBUnfVgwiUgK9jCJiES54D1MLisiIhI0JD3Mhsu1msZeH9XlSDp9NNq/FYqbYwKqW84qxnV0tTuaUi8TTeJn3IjE2m1tjqTTh24Qv3bHBXgoxkz0D3Qgm77a9GL/vt4wC8VO2hTlaEq924ueIxw7+0+/Uoy5Yr/mSDpDxllDcpvNhsTERFRUVMDT0xNJSUmYNm0aAODYsWP4xS9+gb/9TfCcrB/hkJyIpLB3O6dgFhUVoa2tDXl5ebhw4QJSUlKwa9cuXLt2Dbt370ZgoPpfyBySE5EUdqtN9WsgVVVVCA8PBwAEBwfDYrHAarUiKysLMTExMBrFT4n9MRZMIpLC3m1T/RqI2WzG8ePHYbVaUVlZiZqaGpSWlqKsrAwPPfSQQzlzSE5EUjhrHWZkZCROnz6NFStW4NZbb0VoaCjeeOMNJCcnO9w2CyYRSeGse5gAEBcX1/PxokWL0NLSgpdeegkA0NDQgNjYWOzbt2/Q7QoNycvLyxEVFdXzBnV1dVi9ejViY2OxevVqNDY2DvqNiYicoaysDAkJCQCA4uJihIWF4ciRIzhw4AAOHDgAk8mkqlgCAj3M9vZ2JCcnIyIioufam2++iSeffBIPP/ww/vCHP2Dv3r3YuHGjqgSIyD05q4dpNptht9sRHR0NLy8vZGRkaNa2YsE0Go3Izs5GdnZ2z7XExER4eXkBAPz8/HDu3DnNEiIi92B30k4fvV6P1NTUG/75kSNHVLetWDANBgMMht5hPj4+AACr1Yr9+/dj/fr1qhMgIvfkzHuYzqKz2+1CZT4zMxN+fn6IjY0F8H2x3LhxI6ZOnYpnn312wM9t7qiF302THc+WiEaMr5fvUf25M/P+TcNMxKmeJU9ISEBISIhisQSAg2VJQm2uuSsbv/vvpxXj/EZpu3XOZhf7TRdtTkVBebxi3GC2gor48q9/Fop7d9VZrP79LMW4uotytkZ+8lIVHsy4RTFuwf8KcyyhH1lzzxtCcYE+ZjS2lyvGjbHe7GhKvZ2/LBTmdeckXPtznWLcFbO2WyP9fW7RtL0fuGIPU1XBPHToEDw9PfH8889rnQ8RuYkRWTBLS0uRlpaG2tpaGAwGFBYW4rvvvoOXlxdWrlwJAJg2bRqSkpKcnSsRkVSKBTMsLAy5ublDkQsRuRE+cZ2ISNCIHJITETkDCyYRkSAOyYmIBLGHSUQkiD3MG7hyrVXT2NbOZkfS6cMmeraIGahuVF7Y7OslfgaPiBm3hGga295Z4Ug6fYwf6ysce8uU8coxgWZH0umj3XpJ09gxdm13rX3x4DahuEUXU4Vib934U0dT6u3Xt2jbngtjD5OIpOCQnIhIEAsmEZEgZz3ezZlYMIlICvYwiYgEcZaciEiQK/YweS45EZEg9jCJSApX7GGyYBKRFLyHSUQkiAWTiEiQ6FlawwkLJhFJYRM7sHZYYcEkIims7GESEclls9mQmJiIiooKeHp6IikpCa2trUhPT4fBYIDRaMTrr7+O8eOVn5z1YyyYRCSFs+5hFhUVoa2tDXl5ebhw4QJSUlLg5eWF9PR0TJkyBTt27MCBAwfwzDPPDLptFkwiksJZ9zCrqqoQHh4OAAgODobFYsEHH3wADw8P2O121NfXY/bs2ara5k4fIpLCZrepfg3EbDbj+PHjsFqtqKysRE1NDZqbm1FcXIwHH3wQTU1NWLJkiaqcWTCJSApnFczIyEjMmjULK1asQE5ODkJDQ2G323Hffffhk08+QWhoKHbv3q0qZw7JiUgKZy4riouL6/k4KioKp0+fxuLFi6HT6bB48WJkZmaqandICuY4H39NY6ublM/VGYyu69eFY5uvfKcY09F11ZF0+tDrPYRjRW6kd2u8w8LgIZ6fSOxtgfMcSaeP8YZ/0jS2+8tGR9Lp40yD2BlLiwRjDRni/x4iJv96kabt/cBZkz5lZWXIycnBa6+9huLiYsycORM7d+5EcHAwbrvtNpw5cwZTp05V1TZ7mEQ0opjNZtjtdkRHR8PLywsZGRloamrCK6+8Ag8PD3h7eyM9PV1V2yyYRCSFsxau6/V6pKam9ro2adIk5OXlOdw2CyYRScGtkUREgvjwDSIiQa5YMIXWYZaXlyMqKgr79u3rdf3YsWO49dZbnZIYEY1sNrtd9UsWxR5me3s7kpOTERER0ev6tWvXsHv3bgQGBjotOSIauUZkD9NoNCI7Oxsmk6nX9aysLMTExMBoNDotOSKi4URNyJAPAAAFdklEQVSxYBoMBnh7e/e69ve//x1lZWV46KGHnJYYEY1sVrtN9UsWnd0udkMgMzMTfn5+iI2Nxdq1a7FlyxYEBwdj0aJFOHLkyICf29xpgZ93kCYJE9HI8K7PatWfu7r9Xc3yGIxBz5LX19ejsrISL730EgCgoaEBsbGxfSaE/tGh8leF2n4q/C3k/GWdYpysrZGvLv4cWwojFeO8jd6KMYMhujVyc+RH2Pr5w4pxX30tthVPVFDgOKG4HdH/hWcL5ijGPb0gwdGUegn1vU8obvRNAWjraFKM0395xdGUetm98EWhuDjbe/it/nHFuNkTZziaUi/3WVI0be8HbrEOc8KECfj00097/n/RokUDFksiov644qSPYsEsLS1FWloaamtrYTAYUFhYiMzMTIwbJ9arICLqz4gsmGFhYcjNzb3hnyvdvyQi6o8rDsn5AGEiIkHcGklEUvCYXSIiQSPyHiYRkTO44j1MFkwiksIVe5jCO32IiNwdZ8mJiASxYBIRCWLBJCISxIJJRCSIBZOISBALJhGRoGFTMLdu3Yply5Zh+fLl+Mtf/iI7nT7S09OxbNkyPP744zh8+LDsdPrV2dmJqKgoHDx4UHYqfRw6dAhLlizBY489hqNHj8pOp8fVq1fx7LPPYuXKlVi+fDmOHTsmO6UePz58sK6uDitXrkRMTAw2bNiArq4uyRm6n2FRML/88ktUV1cjPz8fKSkpSElxzgNL1Tpx4gQqKiqQn5+Pd955B1u3bpWdUr/efvttjB07VnYafTQ3N2Pnzp3Yv38/srKyUFRUJDulHu+//z6mTp2K3NxcbNu2bdh87/V3+OD27dsRExOD/fv3IyQkBAUFBRIzdE/DomCWlJQgKioKADBt2jRcvnwZV65o+1RrR8yZMwfbtm0DAIwZMwYdHR2wWq2Ss+rt/Pnz+Oabb7BgwQLZqfRRUlKCiIgIjBo1CiaTCcnJybJT6uHn54eWlhYAQGtrK/z8/CRn9L3+Dh88efIk7r//fgDAwoULUVJSIis9tzUsCmZTU1Ovb9Tx48ejsbFRYka9eXh4wMfHBwBQUFCA++67Dx4eYsdGDJW0tDTEx8fLTqNf3377LTo7O/HMM88gJiZmWP2gP/LII7BYLHjggQcQGxuLTZs2yU4JQP+HD3Z0dPSc0urv7z+sfkbcxbDcSz5cd2t++umnKCgowJ49e2Sn0ssHH3yAO++8E1OmTJGdyg21tLRgx44dsFgsWLVqFT777DPodDrZaeHDDz9EUFAQfve736GsrAybN28elveAf2y4/oyMdMOiYJpMJjQ1/c/hUw0NDQgMDJSYUV/Hjh1DVlYW3nnnHYwePVp2Or0cPXoUNTU1OHr0KC5evAij0YiJEydi7ty5slMD8H1v6K677oLBYEBwcDB8fX1x6dIl+Pv7y04Np0+fxrx58wAAM2bMQENDA6xW67AbQQCAj48POjs74e3tjfr6+l7DdRoaw2JIfu+996KwsBAAcO7cOZhMJowaNUpyVv+jra0N6enp2LVr17A8y+jNN9/Ee++9hwMHDuCJJ57AunXrhk2xBIB58+bhxIkTsNlsaG5uRnt7+7C5VxgSEoIzZ84AAGpra+Hr6zssiyUAzJ07t+fn5PDhw5g/f77kjNzPsOhh3n333bj99tuxfPly6HQ6JCYmyk6pl48++gjNzc144YUXeq6lpaUhKIhnrYuYMGECFi9ejCeffBIAsGXLFuj1w+J3NZYtW4bNmzcjNjYW3d3dSEpKkp0SgP4PH8zIyEB8fDzy8/MRFBSEpUuXyk7T7fDxbkREgobHr3kiIhfAgklEJIgFk4hIEAsmEZEgFkwiIkEsmEREglgwiYgEsWASEQn6f/X81UOtEZvIAAAAAElFTkSuQmCC",
            "text/plain": [
              "<Figure size 576x396 with 2 Axes>"
            ]
          },
          "metadata": {
            "tags": []
          },
          "output_type": "display_data"
        },
        {
          "data": {
            "image/png": "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",
            "text/plain": [
              "<Figure size 576x396 with 2 Axes>"
            ]
          },
          "metadata": {
            "tags": []
          },
          "output_type": "display_data"
        },
        {
          "data": {
            "text/plain": [
              "()"
            ]
          },
          "execution_count": 8,
          "metadata": {
            "tags": []
          },
          "output_type": "execute_result"
        }
      ],
      "source": [
        "pyWAPOR.Functions.Processing_Functions.Show_tif(r\"/content/sample_data/RAW/GEOS/Air_Temperature/daily/t2m_GEOS_K_daily_2018.07.03.tif\", None, \"coolwarm\")\n",
        "pyWAPOR.Functions.Processing_Functions.Show_tif(r\"/content/sample_data/RAW/GEOS/Eastward_Wind/daily/u2m_GEOS_m-s-1_daily_2018.07.03.tif\", None, \"plasma\")\n",
        "pyWAPOR.Functions.Processing_Functions.Show_tif(r\"/content/sample_data/RAW/GEOS/Northward_Wind/daily/v2m_GEOS_m-s-1_daily_2018.07.03.tif\", None, \"cool\")\n",
        "pyWAPOR.Functions.Processing_Functions.Show_tif(r\"/content/sample_data/RAW/GEOS/Sea_Level_Pressure/daily/slp_GEOS_kpa_daily_2018.07.03.tif\", None, \"copper\")\n",
        "pyWAPOR.Functions.Processing_Functions.Show_tif(r\"/content/sample_data/RAW/GEOS/Specific_Humidity/daily/qv2m_GEOS_kg-kg-1_daily_2018.07.03.tif\", None, \"RdBu\")\n",
        "pyWAPOR.Functions.Processing_Functions.Show_tif(r\"/content/sample_data/RAW/GEOS/Surface_Pressure/daily/ps_GEOS_kpa_daily_2018.07.03.tif\", None, \"PiYG\")\n",
        "pyWAPOR.Functions.Processing_Functions.Show_tif(r\"/content/sample_data/RAW/GEOS/Total_Precipitable_Water_Vapor/daily/tqv_GEOS_mm_daily_2018.07.03.tif\")"
      ]
    },
    {
      "cell_type": "markdown",
      "metadata": {
        "id": "Vn0oi5xzaBh9"
      },
      "source": [
        "For the 3-hourly function the user need to specify one more parameter, namely the periods that needs to be collected. It is optional, if no period is filled in, all the periods will be downloaded. The period is defined as the 7th parameter and is a value between 1 and 8 in which period 1 means time between 00:00 and 03:00, period 2 means period between 03:00 and 06:00, etc..\n",
        "\n",
        "7. Period defined as an Array: [1, 2, 3, 4, 5, 6, 7, 8,]\n",
        "\n",
        "In order to run the 3-hourly function for the mentioned date and for time period 4 and 5 (means time between 09:00 till 12:00 and 12:00 till 15:00) and space, the following command can be applied:"
      ]
    },
    {
      "cell_type": "code",
      "execution_count": null,
      "metadata": {
        "id": "0wN3TP7Ea3_l"
      },
      "outputs": [],
      "source": [
        "pyWAPOR.Collect.GEOS.three_hourly(r\"/content/sample_data/RAW\", [\"t2m\", \"u2m\", \"v2m\", \"qv2m\", \"tqv\", \"ps\", \"slp\"], \"2018-07-03\", \"2018-07-05\", [28.5, 31.9], [29.2, 32.5], [4, 5])"
      ]
    },
    {
      "cell_type": "markdown",
      "metadata": {
        "id": "LHHQU4dyTczV"
      },
      "source": [
        "**Show 3 hourly GEOS data:**\n",
        "1. Air Temperature\n",
        "2. Eastward wind component\n",
        "3. Northward wind component\n",
        "4. Sea Level Air Pressure\n",
        "5. Specific Humidity\n",
        "6. Surface Air Pressure\n",
        "7. Total Precipitable Water Vapor"
      ]
    },
    {
      "cell_type": "code",
      "execution_count": null,
      "metadata": {
        "id": "qLXk6JVtTlrG"
      },
      "outputs": [],
      "source": [
        "pyWAPOR.Functions.Processing_Functions.Show_tif(r\"/content/sample_data/RAW/GEOS/Air_Temperature/three_hourly/t2m_GEOS_K_3-hourly_2018.07.03_H09.M00.tif\", None, \"coolwarm\")\n",
        "pyWAPOR.Functions.Processing_Functions.Show_tif(r\"/content/sample_data/RAW/GEOS/Eastward_Wind/three_hourly/u2m_GEOS_m-s-1_3-hourly_2018.07.03_H09.M00.tif\", None, \"plasma\")\n",
        "pyWAPOR.Functions.Processing_Functions.Show_tif(r\"/content/sample_data/RAW/GEOS/Northward_Wind/three_hourly/v2m_GEOS_m-s-1_3-hourly_2018.07.03_H09.M00.tif\", None, \"cool\")\n",
        "pyWAPOR.Functions.Processing_Functions.Show_tif(r\"/content/sample_data/RAW/GEOS/Sea_Level_Pressure/three_hourly/slp_GEOS_kpa_3-hourly_2018.07.03_H09.M00.tif\", None, \"copper\")\n",
        "pyWAPOR.Functions.Processing_Functions.Show_tif(r\"/content/sample_data/RAW/GEOS/Specific_Humidity/three_hourly/qv2m_GEOS_kg-kg-1_3-hourly_2018.07.03_H09.M00.tif\", None, \"RdBu\")\n",
        "pyWAPOR.Functions.Processing_Functions.Show_tif(r\"/content/sample_data/RAW/GEOS/Surface_Pressure/three_hourly/ps_GEOS_kpa_3-hourly_2018.07.03_H09.M00.tif\", None, \"PiYG\")\n",
        "pyWAPOR.Functions.Processing_Functions.Show_tif(r\"/content/sample_data/RAW/GEOS/Total_Precipitable_Water_Vapor/three_hourly/tqv_GEOS_mm_3-hourly_2018.07.03_H09.M00.tif\")"
      ]
    },
    {
      "cell_type": "markdown",
      "metadata": {
        "id": "5c-rgQpNa-4N"
      },
      "source": [
        "### 1.3 GlobCover\n",
        "\n",
        "The Globcover is a static map giving the land use type of the globe. The downloaded version of Globcover is V2.3. Because this map is static, no time period has to be defined.\n",
        "\n",
        "The required inputs in order to run this function are:\n",
        "1. output folder, in which the end product will be stored as a tiff file and in the WGS84 projection. \n",
        "2. Latitude Limits as an array with the following format: [Ymin, Ymax]\n",
        "3. Longitude Limits as an array with the following format: [Xmin, Xmax]\n",
        "\n",
        "The following code can download the GlobCover map for the defined area:"
      ]
    },
    {
      "cell_type": "code",
      "execution_count": null,
      "metadata": {
        "id": "PwnPmk6Da-Dt"
      },
      "outputs": [],
      "source": [
        "pyWAPOR.Collect.Globcover.Landuse(r\"/content/sample_data/RAW\", [28.5, 31.9], [29.2, 32.5])"
      ]
    },
    {
      "cell_type": "markdown",
      "metadata": {
        "id": "Q7IxQisWU72I"
      },
      "source": [
        "**Show GlobCover data:**"
      ]
    },
    {
      "cell_type": "code",
      "execution_count": null,
      "metadata": {
        "id": "edbhM3qYVDeI"
      },
      "outputs": [],
      "source": [
        "pyWAPOR.Functions.Processing_Functions.Show_tif(r\"/content/sample_data/RAW/GlobCover/Landuse/LC_GLOBCOVER_V2.3.tif\", None, \"Set3\")"
      ]
    },
    {
      "cell_type": "markdown",
      "metadata": {
        "id": "lNm4b7K4b1v8"
      },
      "source": [
        "### 1.4 MCD43\n",
        "\n",
        "The MCD43A3 is a daily combined MODIS product based on the AQUA and TERRA MODIS satellites. Two parameters are used to calculate the surface albedo, namely the diffuce [Albedo_WSA_shortwave] and direct [Albedo_BSA_shortwave] term. The daily surface albedo is calculated by: ALBEDO = 0.3 * Diffuse + 0.7 * Direct. The data is globally available for the period: 2000-02-24 till now.  For the MCD43 data the NASA account is required.\n",
        "\n",
        "The required inputs in order to run this function are:\n",
        "1. output folder, in which the end product will be stored as a tiff file and in the WGS84 projection. \n",
        "2. Startdate as a string in the following format: \"yyyy-mm-dd\"\n",
        "3. Enddate as a string in the following format: \"yyyy-mm-dd\"\n",
        "4. Latitude Limits as an array with the following format: [Ymin, Ymax]\n",
        "5. Longitude Limits as an array with the following format: [Xmin, Xmax]\n",
        "6. username of your NASA account\n",
        "7. password of your NASA account\n",
        "\n",
        "In order to run the function for the Nile Delta for the sample period, the following command can be applied:\n"
      ]
    },
    {
      "cell_type": "code",
      "execution_count": null,
      "metadata": {
        "id": "_GO_6yz-fG1l"
      },
      "outputs": [],
      "source": [
        "pyWAPOR.Collect.MCD43.ALBEDO(r\"/content/sample_data/RAW\", \"2009-07-03\", \"2009-07-05\", [28.5, 31.9], [29.2, 32.5], username, password)"
      ]
    },
    {
      "cell_type": "markdown",
      "metadata": {
        "id": "WuN8SYPtVuFf"
      },
      "source": [
        "**Show ALBEDO data:**"
      ]
    },
    {
      "cell_type": "code",
      "execution_count": null,
      "metadata": {
        "id": "RxzEZ8iWVytv"
      },
      "outputs": [],
      "source": [
        "pyWAPOR.Functions.Processing_Functions.Show_tif(r\"/content/sample_data/RAW/MODIS/MCD43/Albedo_MCD43A3_-_daily_2009.07.03.tif\", None, \"Greys\")"
      ]
    },
    {
      "cell_type": "markdown",
      "metadata": {
        "id": "n8SX6HAffM1U"
      },
      "source": [
        "### 1.5 MERRA\n",
        "\n",
        "From the MERRA database the weather data can also be collected for the period before the GEOS era. Within this functions there are 5 different functions:\n",
        "The MERRA dataset (available between 1st of July till 31th December 2015):\n",
        "1. three_hourly\n",
        "2. daily\n",
        "\n",
        "The MERRA2 dataset (available between 1980 till now):\n",
        "3. hourly_MERRA2\n",
        "4. daily_MERRA2\n",
        "\n",
        "Functions to calculate the yearly amplitude using MERRA (NOTE: for years after 2015, the year 2015 is used to get the amplitude because of the period that is covered within the MERRA database. It is possible to get the amplitude from the MERRA2 database, but because this is not collected from an OpenDAP system but single NetCDF files that includes many variables, this might take to long):\n",
        "5. yearly_T_Amplitude\n",
        "\n",
        "The MERRA dataset is collected from an OpenDAP system, which makes it faster to collect the datasets. Therefor this dataset is preferred to use to run the ETLook model. For the MERRA2 data the NASA account is required.\n",
        "\n",
        "For the MERRA and MERRA2 the following paramters can be downloaded:\n",
        "1. t2m  =  2m Air Temperature\n",
        "2. u2m = 2m Eastward wind\n",
        "3. v2m = 2m Northward wind\n",
        "4. q2m = 2m Specific Humidity\n",
        "5. tpw = Total Precipitable Water Vapor\n",
        "6. ps = Surface Pressure\n",
        "7. slp = Sea Level Pressure\n",
        "8. swgnet = Surface Net Downward Shortwave Flux\n",
        "\n",
        "For the MERRA daily functions the following parameters have to be defined:\n",
        "1. output folder, in which the end product will be stored as a tiff file and in the WGS84 projection. \n",
        "2. Define the variables that has to be collected like an Array inlcuding strings: [\"t2m\", \"u2m\"]\n",
        "3. Startdate as a string in the following format: \"yyyy-mm-dd\"\n",
        "4. Enddate as a string in the following format: \"yyyy-mm-dd\"\n",
        "5. Latitude Limits as an array with the following format: [Ymin, Ymax]\n",
        "6. Longitude Limits as an array with the following format: [Xmin, Xmax]\n",
        "\n",
        "To run the code for our area and time period to get all the possible weather input on daily basis, the following function can be used:. "
      ]
    },
    {
      "cell_type": "code",
      "execution_count": null,
      "metadata": {
        "id": "vT7T7ILHk4Ez"
      },
      "outputs": [],
      "source": [
        "pyWAPOR.Collect.MERRA.daily(r\"/content/sample_data/RAW\", [\"t2m\", \"u2m\", \"v2m\", \"q2m\", \"tpw\", \"ps\", \"slp\", \"swgnet\"], \"2009-07-03\", \"2009-07-05\", [28.5, 31.9], [29.2, 32.5])"
      ]
    },
    {
      "cell_type": "markdown",
      "metadata": {
        "id": "KI3efG-eXIiw"
      },
      "source": [
        "**Show daily MERRA data:**\n",
        "1. Air Temperature\n",
        "2. Eastward wind component\n",
        "3. Northward wind component\n",
        "4. Sea Level Air Pressure\n",
        "5. Specific Humidity\n",
        "6. Surface Air Pressure\n",
        "7. Total Precipitable Water Vapor\n",
        "8. Surface Net Downward Shortwave Flux"
      ]
    },
    {
      "cell_type": "code",
      "execution_count": null,
      "metadata": {
        "id": "oikCn8BKXTFg"
      },
      "outputs": [],
      "source": [
        "pyWAPOR.Functions.Processing_Functions.Show_tif(r\"/content/sample_data/RAW/MERRA/Air_Temperature/daily/t2m_MERRA_K_daily_2009.07.03.tif\", None, \"coolwarm\")\n",
        "pyWAPOR.Functions.Processing_Functions.Show_tif(r\"/content/sample_data/RAW/MERRA/Eastward_Wind/daily/u2m_MERRA_m-s-1_daily_2009.07.03.tif\", None, \"plasma\")\n",
        "pyWAPOR.Functions.Processing_Functions.Show_tif(r\"/content/sample_data/RAW/MERRA/Northward_Wind/daily/v2m_MERRA_m-s-1_daily_2009.07.03.tif\", None, \"cool\")\n",
        "pyWAPOR.Functions.Processing_Functions.Show_tif(r\"/content/sample_data/RAW/MERRA/Sea_Level_Pressure/daily/slp_MERRA_kpa_daily_2009.07.03.tif\", None, \"copper\")\n",
        "pyWAPOR.Functions.Processing_Functions.Show_tif(r\"/content/sample_data/RAW/MERRA/Specific_Humidity/daily/q2m_MERRA_kg-kg-1_daily_2009.07.03.tif\", None, \"RdBu\")\n",
        "pyWAPOR.Functions.Processing_Functions.Show_tif(r\"/content/sample_data/RAW/MERRA/Surface_Pressure/daily/ps_MERRA_kpa_daily_2009.07.03.tif\", None, \"PiYG\")\n",
        "pyWAPOR.Functions.Processing_Functions.Show_tif(r\"/content/sample_data/RAW/MERRA/Total_Precipitable_Water_Vapor/daily/tpw_MERRA_mm_daily_2009.07.03.tif\")\n",
        "pyWAPOR.Functions.Processing_Functions.Show_tif(r\"/content/sample_data/RAW/MERRA/Surface_Net_Downward_Shortwave_Flux/daily/swgnet_MERRA_W-m-2_daily_2009.07.03.tif\")"
      ]
    },
    {
      "cell_type": "markdown",
      "metadata": {
        "id": "MSdz7vn2k7_S"
      },
      "source": [
        "One more input is required for the three_hourly function, and that is just like the GEOS three_hourly function the period. Also here it is an optional parameter and if not defined, all the periods will be downloaded. The period is defined as the 7th parameter and is a value between 1 and 8 in which period 1 means time between 00:00 and 03:00, period 2 means period between 03:00 and 06:00, etc..\n",
        "\n",
        "Period defined as an Array: [1, 2, 3, 4, 5, 6, 7, 8,]\n",
        "\n",
        "In order to run the 3-hourly function for the mentioned date and for time period 4 and 5 (means time between 09:00 till 12:00 and 12:00 till 15:00) and space, the following command can be applied:"
      ]
    },
    {
      "cell_type": "code",
      "execution_count": null,
      "metadata": {
        "id": "HKz24vJnlt3C"
      },
      "outputs": [],
      "source": [
        "pyWAPOR.Collect.MERRA.three_hourly(r\"/content/sample_data/RAW\", [\"t2m\", \"u2m\", \"v2m\", \"q2m\", \"tpw\", \"ps\", \"slp\", \"swgnet\"], \"2009-07-03\", \"2009-07-05\", [28.5, 31.9], [29.2, 32.5], [4, 5])"
      ]
    },
    {
      "cell_type": "markdown",
      "metadata": {
        "id": "xui50qutZNZI"
      },
      "source": [
        "**Show 3 hourly MERRA data:**\n",
        "1. Air Temperature\n",
        "2. Eastward wind component\n",
        "3. Northward wind component\n",
        "4. Sea Level Air Pressure\n",
        "5. Specific Humidity\n",
        "6. Surface Air Pressure\n",
        "7. Total Precipitable Water Vapor\n",
        "8. Surface Net Downward Shortwave Flux"
      ]
    },
    {
      "cell_type": "code",
      "execution_count": null,
      "metadata": {
        "id": "F0WXNIkBZS6r"
      },
      "outputs": [],
      "source": [
        "pyWAPOR.Functions.Processing_Functions.Show_tif(r\"/content/sample_data/RAW/MERRA/Air_Temperature/three_hourly/t2m_MERRA_K_3-hourly_2009.07.03_H09.M00.tif\", None, \"coolwarm\")\n",
        "pyWAPOR.Functions.Processing_Functions.Show_tif(r\"/content/sample_data/RAW/MERRA/Eastward_Wind/three_hourly/u2m_MERRA_m-s-1_3-hourly_2009.07.03_H09.M00.tif\", None, \"plasma\")\n",
        "pyWAPOR.Functions.Processing_Functions.Show_tif(r\"/content/sample_data/RAW/MERRA/Northward_Wind/three_hourly/v2m_MERRA_m-s-1_3-hourly_2009.07.03_H09.M00.tif\", None, \"cool\")\n",
        "pyWAPOR.Functions.Processing_Functions.Show_tif(r\"/content/sample_data/RAW/MERRA/Sea_Level_Pressure/three_hourly/slp_MERRA_kpa_3-hourly_2009.07.03_H09.M00.tif\", None, \"copper\")\n",
        "pyWAPOR.Functions.Processing_Functions.Show_tif(r\"/content/sample_data/RAW/MERRA/Specific_Humidity/three_hourly/q2m_MERRA_kg-kg-1_3-hourly_2009.07.03_H09.M00.tif\", None, \"RdBu\")\n",
        "pyWAPOR.Functions.Processing_Functions.Show_tif(r\"/content/sample_data/RAW/MERRA/Surface_Pressure/three_hourly/ps_MERRA_kpa_3-hourly_2009.07.03_H09.M00.tif\", None, \"PiYG\")\n",
        "pyWAPOR.Functions.Processing_Functions.Show_tif(r\"/content/sample_data/RAW/MERRA/Total_Precipitable_Water_Vapor/three_hourly/tpw_MERRA_mm_3-hourly_2009.07.03_H09.M00.tif\")\n",
        "pyWAPOR.Functions.Processing_Functions.Show_tif(r\"/content/sample_data/RAW/MERRA/Surface_Net_Downward_Shortwave_Flux/three_hourly/swgnet_MERRA_W-m-2_3-hourly_2009.07.03_H09.M00.tif\", None, \"gist_heat\")"
      ]
    },
    {
      "cell_type": "markdown",
      "metadata": {
        "id": "Z-kHO5a8lzTy"
      },
      "source": [
        "To download the yearly temperature amplitude using the MERRA dataset, the following input parameters are required:\n",
        "\n",
        "1. output folder, in which the end product will be stored as a tiff file and in the WGS84 projection. \n",
        "2. Years defined as an Array: [2009, 2010]\n",
        "3. Latitude Limits as an array with the following format: [Ymin, Ymax]\n",
        "4. Longitude Limits as an array with the following format: [Xmin, Xmax]\n",
        "\n",
        "The following function can be used to get the yearly temperature amplitude for the Nile Delta for 2009:"
      ]
    },
    {
      "cell_type": "code",
      "execution_count": null,
      "metadata": {
        "id": "v4cqD3cwmbxi"
      },
      "outputs": [],
      "source": [
        "pyWAPOR.Collect.MERRA.yearly_T_Amplitude(r\"/content/sample_data/RAW\", [2009], [28.5, 31.9], [29.2, 32.5])"
      ]
    },
    {
      "cell_type": "markdown",
      "metadata": {
        "id": "v6w39OMaaE94"
      },
      "source": [
        "**Show yearly air Temperature based on MERRA data:**"
      ]
    },
    {
      "cell_type": "code",
      "execution_count": null,
      "metadata": {
        "id": "E_N7SYxBaM0h"
      },
      "outputs": [],
      "source": [
        "pyWAPOR.Functions.Processing_Functions.Show_tif(r\"/content/sample_data/RAW/MERRA/Temperature_Amplitude/yearly/Tamp_MERRA_K_yearly_2009.01.01.tif\", None, \"coolwarm\")"
      ]
    },
    {
      "cell_type": "markdown",
      "metadata": {
        "id": "T4qglL8Vmi2S"
      },
      "source": [
        "With the MERRA2 functions, the same parameters as the MERRA functions can be collected. For those functions a NASA account is required. The data is available since 1981 till now. The function itself is a bit slower compared to the MERRA functions, therefor the MERRA functions is prefered, but this dataset ends in 2016.\n",
        "\n",
        "For the daily collect functions the following parameters are required:\n",
        "1. output folder, in which the end product will be stored as a tiff file and in the WGS84 projection. \n",
        "2. Define the variables that has to be collected like an Array inlcuding strings: [\"t2m\", \"u2m\"]\n",
        "3. Startdate as a string in the following format: \"yyyy-mm-dd\"\n",
        "4. Enddate as a string in the following format: \"yyyy-mm-dd\"\n",
        "5. Latitude Limits as an array with the following format: [Ymin, Ymax]\n",
        "6. Longitude Limits as an array with the following format: [Xmin, Xmax]\n",
        "7. username of your NASA account\n",
        "8. password of your NASA account\n",
        "\n",
        "To run the code for our area and time period to get all the possible weather input on daily basis, the following function can be used:\n",
        "\n"
      ]
    },
    {
      "cell_type": "code",
      "execution_count": null,
      "metadata": {
        "id": "Lm2edvaroEA5"
      },
      "outputs": [],
      "source": [
        "pyWAPOR.Collect.MERRA.daily_MERRA2(r\"/content/sample_data/RAW\", [\"t2m\", \"u2m\", \"v2m\", \"q2m\", \"tpw\", \"ps\", \"slp\", \"swgnet\"], \"2018-07-03\", \"2018-07-05\", [28.5, 31.9], [29.2, 32.5], username, password)"
      ]
    },
    {
      "cell_type": "markdown",
      "metadata": {
        "id": "fEJ_Hcp1bZvp"
      },
      "source": [
        "**Show daily MERRA2 data:**\n",
        "1. Air Temperature\n",
        "2. Eastward wind component\n",
        "3. Northward wind component\n",
        "4. Sea Level Air Pressure\n",
        "5. Specific Humidity\n",
        "6. Surface Air Pressure\n",
        "7. Total Precipitable Water Vapor\n",
        "8. Surface Net Downward Shortwave Flux"
      ]
    },
    {
      "cell_type": "code",
      "execution_count": null,
      "metadata": {
        "id": "scrd4xC-bY_w"
      },
      "outputs": [],
      "source": [
        "pyWAPOR.Functions.Processing_Functions.Show_tif(r\"/content/sample_data/RAW/MERRA/Air_Temperature/daily_MERRA2/t2m_MERRA_K_daily_2018.07.03.tif\", None, \"coolwarm\")\n",
        "pyWAPOR.Functions.Processing_Functions.Show_tif(r\"/content/sample_data/RAW/MERRA/Eastward_Wind/daily_MERRA2/u2m_MERRA_m-s-1_daily_2018.07.03.tif\", None, \"plasma\")\n",
        "pyWAPOR.Functions.Processing_Functions.Show_tif(r\"/content/sample_data/RAW/MERRA/Northward_Wind/daily_MERRA2/v2m_MERRA_m-s-1_daily_2018.07.03.tif\", None, \"cool\")\n",
        "pyWAPOR.Functions.Processing_Functions.Show_tif(r\"/content/sample_data/RAW/MERRA/Sea_Level_Pressure/daily_MERRA2/slp_MERRA_kpa_daily_2018.07.03.tif\", None, \"copper\")\n",
        "pyWAPOR.Functions.Processing_Functions.Show_tif(r\"/content/sample_data/RAW/MERRA/Specific_Humidity/daily_MERRA2/q2m_MERRA_kg-kg-1_daily_2018.07.03.tif\", None, \"RdBu\")\n",
        "pyWAPOR.Functions.Processing_Functions.Show_tif(r\"/content/sample_data/RAW/MERRA/Surface_Pressure/daily_MERRA2/ps_MERRA_kpa_daily_2018.07.03.tif\", None, \"PiYG\")\n",
        "pyWAPOR.Functions.Processing_Functions.Show_tif(r\"/content/sample_data/RAW/MERRA/Total_Precipitable_Water_Vapor/daily_MERRA2/tpw_MERRA_mm_daily_2018.07.03.tif\")\n",
        "pyWAPOR.Functions.Processing_Functions.Show_tif(r\"/content/sample_data/RAW/MERRA/Surface_Net_Downward_Shortwave_Flux/daily_MERRA2/swgnet_MERRA_W-m-2_daily_2018.07.03.tif\")"
      ]
    },
    {
      "cell_type": "markdown",
      "metadata": {
        "id": "CnbO4vR1ooij"
      },
      "source": [
        "For the hourly_MERRA2 function there is one additional parameter that can be defined and that is the period. In here the periods are hourly. So period 1 correspond with the time between 00:00 till 01:00, etc... \n",
        "If this parameters is not defined, all the 24 periods will be downloaded.\n",
        "\n",
        "In order to run the hourly_MERRA2 function to collect hourly weather data for the mentioned date and for time period 10, 11 and 12 (means time between 09:00 till 10:00, 10:00 till 11:00, and 11:00 till 12:00) and space, the following command can be applied: "
      ]
    },
    {
      "cell_type": "code",
      "execution_count": null,
      "metadata": {
        "id": "IHTVPhplpWlz"
      },
      "outputs": [],
      "source": [
        "pyWAPOR.Collect.MERRA.hourly_MERRA2(r\"/content/sample_data/RAW\", [\"t2m\", \"u2m\", \"v2m\", \"q2m\", \"tpw\", \"ps\", \"slp\", \"swgnet\"], \"2018-07-03\", \"2018-07-05\", [28.5, 31.9], [29.2, 32.5], [10, 11, 12], username, password)"
      ]
    },
    {
      "cell_type": "markdown",
      "metadata": {
        "id": "_8MXkQCArTfl"
      },
      "source": [
        "**Show hourly MERRA2 data:**\n",
        "1. Air Temperature\n",
        "2. Eastward wind component\n",
        "3. Northward wind component\n",
        "4. Sea Level Air Pressure\n",
        "5. Specific Humidity\n",
        "6. Surface Air Pressure\n",
        "7. Total Precipitable Water Vapor\n",
        "8. Surface Net Downward Shortwave Flux"
      ]
    },
    {
      "cell_type": "code",
      "execution_count": null,
      "metadata": {
        "id": "37MdDEK1rTnd"
      },
      "outputs": [],
      "source": [
        "pyWAPOR.Functions.Processing_Functions.Show_tif(r\"/content/sample_data/RAW/MERRA/Air_Temperature/hourly_MERRA2/t2m_MERRA_K_hourly_2018.07.03_H11.M00.tif\", None, \"coolwarm\")\n",
        "pyWAPOR.Functions.Processing_Functions.Show_tif(r\"/content/sample_data/RAW/MERRA/Eastward_Wind/hourly_MERRA2/u2m_MERRA_m-s-1_hourly_2018.07.03_H11.M00.tif\", None, \"plasma\")\n",
        "pyWAPOR.Functions.Processing_Functions.Show_tif(r\"/content/sample_data/RAW/MERRA/Northward_Wind/hourly_MERRA2/v2m_MERRA_m-s-1_hourly_2018.07.03_H11.M00.tif\", None, \"cool\")\n",
        "pyWAPOR.Functions.Processing_Functions.Show_tif(r\"/content/sample_data/RAW/MERRA/Sea_Level_Pressure/hourly_MERRA2/slp_MERRA_kpa_hourly_2018.07.03_H11.M00.tif\", None, \"copper\")\n",
        "pyWAPOR.Functions.Processing_Functions.Show_tif(r\"/content/sample_data/RAW/MERRA/Specific_Humidity/hourly_MERRA2/q2m_MERRA_kg-kg-1_hourly_2018.07.03_H11.M00.tif\", None, \"RdBu\")\n",
        "pyWAPOR.Functions.Processing_Functions.Show_tif(r\"/content/sample_data/RAW/MERRA/Surface_Pressure/hourly_MERRA2/ps_MERRA_kpa_hourly_2018.07.03_H11.M00.tif\", None, \"PiYG\")\n",
        "pyWAPOR.Functions.Processing_Functions.Show_tif(r\"/content/sample_data/RAW/MERRA/Total_Precipitable_Water_Vapor/hourly_MERRA2/tpw_MERRA_mm_hourly_2018.07.03_H11.M00.tif\")\n",
        "pyWAPOR.Functions.Processing_Functions.Show_tif(r\"/content/sample_data/RAW/MERRA/Surface_Net_Downward_Shortwave_Flux/hourly_MERRA2/swgnet_MERRA_W-m-2_hourly_2018.07.03_H11.M00.tif\")"
      ]
    },
    {
      "cell_type": "markdown",
      "metadata": {
        "id": "DKIQ8gPerFcZ"
      },
      "source": [
        "### 1.6 MOD11\n",
        "\n",
        "The MOD11 is a daily  MODIS product observed by the TERRA MODIS satellites. The dataset consists of Land Surface Temperature data (LST) in Kelvin. The cloud pixels are replaced by \"No Data Values\". The data is globally available for the period: 2000-02-24 till now.  For the MOD11 data the NASA account is required.\n",
        "\n",
        "The required inputs in order to run this function are:\n",
        "1. output folder, in which the end product will be stored as a tiff file and in the WGS84 projection. \n",
        "2. Startdate as a string in the following format: \"yyyy-mm-dd\"\n",
        "3. Enddate as a string in the following format: \"yyyy-mm-dd\"\n",
        "4. Latitude Limits as an array with the following format: [Ymin, Ymax]\n",
        "5. Longitude Limits as an array with the following format: [Xmin, Xmax]\n",
        "6. username of your NASA account\n",
        "7. password of your NASA account\n",
        "\n",
        "In order to run the function for the Nile Delta for the sample period, the following command can be applied:"
      ]
    },
    {
      "cell_type": "code",
      "execution_count": null,
      "metadata": {
        "id": "uNOmA4x5sEkq"
      },
      "outputs": [],
      "source": [
        "pyWAPOR.Collect.MOD11.LST(r\"/content/sample_data/RAW\", \"2009-07-03\", \"2009-07-05\", [28.5, 31.9], [29.2, 32.5], username, password)"
      ]
    },
    {
      "cell_type": "markdown",
      "metadata": {
        "id": "UlaByXfqvKTC"
      },
      "source": [
        "**Show LST *MOD11* data:**"
      ]
    },
    {
      "cell_type": "code",
      "execution_count": null,
      "metadata": {
        "id": "YInoIiHsvKlH"
      },
      "outputs": [],
      "source": [
        "pyWAPOR.Functions.Processing_Functions.Show_tif(r\"/content/sample_data/RAW/MODIS/MOD11/LST_MOD11A1_K_daily_2009.07.03.tif\", None, \"coolwarm\")"
      ]
    },
    {
      "cell_type": "markdown",
      "metadata": {
        "id": "fyyOFzI6sPTJ"
      },
      "source": [
        "### 1.7 MOD13\n",
        "\n",
        "The MOD13 is the 16-daily  MODIS product observed by the TERRA MODIS satellites. The dataset consists of Normalized Difference Vegetation Index data (NDVI). The data is globally available for the period: 2000-02-24 till now.  For the MOD13 data the NASA account is required.\n",
        "\n",
        "The required inputs in order to run this function are:\n",
        "1. output folder, in which the end product will be stored as a tiff file and in the WGS84 projection. \n",
        "2. Startdate as a string in the following format: \"yyyy-mm-dd\"\n",
        "3. Enddate as a string in the following format: \"yyyy-mm-dd\"\n",
        "4. Latitude Limits as an array with the following format: [Ymin, Ymax]\n",
        "5. Longitude Limits as an array with the following format: [Xmin, Xmax]\n",
        "6. username of your NASA account\n",
        "7. password of your NASA account\n",
        "\n",
        "In order to run the function for the Nile Delta for the period between 2009-07-01 and 2009-07-17, the following command can be applied:"
      ]
    },
    {
      "cell_type": "code",
      "execution_count": null,
      "metadata": {
        "id": "NegPTae0sO-M"
      },
      "outputs": [],
      "source": [
        "pyWAPOR.Collect.MOD13.NDVI(r\"/content/sample_data/RAW\", \"2009-07-01\", \"2009-07-17\", [28.5, 31.9], [29.2, 32.5], username, password)"
      ]
    },
    {
      "cell_type": "markdown",
      "metadata": {
        "id": "ulV66LPqFJy3"
      },
      "source": [
        "**Show NDVI *MOD13* data:**"
      ]
    },
    {
      "cell_type": "code",
      "execution_count": null,
      "metadata": {
        "id": "0msT0JWOFJ9W"
      },
      "outputs": [],
      "source": [
        "pyWAPOR.Functions.Processing_Functions.Show_tif(r\"/content/sample_data/RAW/MODIS/MOD13/NDVI_MOD13Q1_-_16-daily_2009.07.12.tif\", None, \"Greens\")"
      ]
    },
    {
      "cell_type": "markdown",
      "metadata": {
        "id": "Bq_wNZ8tutGx"
      },
      "source": [
        "### 1.8 MSGCPP\n",
        "\n",
        "The MSGCPP product is a product of the KNMI. IT uses the data of the Meteosat Second Generation geostationary satellite. This satellite is measuring the cloud every 15 minutes. An Cloud Physical Properties algorighm (CPP) that is developed by the KNMI is used to calculate the down welling surface flux. The data is only avalailable for the MSG disk and for the period 2017-01-01 till now.\n",
        "\n",
        "The required inputs in order to run this function are:\n",
        "1. output folder, in which the end product will be stored as a tiff file and in the WGS84 projection. \n",
        "2. Startdate as a string in the following format: \"yyyy-mm-dd\"\n",
        "3. Enddate as a string in the following format: \"yyyy-mm-dd\"\n",
        "4. Latitude Limits as an array with the following format: [Ymin, Ymax]\n",
        "5. Longitude Limits as an array with the following format: [Xmin, Xmax]\n",
        "\n",
        "In order to run the function for the Nile Delta for the sample period, the following command can be applied to get a tiff file of down welling surface flux every 15 minutes:\n"
      ]
    },
    {
      "cell_type": "code",
      "execution_count": null,
      "metadata": {
        "id": "yLVi7saTwbnh"
      },
      "outputs": [],
      "source": [
        "pyWAPOR.Collect.MSGCPP.SDS(r\"/content/sample_data/RAW\", \"2017-07-03\", \"2017-07-04\", [28.5, 31.9], [29.2, 32.5])"
      ]
    },
    {
      "cell_type": "markdown",
      "metadata": {
        "id": "v2pLE5plFunf"
      },
      "source": [
        "**Show NDVI MOD13 data:**"
      ]
    },
    {
      "cell_type": "code",
      "execution_count": null,
      "metadata": {
        "id": "nYCIM_0gFt1_"
      },
      "outputs": [],
      "source": [
        "pyWAPOR.Functions.Processing_Functions.Show_tif(r\"/content/sample_data/RAW/MSGCPP/SDS/15min/SDS_MSGCPP_W-m-2_15min_2017.07.03_H13.M15.tif\", None, \"inferno\")"
      ]
    },
    {
      "cell_type": "markdown",
      "metadata": {
        "id": "1SKTvqtos1PK"
      },
      "source": [
        "### 1.9 MYD11\n",
        "\n",
        "The MYD11 is a daily  MODIS product observed by the AQUA MODIS satellites. The dataset consists of Land Surface Temperature data (LST) in Kelvin. The cloud pixels are replaced by \"No Data Values\". The data is globally available for the period: 2000-02-24 till now.  For the MYD11 data the NASA account is required.\n",
        "\n",
        "The required inputs in order to run this function are:\n",
        "1. output folder, in which the end product will be stored as a tiff file and in the WGS84 projection. \n",
        "2. Startdate as a string in the following format: \"yyyy-mm-dd\"\n",
        "3. Enddate as a string in the following format: \"yyyy-mm-dd\"\n",
        "4. Latitude Limits as an array with the following format: [Ymin, Ymax]\n",
        "5. Longitude Limits as an array with the following format: [Xmin, Xmax]\n",
        "6. username of your NASA account\n",
        "7. password of your NASA account\n",
        "\n",
        "In order to run the function for the Nile Delta for the sample period, the following command can be applied:\n",
        "\n"
      ]
    },
    {
      "cell_type": "code",
      "execution_count": null,
      "metadata": {
        "id": "rJnX0GpfuIdJ"
      },
      "outputs": [],
      "source": [
        "pyWAPOR.Collect.MYD11.LST(r\"/content/sample_data/RAW\", \"2009-07-03\", \"2009-07-05\", [28.5, 31.9], [29.2, 32.5], username, password)"
      ]
    },
    {
      "cell_type": "markdown",
      "metadata": {
        "id": "hVMetIDUGeru"
      },
      "source": [
        "**Show LST MYD11 data:**"
      ]
    },
    {
      "cell_type": "code",
      "execution_count": null,
      "metadata": {
        "id": "GVPrncW0Ge2n"
      },
      "outputs": [],
      "source": [
        "pyWAPOR.Functions.Processing_Functions.Show_tif(r\"/content/sample_data/RAW/MODIS/MYD11/LST_MYD11A1_K_daily_2009.07.04.tif\", None, \"coolwarm\")"
      ]
    },
    {
      "cell_type": "markdown",
      "metadata": {
        "id": "EHudy3hcuXHB"
      },
      "source": [
        "### 1.10 MYD13\n",
        "The MYD13 is the 16-daily MODIS product observed by the AQUA MODIS satellites. The dataset consists of Normalized Difference Vegetation Index data (NDVI). The data is globally available for the period: 2000-02-24 till now.  For the MYD13 data the NASA account is required.\n",
        "\n",
        "The required inputs in order to run this function are:\n",
        "\n",
        "output folder, in which the end product will be stored as a tiff file and in the WGS84 projection.\n",
        "Startdate as a string in the following format: \"yyyy-mm-dd\"\n",
        "Enddate as a string in the following format: \"yyyy-mm-dd\"\n",
        "Latitude Limits as an array with the following format: [Ymin, Ymax]\n",
        "Longitude Limits as an array with the following format: [Xmin, Xmax]\n",
        "username of your NASA account\n",
        "password of your NASA account\n",
        "In order to run the function for the Nile Delta for the period between 2009-07-01 and 2009-07-17, the following command can be applied:"
      ]
    },
    {
      "cell_type": "code",
      "execution_count": null,
      "metadata": {
        "id": "PbboNu5cul-p"
      },
      "outputs": [],
      "source": [
        "pyWAPOR.Collect.MYD13.NDVI(r\"/content/sample_data/RAW\", \"2009-07-01\", \"2009-07-17\", [28.5, 31.9], [29.2, 32.5], username, password)"
      ]
    },
    {
      "cell_type": "markdown",
      "metadata": {
        "id": "bVMCUJtBHNzm"
      },
      "source": [
        "**Show WAPOR LandCover data:**"
      ]
    },
    {
      "cell_type": "code",
      "execution_count": null,
      "metadata": {
        "id": "OIAgQOgHHN7J"
      },
      "outputs": [],
      "source": [
        "pyWAPOR.Functions.Processing_Functions.Show_tif(r\"/content/sample_data/RAW/WAPOR/LandCover/LC_WAPOR_2009.01.01.tif\", None, \"Set3\")"
      ]
    },
    {
      "cell_type": "markdown",
      "metadata": {
        "id": "EcRj_C0tuny5"
      },
      "source": [
        "### 1.11 SRTM\n",
        "\n",
        "The SRTM download the altitude information. \n",
        "\n",
        "The required inputs in order to run this function are:\n",
        "1. output folder, in which the end product will be stored as a tiff file and in the WGS84 projection. \n",
        "2. Latitude Limits as an array with the following format: [Ymin, Ymax]\n",
        "3. Longitude Limits as an array with the following format: [Xmin, Xmax]\n",
        "\n",
        "The following code can download the DEM map for the defined area:"
      ]
    },
    {
      "cell_type": "code",
      "execution_count": null,
      "metadata": {
        "id": "3zISWyElxRk6"
      },
      "outputs": [],
      "source": [
        "pyWAPOR.Collect.SRTM.DEM(r\"/content/sample_data/RAW\", [28.5, 31.9], [29.2, 32.5])"
      ]
    },
    {
      "cell_type": "markdown",
      "metadata": {
        "id": "8S11IcoIHed_"
      },
      "source": [
        "**Show DEM SRTM data:**"
      ]
    },
    {
      "cell_type": "code",
      "execution_count": null,
      "metadata": {
        "id": "pBuEByxqHel6"
      },
      "outputs": [],
      "source": [
        "pyWAPOR.Functions.Processing_Functions.Show_tif(r\"/content/sample_data/RAW/SRTM/DEM/DEM_SRTM_m_3s.tif\", None, \"terrain\")"
      ]
    },
    {
      "cell_type": "markdown",
      "metadata": {
        "id": "_KW8u_hbc-mo"
      },
      "source": [
        "### 1.12 WAPOR\n",
        "\n",
        "The WAPOR module downloads the yearly Landcover map created within the WAPOR project.\n",
        "\n",
        "The required inputs in order to run this function are:\n",
        "1. output folder, in which the end product will be stored as a tiff file and in the WGS84 projection. \n",
        "2. Startdate as a string in the following format: \"yyyy-mm-dd\"\n",
        "3. Enddate as a string in the following format: \"yyyy-mm-dd\"\n",
        "4. Latitude Limits as an array with the following format: [Ymin, Ymax]\n",
        "5. Longitude Limits as an array with the following format: [Xmin, Xmax]\n",
        "\n",
        "The following code can download the LandCover map for the defined area:"
      ]
    },
    {
      "cell_type": "code",
      "execution_count": null,
      "metadata": {
        "colab": {
          "base_uri": "https://localhost:8080/",
          "height": 72
        },
        "id": "f5gjpY2zdTz_",
        "outputId": "c8d65ef8-d62e-4a4c-93bb-cc011b07336f"
      },
      "outputs": [
        {
          "name": "stdout",
          "output_type": "stream",
          "text": [
            "\n",
            "Downloading Yearly LandCover maps from WAPOR for the period 2009-01-01 till 2010-12-31\n",
            "Progress: |██████████████████████████████████████████████████| 100.0% Complete\n"
          ]
        }
      ],
      "source": [
        "pyWAPOR.Collect.WAPOR.LandCover(r\"/content/sample_data/RAW\", \"2009-01-01\", \"2010-12-31\", [28.5, 31.9], [29.2, 32.5])"
      ]
    },
    {
      "cell_type": "markdown",
      "metadata": {
        "id": "tESaOMgfdc_w"
      },
      "source": [
        "**Show WAPOR LandCover data:**"
      ]
    },
    {
      "cell_type": "code",
      "execution_count": null,
      "metadata": {
        "colab": {
          "base_uri": "https://localhost:8080/",
          "height": 369
        },
        "id": "kOQR33EadcMe",
        "outputId": "9a23aded-196c-4b4b-faef-3c1acfa9d908"
      },
      "outputs": [
        {
          "data": {
            "image/png": "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",
            "text/plain": [
              "<Figure size 576x396 with 2 Axes>"
            ]
          },
          "metadata": {
            "tags": []
          },
          "output_type": "display_data"
        },
        {
          "data": {
            "text/plain": [
              "()"
            ]
          },
          "execution_count": 11,
          "metadata": {
            "tags": []
          },
          "output_type": "execute_result"
        }
      ],
      "source": [
        "pyWAPOR.Functions.Processing_Functions.Show_tif(r\"/content/sample_data/RAW/WAPOR/LandCover/LC_WAPOR_2009.01.01.tif\", None, \"Set3\")"
      ]
    },
    {
      "cell_type": "markdown",
      "metadata": {
        "id": "h8Rbm3B3xnHR"
      },
      "source": [
        "## 2. Processing Tool\n",
        "\n",
        "With only the collect tools, you will not get the required datasets that are needed for the ETLook model. The collect tools only collect the RAW data and no additonal processing is done besides changing the format to tiff, reprojection to WGS84 and clip the area. \n",
        "\n",
        "Before running the ETLook model, all the input raster datasets needs to have the same dimensions and also some parameters still have to be calculated based on the RAW sensor input collected by the collect tools.\n",
        "\n",
        "Therefor there are also processing tools. By running the overall processing tool, the required data for that day will be downloaded automatically if it not exists yet on the computer. The user need to give the following input in order to run the overall processing function:\n",
        "\n",
        "1. output_folder, in which the end products will be stored as a tiff file and in the WGS84 projection. \n",
        "2. Startdate as a string in the following format: \"yyyy-mm-dd\"\n",
        "3. Enddate as a string in the following format: \"yyyy-mm-dd\"\n",
        "4. Latitude Limits as an array with the following format: [Ymin, Ymax]\n",
        "5. Longitude Limits as an array with the following format: [Xmin, Xmax]\n",
        "6. username of your NASA account\n",
        "7. password of your NASA account\n",
        "8. \"GlobCover\" or \"WAPOR\" (Default is \"GlobCover\") defines which LandCover map will be used\n",
        "\n",
        "The function will create a folder within the user defined output folder mentioning the day. Within this folder all the pre-procesed rasters that are required for the ETLook model are located. \n",
        "\n",
        ">output_folder\n",
        "\n",
        "             >ETLook_input\n",
        "\n",
        "                    >yyyymmdd\n",
        "\n",
        "                           ALBEDO_yyyymmdd.tif\n",
        "                           Aspect.tif\n",
        "                           Bulk_Stomatal_resistance.tif\n",
        "                           DEM.tif\n",
        "                           LandMask.tif\n",
        "                           Lat_yyyymmdd.tif\n",
        "                           Lon_yyyymmdd.tif\n",
        "                           LST_yyyymmdd.tif\n",
        "                           Maximum_Obstacle_Height.tif\n",
        "                           NDVI_yyyymmdd.tif\n",
        "                           Pair_24_0_yyyymmdd.tif\n",
        "                           Pair_inst_0_yyyymmdd.tif\n",
        "                           Pair_inst_yyyymmdd.tif\n",
        "                           Precipitation_yyyymmdd.tif\n",
        "                           qv_24_yyyymmdd.tif\n",
        "                           qv_inst_yyyymmdd.tif\n",
        "                           Slope.tif\n",
        "                           tair_24_yyyymmdd.tif\n",
        "                           Tair_amp_yyyymmdd.tif\n",
        "                           tair_inst_yyyymmdd.tif\n",
        "                           Time_yyyymmdd.tif\n",
        "                           Trans_24_yyyymmdd.tif\n",
        "                           wind_24_yyyymmdd.tif\n",
        "                           wind_inst_yyyymmdd.tif\n",
        "                           wv_inst_yyyymmdd.tif\n",
        "\n",
        "The following code can used to create the input data for ETLook for one day for the Nile Basin:\n",
        "\n"
      ]
    },
    {
      "cell_type": "code",
      "execution_count": null,
      "metadata": {
        "id": "6lnHpGQpK3CY"
      },
      "outputs": [],
      "source": [
        "pyWAPOR.Pre_ETLook.main(r\"/content/sample_data\", \"2009-07-03\", \"2009-07-03\", [28.5, 31.9], [29.2, 32.5], username, password)"
      ]
    },
    {
      "cell_type": "markdown",
      "metadata": {
        "id": "3k8Hs8ghMvQy"
      },
      "source": [
        "**Show some ETLook inputs :**\n",
        "\n",
        "1. Tair_24\n",
        "2. LST\n",
        "3. NDVI\n",
        "4. Albedo\n",
        "5. Bulk Stomatal Resistance\n",
        "6. Slope"
      ]
    },
    {
      "cell_type": "code",
      "execution_count": null,
      "metadata": {
        "id": "3kVuS5oVNRzb"
      },
      "outputs": [],
      "source": [
        "pyWAPOR.Functions.Processing_Functions.Show_tif(r\"/content/sample_data/ETLook_input/20090703/tair_24_20090703.tif\", None, \"gist_stern\")\n",
        "pyWAPOR.Functions.Processing_Functions.Show_tif(r\"/content/sample_data/ETLook_input/20090703/LST_20090703.tif\", None, \"magma\")\n",
        "pyWAPOR.Functions.Processing_Functions.Show_tif(r\"/content/sample_data/ETLook_input/20090703/NDVI_20090703.tif\", None, \"YlGn\")\n",
        "pyWAPOR.Functions.Processing_Functions.Show_tif(r\"/content/sample_data/ETLook_input/20090703/ALBEDO_20090703.tif\", None, \"gist_yarg\")\n",
        "pyWAPOR.Functions.Processing_Functions.Show_tif(r\"/content/sample_data/ETLook_input/20090703/Bulk_Stomatal_resistance.tif\", None, \"tab10\")\n",
        "pyWAPOR.Functions.Processing_Functions.Show_tif(r\"/content/sample_data/ETLook_input/20090703/Slope.tif\", None, \"inferno\")"
      ]
    },
    {
      "cell_type": "markdown",
      "metadata": {
        "id": "3nPghoGLOKpA"
      },
      "source": [
        "## 3. ETLook model\n",
        "\n",
        "The last function correspond in applying the ETLook model by using the ETLook_input folder created in step 2.\n",
        "\n",
        "The required inputs are:\n",
        "\n",
        "1. input_folder_ETLook corresponds to the path created by the processing tools\n",
        "2. output_folder_ETLook, this folder will be created to store all the ETLook outputs\n",
        "3. Date, a python datetime defining the day (can be created by using pandas or datetime module)\n",
        "\n",
        "An example to apply the ETLook model on the folder generated in step 2 is shown below:"
      ]
    },
    {
      "cell_type": "code",
      "execution_count": null,
      "metadata": {
        "id": "db75aIsMPK4H"
      },
      "outputs": [],
      "source": [
        "import pandas as pd\n",
        "\n",
        "Startdate = \"2009-07-03\"\n",
        "Enddate = \"2009-07-03\"\n",
        "\n",
        "# Create daily timesteps between start and enddate\n",
        "Dates = pd.date_range(Startdate, Enddate, freq = \"D\")\n",
        "\n",
        "# Loop over the dates\n",
        "for Date in Dates:\n",
        "    try:\n",
        "        pyWAPOR.ETLook.ETLook_code.main(r\"/content/sample_data/ETLook_input\", r\"/content/sample_data/ETLook_output\", Date)\n",
        "    except:\n",
        "        print(\"ETLook not applied for %s\" %Date) "
      ]
    },
    {
      "cell_type": "markdown",
      "metadata": {
        "id": "J0NMwvZRSJBD"
      },
      "source": [
        "**Show ETLook outputs :**"
      ]
    },
    {
      "cell_type": "code",
      "execution_count": null,
      "metadata": {
        "colab": {
          "base_uri": "https://localhost:8080/",
          "height": 369
        },
        "id": "6ZQi7GN4SQGT",
        "outputId": "1de6b916-1c64-4f7b-f4c5-694e5d4f4988"
      },
      "outputs": [
        {
          "data": {
            "image/png": "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",
            "text/plain": [
              "<Figure size 576x396 with 2 Axes>"
            ]
          },
          "metadata": {
            "tags": []
          },
          "output_type": "display_data"
        },
        {
          "data": {
            "text/plain": [
              "()"
            ]
          },
          "execution_count": 7,
          "metadata": {
            "tags": []
          },
          "output_type": "execute_result"
        }
      ],
      "source": [
        "pyWAPOR.Functions.Processing_Functions.Show_tif(r\"/content/sample_data/ETLook_output/20090703/et_24_mm_20090703.tif\", None, \"Spectral\")"
      ]
    },
    {
      "cell_type": "markdown",
      "metadata": {
        "id": "mI3lUBX9P0sx"
      },
      "source": [
        "## 4. Appendix\n",
        "\n",
        "Install gdal in colab:"
      ]
    },
    {
      "cell_type": "code",
      "execution_count": null,
      "metadata": {
        "id": "Qvwac2I8dVYW"
      },
      "outputs": [],
      "source": [
        "!apt-get update"
      ]
    },
    {
      "cell_type": "code",
      "execution_count": null,
      "metadata": {
        "colab": {
          "base_uri": "https://localhost:8080/",
          "height": 102
        },
        "id": "kJwNDbn7dgkf",
        "outputId": "0ff606d2-b8b4-42a5-acc8-e318d958a589"
      },
      "outputs": [
        {
          "name": "stdout",
          "output_type": "stream",
          "text": [
            "Reading package lists... Done\n",
            "Building dependency tree       \n",
            "Reading state information... Done\n",
            "libgdal-dev is already the newest version (2.2.3+dfsg-2).\n",
            "0 upgraded, 0 newly installed, 0 to remove and 41 not upgraded.\n"
          ]
        }
      ],
      "source": [
        "\n",
        "!apt-get install libgdal-dev -y"
      ]
    },
    {
      "cell_type": "code",
      "execution_count": null,
      "metadata": {
        "id": "PJ2h6L0WdrbG"
      },
      "outputs": [],
      "source": [
        "\n",
        "!apt-get install python-gdal -y"
      ]
    }
  ],
  "metadata": {
    "colab": {
      "include_colab_link": true,
      "provenance": []
    },
    "kernelspec": {
      "display_name": "Python 3 (ipykernel)",
      "language": "python",
      "name": "python3"
    },
    "language_info": {
      "codemirror_mode": {
        "name": "ipython",
        "version": 3
      },
      "file_extension": ".py",
      "mimetype": "text/x-python",
      "name": "python",
      "nbconvert_exporter": "python",
      "pygments_lexer": "ipython3",
      "version": "3.10.8"
    }
  },
  "nbformat": 4,
  "nbformat_minor": 0
}
