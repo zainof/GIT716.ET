{
  "nbformat": 4,
  "nbformat_minor": 0,
  "metadata": {
    "colab": {
      "provenance": [],
      "include_colab_link": true
    },
    "kernelspec": {
      "name": "python3",
      "display_name": "Python 3"
    }
  },
  "cells": [
    {
      "cell_type": "markdown",
      "metadata": {
        "id": "view-in-github",
        "colab_type": "text"
      },
      "source": [
        "<a href=\"https://colab.research.google.com/github/zainof/GIT716.ET/blob/PartialCoding/WaPOR_ET_Look.ipynb\" target=\"_parent\"><img src=\"https://colab.research.google.com/assets/colab-badge.svg\" alt=\"Open In Colab\"/></a>"
      ]
    },
    {
      "cell_type": "markdown",
      "metadata": {
        "id": "0n6Z-XUL2zu7"
      },
      "source": [
        "\n",
        "How to GDAL on Colab\n",
        "\n",
        "https://github.com/acgeospatial/Satellite_Imagery_Python/blob/master/Colaboratory_GDAL.ipynb \n",
        "\n",
        "\n",
        "Example pepared for APIs https://drive.google.com/open?id=1FZKO_PgeSYNlDKqXYakmpxs6uCXxqzXb\n",
        "\n"
      ]
    },
    {
      "cell_type": "markdown",
      "metadata": {
        "id": "zykptWK66NMA"
      },
      "source": [
        "# pyWAPOR Toolbox\n",
        "\n",
        "This jupyter notebook explains the functions and possibilities of the pyWAPOR toolbox. The toolbox is developed based on the equations mentioned within the  WaPOR Data Manual. The toolbox has 3 phases, namely:\n",
        "\n",
        "1. Collect functions to download the in the WaPOR data manual described datasets automatically from the server. \n",
        "2. Processing functions to process and calculate the input datasets for ETLook model\n",
        "3. ETLook model\n",
        "\n",
        "While the output of the ET maps from the WaPOR ET dataset is dekadal, this toolbox calculates the ET on a daily basis. No interpolations methods in time are appied to remove \"no data values\" within the MODIS products like clouds. The ET value of a corresponding \"no data value\" will also be a \"no data value\". This will result in gaps within the ET maps.\n",
        "\n",
        "The different phases of the toolbox will be shown one by one within this jupyter notebook\n",
        "\n",
        "## 1. Collect Tools\n",
        "\n",
        "With the collect tools, all the Level 1 datasets that are described in the WaPOR Data Manual can be downloaded automatically by using the collect tools. The tools already convert the format and projection to Tiff and WGS84. The collect tools can collect datasets from:\n",
        "\n",
        "1.   CHIRPS\n",
        "2.   GEOS\n",
        "3.   Globcover\n",
        "4.   MCD43\n",
        "5.   MERRA\n",
        "6.   MOD11\n",
        "7.   MOD13\n",
        "8.   MSGCPP\n",
        "9.   MYD11\n",
        "10. MYD13\n",
        "11. SRTM\n",
        "12. WAPOR\n",
        "\n",
        "How to run the collect tools is shown one by one within this chapter. But before we start we will install the pyWAPOR module, which is available from the pypi library and therefor can be installed by using the pip command. To install run the following command:\n",
        "\n"
      ]
    },
    {
      "cell_type": "code",
      "metadata": {
        "id": "mNZs1IrpH_U_",
        "outputId": "e7ae3e31-8a13-42eb-f8d5-29505b0e75b9",
        "colab": {
          "base_uri": "https://localhost:8080/",
          "height": 615
        }
      },
      "source": [
        "!pip install pyWAPOR==1.0.0"
      ],
      "execution_count": null,
      "outputs": [
        {
          "output_type": "stream",
          "text": [
            "Collecting pyWAPOR==1.0.0\n",
            "\u001b[?25l  Downloading https://files.pythonhosted.org/packages/9c/06/8a261fcc44762ed868a3e1d844065ab8628f012f28d6dd1de91645b7ba4a/pyWAPOR-1.0.0-py3-none-any.whl (145kB)\n",
            "\u001b[K    100% |████████████████████████████████| 153kB 9.9MB/s \n",
            "\u001b[?25hCollecting netCDF4 (from pyWAPOR==1.0.0)\n",
            "\u001b[?25l  Downloading https://files.pythonhosted.org/packages/35/1b/2fcb6c6b34cf4b16ba59acefad5329df7979600b7c6ab24acbe43dbf1f27/netCDF4-1.5.0.1-cp36-cp36m-manylinux1_x86_64.whl (4.0MB)\n",
            "\u001b[K    100% |████████████████████████████████| 4.0MB 7.5MB/s \n",
            "\u001b[?25hRequirement already satisfied: requests in /usr/local/lib/python3.6/dist-packages (from pyWAPOR==1.0.0) (2.18.4)\n",
            "Requirement already satisfied: beautifulsoup4>=4.6.0 in /usr/local/lib/python3.6/dist-packages (from pyWAPOR==1.0.0) (4.6.3)\n",
            "Requirement already satisfied: numpy>=1.14.5 in /usr/local/lib/python3.6/dist-packages (from pyWAPOR==1.0.0) (1.14.6)\n",
            "Collecting pandas>=0.23.3 (from pyWAPOR==1.0.0)\n",
            "\u001b[?25l  Downloading https://files.pythonhosted.org/packages/19/74/e50234bc82c553fecdbd566d8650801e3fe2d6d8c8d940638e3d8a7c5522/pandas-0.24.2-cp36-cp36m-manylinux1_x86_64.whl (10.1MB)\n",
            "\u001b[K    100% |████████████████████████████████| 10.1MB 3.4MB/s \n",
            "\u001b[?25hCollecting cftime (from netCDF4->pyWAPOR==1.0.0)\n",
            "\u001b[?25l  Downloading https://files.pythonhosted.org/packages/70/64/8ceadda42af3c1b27ee77005807e38c6d77baef28a8f9216b60577fddd71/cftime-1.0.3.4-cp36-cp36m-manylinux1_x86_64.whl (305kB)\n",
            "\u001b[K    100% |████████████████████████████████| 307kB 26.0MB/s \n",
            "\u001b[?25hRequirement already satisfied: urllib3<1.23,>=1.21.1 in /usr/local/lib/python3.6/dist-packages (from requests->pyWAPOR==1.0.0) (1.22)\n",
            "Requirement already satisfied: idna<2.7,>=2.5 in /usr/local/lib/python3.6/dist-packages (from requests->pyWAPOR==1.0.0) (2.6)\n",
            "Requirement already satisfied: certifi>=2017.4.17 in /usr/local/lib/python3.6/dist-packages (from requests->pyWAPOR==1.0.0) (2019.3.9)\n",
            "Requirement already satisfied: chardet<3.1.0,>=3.0.2 in /usr/local/lib/python3.6/dist-packages (from requests->pyWAPOR==1.0.0) (3.0.4)\n",
            "Requirement already satisfied: pytz>=2011k in /usr/local/lib/python3.6/dist-packages (from pandas>=0.23.3->pyWAPOR==1.0.0) (2018.9)\n",
            "Requirement already satisfied: python-dateutil>=2.5.0 in /usr/local/lib/python3.6/dist-packages (from pandas>=0.23.3->pyWAPOR==1.0.0) (2.5.3)\n",
            "Requirement already satisfied: six>=1.5 in /usr/local/lib/python3.6/dist-packages (from python-dateutil>=2.5.0->pandas>=0.23.3->pyWAPOR==1.0.0) (1.11.0)\n",
            "\u001b[31mfastai 1.0.51 has requirement numpy>=1.15, but you'll have numpy 1.14.6 which is incompatible.\u001b[0m\n",
            "Installing collected packages: cftime, netCDF4, pandas, pyWAPOR\n",
            "  Found existing installation: pandas 0.22.0\n",
            "    Uninstalling pandas-0.22.0:\n",
            "      Successfully uninstalled pandas-0.22.0\n",
            "Successfully installed cftime-1.0.3.4 netCDF4-1.5.0.1 pandas-0.24.2 pyWAPOR-1.0.0\n"
          ],
          "name": "stdout"
        },
        {
          "output_type": "display_data",
          "data": {
            "application/vnd.colab-display-data+json": {
              "pip_warning": {
                "packages": [
                  "pandas"
                ]
              }
            }
          },
          "metadata": {
            "tags": []
          }
        }
      ]
    },
    {
      "cell_type": "markdown",
      "metadata": {
        "id": "i31bjDGDVv-9"
      },
      "source": [
        "Before using the toolbox, import the toolbox to make the functions available."
      ]
    },
    {
      "cell_type": "code",
      "metadata": {
        "id": "B1MPqIBhVvF9"
      },
      "source": [
        "import pyWAPOR"
      ],
      "execution_count": null,
      "outputs": []
    },
    {
      "cell_type": "markdown",
      "metadata": {
        "id": "A25kwuLRpqrJ"
      },
      "source": [
        "### 1.0 NASA Account\n",
        "\n",
        "To collect all the MODIS products and the MERRA2 datasets, an NASA user account is required. To create a NASA acccount go to https://urs.earthdata.nasa.gov/users/new. For the MERRA2 and MODIS data, a NASA account in which you authorize the \"NASA GESDISC DATA ARCHIVE\" is required. To do this, login into your account and authorize for the \"NASA GESDISC DATA ARCHIVE\" and \"LP DAAC OPeNDAP\" applications within the Applications tab of your profile.\n",
        "\n",
        "Fill in your username and password here:"
      ]
    },
    {
      "cell_type": "code",
      "metadata": {
        "id": "FThYKCpuqiCi"
      },
      "source": [
        "# Before running the rest of the codes fill in your username and password of your NASA account here:\n",
        "username = \"\"\n",
        "password = \"\""
      ],
      "execution_count": null,
      "outputs": []
    },
    {
      "cell_type": "markdown",
      "metadata": {
        "id": "n_5U3VY9H_6m"
      },
      "source": [
        "### 1.1 CHIRPS\n",
        "\n",
        "The CHIRPS collect function can be used to collect daily precipitation data between 1981 till now between the latitudes 50N and 50S.\n",
        "Lets run the code for the Nile Delta for 2009-07-03 till 2009-07-05. The bounding box of the Nile Delta is between the latitudes 28.5N and 31.9N and the longitudes are between 29.2E and 32.5E. \n",
        "\n",
        "The required inputs in order to run this function are:\n",
        "1. output folder, in which the end product will be stored as a tiff file and in the WGS84 projection. \n",
        "2. Startdate as a string in the following format: \"yyyy-mm-dd\"\n",
        "3. Enddate as a string in the following format: \"yyyy-mm-dd\"\n",
        "4. Latitude Limits as an array with the following format: [Ymin, Ymax]\n",
        "5. Longitude Limits as an array with the following format: [Xmin, Xmax]\n",
        "\n",
        "In order to run the function for the mentioned time and space, the following command can be applied:"
      ]
    },
    {
      "cell_type": "code",
      "metadata": {
        "id": "w7gYLYNKVsDN",
        "outputId": "e6cd6bb9-7b90-4078-d859-66479fd486c7",
        "colab": {
          "base_uri": "https://localhost:8080/",
          "height": 72
        }
      },
      "source": [
        "pyWAPOR.Collect.CHIRPS.daily(r\"/content/sample_data/RAW\", \"2009-07-03\", \"2009-07-05\", [28.5, 31.9], [29.2, 32.5])"
      ],
      "execution_count": null,
      "outputs": [
        {
          "output_type": "stream",
          "text": [
            "\n",
            "Downloading daily CHIRPS rainfall data for the period 2009-07-03 till 2009-07-05\n",
            "Progress: |██████████████████████████████████████████████████| 100.0% Complete\n"
          ],
          "name": "stdout"
        }
      ]
    },
    {
      "cell_type": "markdown",
      "metadata": {
        "id": "Q08y3fbVSUyA"
      },
      "source": [
        "To quickly show the tiff file a function is made within the toolbox called Show_tif. \n",
        "This functions needs 3 parameters:\n",
        "1. path to the tiff file: string\n",
        "2. Colormap minimum and maximum: [Cmin, Cmax]\n",
        "3. Colormap color that is used: string  (see https://matplotlib.org/examples/color/colormaps_reference.html for possible options)\n",
        "\n",
        "**Show daily CHIRPS data:**"
      ]
    },
    {
      "cell_type": "code",
      "metadata": {
        "id": "Wx9mFfXM0s51",
        "outputId": "6d375207-c4ba-46ce-e6b9-d74662e73dc0",
        "colab": {
          "base_uri": "https://localhost:8080/",
          "height": 369
        }
      },
      "source": [
        "pyWAPOR.Functions.Processing_Functions.Show_tif(r\"/content/sample_data/RAW/Precipitation/CHIRPS/P_CHIRPS.v2.0_mm-day-1_daily_2009.07.03.tif\")\n"
      ],
      "execution_count": null,
      "outputs": [
        {
          "output_type": "display_data",
          "data": {
            "image/png": "[encoded data removed]",
            "text/plain": [
              "<Figure size 576x396 with 2 Axes>"
            ]
          },
          "metadata": {
            "tags": []
          }
        },
        {
          "output_type": "execute_result",
          "data": {
            "text/plain": [
              "()"
            ]
          },
          "metadata": {
            "tags": []
          },
          "execution_count": 6
        }
      ]
    },
    {
      "cell_type": "markdown",
      "metadata": {
        "id": "Oh1GRoLJWPnm"
      },
      "source": [
        "### 1.2 GEOS\n",
        "\n",
        "The GEOS collect function can be used to collect daily or 3-hourly weather data between December 2017 and now globally. The following variables can be downloaded:\n",
        "\n",
        "1. t2m  =  2m Air Temperature\n",
        "2. u2m = 2m Eastward wind\n",
        "3. v2m = 2m Northward wind\n",
        "4. qv2m = 2m Specific Humidity\n",
        "5. tqv = Total Precipitable Water Vapor\n",
        "6. ps = Surface Pressure\n",
        "7. slp = Sea Level Pressure\n",
        "\n",
        "Lets run the daily code to collect all the possible weather data variables for the Nile Delta for 2018-07-03 till 2018-07-05 (here we take another time period, because for the sample period the data is not available). The bounding box of the Nile Delta is between the latitudes 28.5N and 31.9N and the longitudes are between 29.2E and 32.5E. \n",
        "\n",
        "The required inputs in order to run this function are:\n",
        "1. output folder, in which the end product will be stored as a tiff file and in the WGS84 projection. \n",
        "2. Define the variables that has to be collected like an Array inlcuding strings: [\"t2m\", \"u2m\"]\n",
        "3. Startdate as a string in the following format: \"yyyy-mm-dd\"\n",
        "4. Enddate as a string in the following format: \"yyyy-mm-dd\"\n",
        "5. Latitude Limits as an array with the following format: [Ymin, Ymax]\n",
        "6. Longitude Limits as an array with the following format: [Xmin, Xmax]\n",
        "\n",
        "In order to run the daily function for the mentioned time and space, the following command can be applied:"
      ]
    },
    {
      "cell_type": "code",
      "metadata": {
        "id": "x_L2ZkIMIaBO",
        "outputId": "7afa2f24-0d52-4619-ccc1-fb6117c24bdd",
        "colab": {
          "base_uri": "https://localhost:8080/",
          "height": 399
        }
      },
      "source": [
        "pyWAPOR.Collect.GEOS.daily(r\"/content/sample_data/RAW\", [\"t2m\", \"u2m\", \"v2m\", \"qv2m\", \"tqv\", \"ps\", \"slp\"], \"2018-07-03\", \"2018-07-05\", [28.5, 31.9], [29.2, 32.5])"
      ],
      "execution_count": null,
      "outputs": [
        {
          "output_type": "stream",
          "text": [
            "\n",
            "Downloading daily GEOS t2m data for the period 2018-07-03 till 2018-07-05\n",
            "Progress: |██████████████████████████████████████████████████| 100.0% Complete\n",
            "\n",
            "Downloading daily GEOS u2m data for the period 2018-07-03 till 2018-07-05\n",
            "Progress: |██████████████████████████████████████████████████| 100.0% Complete\n",
            "\n",
            "Downloading daily GEOS v2m data for the period 2018-07-03 till 2018-07-05\n",
            "Progress: |██████████████████████████████████████████████████| 100.0% Complete\n",
            "\n",
            "Downloading daily GEOS qv2m data for the period 2018-07-03 till 2018-07-05\n",
            "Progress: |██████████████████████████████████████████████████| 100.0% Complete\n",
            "\n",
            "Downloading daily GEOS tqv data for the period 2018-07-03 till 2018-07-05\n",
            "Progress: |██████████████████████████████████████████████████| 100.0% Complete\n",
            "\n",
            "Downloading daily GEOS ps data for the period 2018-07-03 till 2018-07-05\n",
            "Progress: |██████████████████████████████████████████████████| 100.0% Complete\n",
            "\n",
            "Downloading daily GEOS slp data for the period 2018-07-03 till 2018-07-05\n",
            "Progress: |██████████████████████████████████████████████████| 100.0% Complete\n"
          ],
          "name": "stdout"
        }
      ]
    },
    {
      "cell_type": "markdown",
      "metadata": {
        "id": "8HLqWr9GS-cu"
      },
      "source": [
        "**Show daily GEOS data:**\n",
        "1. Air Temperature\n",
        "2. Eastward wind component\n",
        "3. Northward wind component\n",
        "4. Sea Level Air Pressure\n",
        "5. Specific Humidity\n",
        "6. Surface Air Pressure\n",
        "7. Total Precipitable Water Vapor"
      ]
    },
    {
      "cell_type": "code",
      "metadata": {
        "id": "2gt_KL5FOse8",
        "outputId": "2f9077ee-319e-4d03-9148-7f7e1f5d8128",
        "colab": {
          "base_uri": "https://localhost:8080/",
          "height": 2348
        }
      },
      "source": [
        "pyWAPOR.Functions.Processing_Functions.Show_tif(r\"/content/sample_data/RAW/GEOS/Air_Temperature/daily/t2m_GEOS_K_daily_2018.07.03.tif\", None, \"coolwarm\")\n",
        "pyWAPOR.Functions.Processing_Functions.Show_tif(r\"/content/sample_data/RAW/GEOS/Eastward_Wind/daily/u2m_GEOS_m-s-1_daily_2018.07.03.tif\", None, \"plasma\")\n",
        "pyWAPOR.Functions.Processing_Functions.Show_tif(r\"/content/sample_data/RAW/GEOS/Northward_Wind/daily/v2m_GEOS_m-s-1_daily_2018.07.03.tif\", None, \"cool\")\n",
        "pyWAPOR.Functions.Processing_Functions.Show_tif(r\"/content/sample_data/RAW/GEOS/Sea_Level_Pressure/daily/slp_GEOS_kpa_daily_2018.07.03.tif\", None, \"copper\")\n",
        "pyWAPOR.Functions.Processing_Functions.Show_tif(r\"/content/sample_data/RAW/GEOS/Specific_Humidity/daily/qv2m_GEOS_kg-kg-1_daily_2018.07.03.tif\", None, \"RdBu\")\n",
        "pyWAPOR.Functions.Processing_Functions.Show_tif(r\"/content/sample_data/RAW/GEOS/Surface_Pressure/daily/ps_GEOS_kpa_daily_2018.07.03.tif\", None, \"PiYG\")\n",
        "pyWAPOR.Functions.Processing_Functions.Show_tif(r\"/content/sample_data/RAW/GEOS/Total_Precipitable_Water_Vapor/daily/tqv_GEOS_mm_daily_2018.07.03.tif\")"
      ],
      "execution_count": null,
      "outputs": [
        {
          "output_type": "display_data",
          "data": {
            "image/png": "[encoded data removed]",
            "text/plain": [
              "<Figure size 576x396 with 2 Axes>"
            ]
          },
          "metadata": {
            "tags": []
          }
        },
        {
          "output_type": "display_data",
          "data": {
            "image/png": "[encoded data removed]",
            "text/plain": [
              "<Figure size 576x396 with 2 Axes>"
            ]
          },
          "metadata": {
            "tags": []
          }
        },
        {
          "output_type": "display_data",
          "data": {
            "image/png": "[encoded data removed]",
            "text/plain": [
              "<Figure size 576x396 with 2 Axes>"
            ]
          },
          "metadata": {
            "tags": []
          }
        },
        {
          "output_type": "display_data",
          "data": {
            "image/png": "[encoded data removed]",
            "text/plain": [
              "<Figure size 576x396 with 2 Axes>"
            ]
          },
          "metadata": {
            "tags": []
          }
        },
        {
          "output_type": "display_data",
          "data": {
            "image/png": "[encoded data removed]",
            "text/plain": [
              "<Figure size 576x396 with 2 Axes>"
            ]
          },
          "metadata": {
            "tags": []
          }
        },
        {
          "output_type": "display_data",
          "data": {
            "image/png": "[encoded data removed]",
            "text/plain": [
              "<Figure size 576x396 with 2 Axes>"
            ]
          },
          "metadata": {
            "tags": []
          }
        },
        {
          "output_type": "display_data",
          "data": {
            "image/png": "[encoded data removed]",
            "text/plain": [
              "<Figure size 576x396 with 2 Axes>"
            ]
          },
          "metadata": {
            "tags": []
          }
        },
        {
          "output_type": "execute_result",
          "data": {
            "text/plain": [
              "()"
            ]
          },
          "metadata": {
            "tags": []
          },
          "execution_count": 8
        }
      ]
    },
    {
      "cell_type": "markdown",
      "metadata": {
        "id": "Vn0oi5xzaBh9"
      },
      "source": [
        "For the 3-hourly function the user need to specify one more parameter, namely the periods that needs to be collected. It is optional, if no period is filled in, all the periods will be downloaded. The period is defined as the 7th parameter and is a value between 1 and 8 in which period 1 means time between 00:00 and 03:00, period 2 means period between 03:00 and 06:00, etc..\n",
        "\n",
        "7. Period defined as an Array: [1, 2, 3, 4, 5, 6, 7, 8,]\n",
        "\n",
        "In order to run the 3-hourly function for the mentioned date and for time period 4 and 5 (means time between 09:00 till 12:00 and 12:00 till 15:00) and space, the following command can be applied:"
      ]
    },
    {
      "cell_type": "code",
      "metadata": {
        "id": "0wN3TP7Ea3_l"
      },
      "source": [
        "pyWAPOR.Collect.GEOS.three_hourly(r\"/content/sample_data/RAW\", [\"t2m\", \"u2m\", \"v2m\", \"qv2m\", \"tqv\", \"ps\", \"slp\"], \"2018-07-03\", \"2018-07-05\", [28.5, 31.9], [29.2, 32.5], [4, 5])"
      ],
      "execution_count": null,
      "outputs": []
    },
    {
      "cell_type": "markdown",
      "metadata": {
        "id": "LHHQU4dyTczV"
      },
      "source": [
        "**Show 3 hourly GEOS data:**\n",
        "1. Air Temperature\n",
        "2. Eastward wind component\n",
        "3. Northward wind component\n",
        "4. Sea Level Air Pressure\n",
        "5. Specific Humidity\n",
        "6. Surface Air Pressure\n",
        "7. Total Precipitable Water Vapor"
      ]
    },
    {
      "cell_type": "code",
      "metadata": {
        "id": "qLXk6JVtTlrG"
      },
      "source": [
        "pyWAPOR.Functions.Processing_Functions.Show_tif(r\"/content/sample_data/RAW/GEOS/Air_Temperature/three_hourly/t2m_GEOS_K_3-hourly_2018.07.03_H09.M00.tif\", None, \"coolwarm\")\n",
        "pyWAPOR.Functions.Processing_Functions.Show_tif(r\"/content/sample_data/RAW/GEOS/Eastward_Wind/three_hourly/u2m_GEOS_m-s-1_3-hourly_2018.07.03_H09.M00.tif\", None, \"plasma\")\n",
        "pyWAPOR.Functions.Processing_Functions.Show_tif(r\"/content/sample_data/RAW/GEOS/Northward_Wind/three_hourly/v2m_GEOS_m-s-1_3-hourly_2018.07.03_H09.M00.tif\", None, \"cool\")\n",
        "pyWAPOR.Functions.Processing_Functions.Show_tif(r\"/content/sample_data/RAW/GEOS/Sea_Level_Pressure/three_hourly/slp_GEOS_kpa_3-hourly_2018.07.03_H09.M00.tif\", None, \"copper\")\n",
        "pyWAPOR.Functions.Processing_Functions.Show_tif(r\"/content/sample_data/RAW/GEOS/Specific_Humidity/three_hourly/qv2m_GEOS_kg-kg-1_3-hourly_2018.07.03_H09.M00.tif\", None, \"RdBu\")\n",
        "pyWAPOR.Functions.Processing_Functions.Show_tif(r\"/content/sample_data/RAW/GEOS/Surface_Pressure/three_hourly/ps_GEOS_kpa_3-hourly_2018.07.03_H09.M00.tif\", None, \"PiYG\")\n",
        "pyWAPOR.Functions.Processing_Functions.Show_tif(r\"/content/sample_data/RAW/GEOS/Total_Precipitable_Water_Vapor/three_hourly/tqv_GEOS_mm_3-hourly_2018.07.03_H09.M00.tif\")"
      ],
      "execution_count": null,
      "outputs": []
    },
    {
      "cell_type": "markdown",
      "metadata": {
        "id": "5c-rgQpNa-4N"
      },
      "source": [
        "### 1.3 GlobCover\n",
        "\n",
        "The Globcover is a static map giving the land use type of the globe. The downloaded version of Globcover is V2.3. Because this map is static, no time period has to be defined.\n",
        "\n",
        "The required inputs in order to run this function are:\n",
        "1. output folder, in which the end product will be stored as a tiff file and in the WGS84 projection. \n",
        "2. Latitude Limits as an array with the following format: [Ymin, Ymax]\n",
        "3. Longitude Limits as an array with the following format: [Xmin, Xmax]\n",
        "\n",
        "The following code can download the GlobCover map for the defined area:"
      ]
    },
    {
      "cell_type": "code",
      "metadata": {
        "id": "PwnPmk6Da-Dt"
      },
      "source": [
        "pyWAPOR.Collect.Globcover.Landuse(r\"/content/sample_data/RAW\", [28.5, 31.9], [29.2, 32.5])"
      ],
      "execution_count": null,
      "outputs": []
    },
    {
      "cell_type": "markdown",
      "metadata": {
        "id": "Q7IxQisWU72I"
      },
      "source": [
        "**Show GlobCover data:**"
      ]
    },
    {
      "cell_type": "code",
      "metadata": {
        "id": "edbhM3qYVDeI"
      },
      "source": [
        "pyWAPOR.Functions.Processing_Functions.Show_tif(r\"/content/sample_data/RAW/GlobCover/Landuse/LC_GLOBCOVER_V2.3.tif\", None, \"Set3\")"
      ],
      "execution_count": null,
      "outputs": []
    },
    {
      "cell_type": "markdown",
      "metadata": {
        "id": "lNm4b7K4b1v8"
      },
      "source": [
        "### 1.4 MCD43\n",
        "\n",
        "The MCD43A3 is a daily combined MODIS product based on the AQUA and TERRA MODIS satellites. Two parameters are used to calculate the surface albedo, namely the diffuce [Albedo_WSA_shortwave] and direct [Albedo_BSA_shortwave] term. The daily surface albedo is calculated by: ALBEDO = 0.3 * Diffuse + 0.7 * Direct. The data is globally available for the period: 2000-02-24 till now.  For the MCD43 data the NASA account is required.\n",
        "\n",
        "The required inputs in order to run this function are:\n",
        "1. output folder, in which the end product will be stored as a tiff file and in the WGS84 projection. \n",
        "2. Startdate as a string in the following format: \"yyyy-mm-dd\"\n",
        "3. Enddate as a string in the following format: \"yyyy-mm-dd\"\n",
        "4. Latitude Limits as an array with the following format: [Ymin, Ymax]\n",
        "5. Longitude Limits as an array with the following format: [Xmin, Xmax]\n",
        "6. username of your NASA account\n",
        "7. password of your NASA account\n",
        "\n",
        "In order to run the function for the Nile Delta for the sample period, the following command can be applied:\n"
      ]
    },
    {
      "cell_type": "code",
      "metadata": {
        "id": "_GO_6yz-fG1l"
      },
      "source": [
        "pyWAPOR.Collect.MCD43.ALBEDO(r\"/content/sample_data/RAW\", \"2009-07-03\", \"2009-07-05\", [28.5, 31.9], [29.2, 32.5], username, password)"
      ],
      "execution_count": null,
      "outputs": []
    },
    {
      "cell_type": "markdown",
      "metadata": {
        "id": "WuN8SYPtVuFf"
      },
      "source": [
        "**Show ALBEDO data:**"
      ]
    },
    {
      "cell_type": "code",
      "metadata": {
        "id": "RxzEZ8iWVytv"
      },
      "source": [
        "pyWAPOR.Functions.Processing_Functions.Show_tif(r\"/content/sample_data/RAW/MODIS/MCD43/Albedo_MCD43A3_-_daily_2009.07.03.tif\", None, \"Greys\")"
      ],
      "execution_count": null,
      "outputs": []
    },
    {
      "cell_type": "markdown",
      "metadata": {
        "id": "n8SX6HAffM1U"
      },
      "source": [
        "### 1.5 MERRA\n",
        "\n",
        "From the MERRA database the weather data can also be collected for the period before the GEOS era. Within this functions there are 5 different functions:\n",
        "The MERRA dataset (available between 1st of July till 31th December 2015):\n",
        "1. three_hourly\n",
        "2. daily\n",
        "\n",
        "The MERRA2 dataset (available between 1980 till now):\n",
        "3. hourly_MERRA2\n",
        "4. daily_MERRA2\n",
        "\n",
        "Functions to calculate the yearly amplitude using MERRA (NOTE: for years after 2015, the year 2015 is used to get the amplitude because of the period that is covered within the MERRA database. It is possible to get the amplitude from the MERRA2 database, but because this is not collected from an OpenDAP system but single NetCDF files that includes many variables, this might take to long):\n",
        "5. yearly_T_Amplitude\n",
        "\n",
        "The MERRA dataset is collected from an OpenDAP system, which makes it faster to collect the datasets. Therefor this dataset is preferred to use to run the ETLook model. For the MERRA2 data the NASA account is required.\n",
        "\n",
        "For the MERRA and MERRA2 the following paramters can be downloaded:\n",
        "1. t2m  =  2m Air Temperature\n",
        "2. u2m = 2m Eastward wind\n",
        "3. v2m = 2m Northward wind\n",
        "4. q2m = 2m Specific Humidity\n",
        "5. tpw = Total Precipitable Water Vapor\n",
        "6. ps = Surface Pressure\n",
        "7. slp = Sea Level Pressure\n",
        "8. swgnet = Surface Net Downward Shortwave Flux\n",
        "\n",
        "For the MERRA daily functions the following parameters have to be defined:\n",
        "1. output folder, in which the end product will be stored as a tiff file and in the WGS84 projection. \n",
        "2. Define the variables that has to be collected like an Array inlcuding strings: [\"t2m\", \"u2m\"]\n",
        "3. Startdate as a string in the following format: \"yyyy-mm-dd\"\n",
        "4. Enddate as a string in the following format: \"yyyy-mm-dd\"\n",
        "5. Latitude Limits as an array with the following format: [Ymin, Ymax]\n",
        "6. Longitude Limits as an array with the following format: [Xmin, Xmax]\n",
        "\n",
        "To run the code for our area and time period to get all the possible weather input on daily basis, the following function can be used:. "
      ]
    },
    {
      "cell_type": "code",
      "metadata": {
        "id": "vT7T7ILHk4Ez"
      },
      "source": [
        "pyWAPOR.Collect.MERRA.daily(r\"/content/sample_data/RAW\", [\"t2m\", \"u2m\", \"v2m\", \"q2m\", \"tpw\", \"ps\", \"slp\", \"swgnet\"], \"2009-07-03\", \"2009-07-05\", [28.5, 31.9], [29.2, 32.5])"
      ],
      "execution_count": null,
      "outputs": []
    },
    {
      "cell_type": "markdown",
      "metadata": {
        "id": "KI3efG-eXIiw"
      },
      "source": [
        "**Show daily MERRA data:**\n",
        "1. Air Temperature\n",
        "2. Eastward wind component\n",
        "3. Northward wind component\n",
        "4. Sea Level Air Pressure\n",
        "5. Specific Humidity\n",
        "6. Surface Air Pressure\n",
        "7. Total Precipitable Water Vapor\n",
        "8. Surface Net Downward Shortwave Flux"
      ]
    },
    {
      "cell_type": "code",
      "metadata": {
        "id": "oikCn8BKXTFg"
      },
      "source": [
        "pyWAPOR.Functions.Processing_Functions.Show_tif(r\"/content/sample_data/RAW/MERRA/Air_Temperature/daily/t2m_MERRA_K_daily_2009.07.03.tif\", None, \"coolwarm\")\n",
        "pyWAPOR.Functions.Processing_Functions.Show_tif(r\"/content/sample_data/RAW/MERRA/Eastward_Wind/daily/u2m_MERRA_m-s-1_daily_2009.07.03.tif\", None, \"plasma\")\n",
        "pyWAPOR.Functions.Processing_Functions.Show_tif(r\"/content/sample_data/RAW/MERRA/Northward_Wind/daily/v2m_MERRA_m-s-1_daily_2009.07.03.tif\", None, \"cool\")\n",
        "pyWAPOR.Functions.Processing_Functions.Show_tif(r\"/content/sample_data/RAW/MERRA/Sea_Level_Pressure/daily/slp_MERRA_kpa_daily_2009.07.03.tif\", None, \"copper\")\n",
        "pyWAPOR.Functions.Processing_Functions.Show_tif(r\"/content/sample_data/RAW/MERRA/Specific_Humidity/daily/q2m_MERRA_kg-kg-1_daily_2009.07.03.tif\", None, \"RdBu\")\n",
        "pyWAPOR.Functions.Processing_Functions.Show_tif(r\"/content/sample_data/RAW/MERRA/Surface_Pressure/daily/ps_MERRA_kpa_daily_2009.07.03.tif\", None, \"PiYG\")\n",
        "pyWAPOR.Functions.Processing_Functions.Show_tif(r\"/content/sample_data/RAW/MERRA/Total_Precipitable_Water_Vapor/daily/tpw_MERRA_mm_daily_2009.07.03.tif\")\n",
        "pyWAPOR.Functions.Processing_Functions.Show_tif(r\"/content/sample_data/RAW/MERRA/Surface_Net_Downward_Shortwave_Flux/daily/swgnet_MERRA_W-m-2_daily_2009.07.03.tif\")"
      ],
      "execution_count": null,
      "outputs": []
    },
    {
      "cell_type": "markdown",
      "metadata": {
        "id": "MSdz7vn2k7_S"
      },
      "source": [
        "One more input is required for the three_hourly function, and that is just like the GEOS three_hourly function the period. Also here it is an optional parameter and if not defined, all the periods will be downloaded. The period is defined as the 7th parameter and is a value between 1 and 8 in which period 1 means time between 00:00 and 03:00, period 2 means period between 03:00 and 06:00, etc..\n",
        "\n",
        "Period defined as an Array: [1, 2, 3, 4, 5, 6, 7, 8,]\n",
        "\n",
        "In order to run the 3-hourly function for the mentioned date and for time period 4 and 5 (means time between 09:00 till 12:00 and 12:00 till 15:00) and space, the following command can be applied:"
      ]
    },
    {
      "cell_type": "code",
      "metadata": {
        "id": "HKz24vJnlt3C"
      },
      "source": [
        "pyWAPOR.Collect.MERRA.three_hourly(r\"/content/sample_data/RAW\", [\"t2m\", \"u2m\", \"v2m\", \"q2m\", \"tpw\", \"ps\", \"slp\", \"swgnet\"], \"2009-07-03\", \"2009-07-05\", [28.5, 31.9], [29.2, 32.5], [4, 5])"
      ],
      "execution_count": null,
      "outputs": []
    },
    {
      "cell_type": "markdown",
      "metadata": {
        "id": "xui50qutZNZI"
      },
      "source": [
        "**Show 3 hourly MERRA data:**\n",
        "1. Air Temperature\n",
        "2. Eastward wind component\n",
        "3. Northward wind component\n",
        "4. Sea Level Air Pressure\n",
        "5. Specific Humidity\n",
        "6. Surface Air Pressure\n",
        "7. Total Precipitable Water Vapor\n",
        "8. Surface Net Downward Shortwave Flux"
      ]
    },
    {
      "cell_type": "code",
      "metadata": {
        "id": "F0WXNIkBZS6r"
      },
      "source": [
        "pyWAPOR.Functions.Processing_Functions.Show_tif(r\"/content/sample_data/RAW/MERRA/Air_Temperature/three_hourly/t2m_MERRA_K_3-hourly_2009.07.03_H09.M00.tif\", None, \"coolwarm\")\n",
        "pyWAPOR.Functions.Processing_Functions.Show_tif(r\"/content/sample_data/RAW/MERRA/Eastward_Wind/three_hourly/u2m_MERRA_m-s-1_3-hourly_2009.07.03_H09.M00.tif\", None, \"plasma\")\n",
        "pyWAPOR.Functions.Processing_Functions.Show_tif(r\"/content/sample_data/RAW/MERRA/Northward_Wind/three_hourly/v2m_MERRA_m-s-1_3-hourly_2009.07.03_H09.M00.tif\", None, \"cool\")\n",
        "pyWAPOR.Functions.Processing_Functions.Show_tif(r\"/content/sample_data/RAW/MERRA/Sea_Level_Pressure/three_hourly/slp_MERRA_kpa_3-hourly_2009.07.03_H09.M00.tif\", None, \"copper\")\n",
        "pyWAPOR.Functions.Processing_Functions.Show_tif(r\"/content/sample_data/RAW/MERRA/Specific_Humidity/three_hourly/q2m_MERRA_kg-kg-1_3-hourly_2009.07.03_H09.M00.tif\", None, \"RdBu\")\n",
        "pyWAPOR.Functions.Processing_Functions.Show_tif(r\"/content/sample_data/RAW/MERRA/Surface_Pressure/three_hourly/ps_MERRA_kpa_3-hourly_2009.07.03_H09.M00.tif\", None, \"PiYG\")\n",
        "pyWAPOR.Functions.Processing_Functions.Show_tif(r\"/content/sample_data/RAW/MERRA/Total_Precipitable_Water_Vapor/three_hourly/tpw_MERRA_mm_3-hourly_2009.07.03_H09.M00.tif\")\n",
        "pyWAPOR.Functions.Processing_Functions.Show_tif(r\"/content/sample_data/RAW/MERRA/Surface_Net_Downward_Shortwave_Flux/three_hourly/swgnet_MERRA_W-m-2_3-hourly_2009.07.03_H09.M00.tif\", None, \"gist_heat\")"
      ],
      "execution_count": null,
      "outputs": []
    },
    {
      "cell_type": "markdown",
      "metadata": {
        "id": "Z-kHO5a8lzTy"
      },
      "source": [
        "To download the yearly temperature amplitude using the MERRA dataset, the following input parameters are required:\n",
        "\n",
        "1. output folder, in which the end product will be stored as a tiff file and in the WGS84 projection. \n",
        "2. Years defined as an Array: [2009, 2010]\n",
        "3. Latitude Limits as an array with the following format: [Ymin, Ymax]\n",
        "4. Longitude Limits as an array with the following format: [Xmin, Xmax]\n",
        "\n",
        "The following function can be used to get the yearly temperature amplitude for the Nile Delta for 2009:"
      ]
    },
    {
      "cell_type": "code",
      "metadata": {
        "id": "v4cqD3cwmbxi"
      },
      "source": [
        "pyWAPOR.Collect.MERRA.yearly_T_Amplitude(r\"/content/sample_data/RAW\", [2009], [28.5, 31.9], [29.2, 32.5])"
      ],
      "execution_count": null,
      "outputs": []
    },
    {
      "cell_type": "markdown",
      "metadata": {
        "id": "v6w39OMaaE94"
      },
      "source": [
        "**Show yearly air Temperature based on MERRA data:**"
      ]
    },
    {
      "cell_type": "code",
      "metadata": {
        "id": "E_N7SYxBaM0h"
      },
      "source": [
        "pyWAPOR.Functions.Processing_Functions.Show_tif(r\"/content/sample_data/RAW/MERRA/Temperature_Amplitude/yearly/Tamp_MERRA_K_yearly_2009.01.01.tif\", None, \"coolwarm\")"
      ],
      "execution_count": null,
      "outputs": []
    },
    {
      "cell_type": "markdown",
      "metadata": {
        "id": "T4qglL8Vmi2S"
      },
      "source": [
        "With the MERRA2 functions, the same parameters as the MERRA functions can be collected. For those functions a NASA account is required. The data is available since 1981 till now. The function itself is a bit slower compared to the MERRA functions, therefor the MERRA functions is prefered, but this dataset ends in 2016.\n",
        "\n",
        "For the daily collect functions the following parameters are required:\n",
        "1. output folder, in which the end product will be stored as a tiff file and in the WGS84 projection. \n",
        "2. Define the variables that has to be collected like an Array inlcuding strings: [\"t2m\", \"u2m\"]\n",
        "3. Startdate as a string in the following format: \"yyyy-mm-dd\"\n",
        "4. Enddate as a string in the following format: \"yyyy-mm-dd\"\n",
        "5. Latitude Limits as an array with the following format: [Ymin, Ymax]\n",
        "6. Longitude Limits as an array with the following format: [Xmin, Xmax]\n",
        "7. username of your NASA account\n",
        "8. password of your NASA account\n",
        "\n",
        "To run the code for our area and time period to get all the possible weather input on daily basis, the following function can be used:\n",
        "\n"
      ]
    },
    {
      "cell_type": "code",
      "metadata": {
        "id": "Lm2edvaroEA5"
      },
      "source": [
        "pyWAPOR.Collect.MERRA.daily_MERRA2(r\"/content/sample_data/RAW\", [\"t2m\", \"u2m\", \"v2m\", \"q2m\", \"tpw\", \"ps\", \"slp\", \"swgnet\"], \"2018-07-03\", \"2018-07-05\", [28.5, 31.9], [29.2, 32.5], username, password)"
      ],
      "execution_count": null,
      "outputs": []
    },
    {
      "cell_type": "markdown",
      "metadata": {
        "id": "fEJ_Hcp1bZvp"
      },
      "source": [
        "**Show daily MERRA2 data:**\n",
        "1. Air Temperature\n",
        "2. Eastward wind component\n",
        "3. Northward wind component\n",
        "4. Sea Level Air Pressure\n",
        "5. Specific Humidity\n",
        "6. Surface Air Pressure\n",
        "7. Total Precipitable Water Vapor\n",
        "8. Surface Net Downward Shortwave Flux"
      ]
    },
    {
      "cell_type": "code",
      "metadata": {
        "id": "scrd4xC-bY_w"
      },
      "source": [
        "pyWAPOR.Functions.Processing_Functions.Show_tif(r\"/content/sample_data/RAW/MERRA/Air_Temperature/daily_MERRA2/t2m_MERRA_K_daily_2018.07.03.tif\", None, \"coolwarm\")\n",
        "pyWAPOR.Functions.Processing_Functions.Show_tif(r\"/content/sample_data/RAW/MERRA/Eastward_Wind/daily_MERRA2/u2m_MERRA_m-s-1_daily_2018.07.03.tif\", None, \"plasma\")\n",
        "pyWAPOR.Functions.Processing_Functions.Show_tif(r\"/content/sample_data/RAW/MERRA/Northward_Wind/daily_MERRA2/v2m_MERRA_m-s-1_daily_2018.07.03.tif\", None, \"cool\")\n",
        "pyWAPOR.Functions.Processing_Functions.Show_tif(r\"/content/sample_data/RAW/MERRA/Sea_Level_Pressure/daily_MERRA2/slp_MERRA_kpa_daily_2018.07.03.tif\", None, \"copper\")\n",
        "pyWAPOR.Functions.Processing_Functions.Show_tif(r\"/content/sample_data/RAW/MERRA/Specific_Humidity/daily_MERRA2/q2m_MERRA_kg-kg-1_daily_2018.07.03.tif\", None, \"RdBu\")\n",
        "pyWAPOR.Functions.Processing_Functions.Show_tif(r\"/content/sample_data/RAW/MERRA/Surface_Pressure/daily_MERRA2/ps_MERRA_kpa_daily_2018.07.03.tif\", None, \"PiYG\")\n",
        "pyWAPOR.Functions.Processing_Functions.Show_tif(r\"/content/sample_data/RAW/MERRA/Total_Precipitable_Water_Vapor/daily_MERRA2/tpw_MERRA_mm_daily_2018.07.03.tif\")\n",
        "pyWAPOR.Functions.Processing_Functions.Show_tif(r\"/content/sample_data/RAW/MERRA/Surface_Net_Downward_Shortwave_Flux/daily_MERRA2/swgnet_MERRA_W-m-2_daily_2018.07.03.tif\")"
      ],
      "execution_count": null,
      "outputs": []
    },
    {
      "cell_type": "markdown",
      "metadata": {
        "id": "CnbO4vR1ooij"
      },
      "source": [
        "For the hourly_MERRA2 function there is one additional parameter that can be defined and that is the period. In here the periods are hourly. So period 1 correspond with the time between 00:00 till 01:00, etc... \n",
        "If this parameters is not defined, all the 24 periods will be downloaded.\n",
        "\n",
        "In order to run the hourly_MERRA2 function to collect hourly weather data for the mentioned date and for time period 10, 11 and 12 (means time between 09:00 till 10:00, 10:00 till 11:00, and 11:00 till 12:00) and space, the following command can be applied: "
      ]
    },
    {
      "cell_type": "code",
      "metadata": {
        "id": "IHTVPhplpWlz"
      },
      "source": [
        "pyWAPOR.Collect.MERRA.hourly_MERRA2(r\"/content/sample_data/RAW\", [\"t2m\", \"u2m\", \"v2m\", \"q2m\", \"tpw\", \"ps\", \"slp\", \"swgnet\"], \"2018-07-03\", \"2018-07-05\", [28.5, 31.9], [29.2, 32.5], [10, 11, 12], username, password)"
      ],
      "execution_count": null,
      "outputs": []
    },
    {
      "cell_type": "markdown",
      "metadata": {
        "id": "_8MXkQCArTfl"
      },
      "source": [
        "**Show hourly MERRA2 data:**\n",
        "1. Air Temperature\n",
        "2. Eastward wind component\n",
        "3. Northward wind component\n",
        "4. Sea Level Air Pressure\n",
        "5. Specific Humidity\n",
        "6. Surface Air Pressure\n",
        "7. Total Precipitable Water Vapor\n",
        "8. Surface Net Downward Shortwave Flux"
      ]
    },
    {
      "cell_type": "code",
      "metadata": {
        "id": "37MdDEK1rTnd"
      },
      "source": [
        "pyWAPOR.Functions.Processing_Functions.Show_tif(r\"/content/sample_data/RAW/MERRA/Air_Temperature/hourly_MERRA2/t2m_MERRA_K_hourly_2018.07.03_H11.M00.tif\", None, \"coolwarm\")\n",
        "pyWAPOR.Functions.Processing_Functions.Show_tif(r\"/content/sample_data/RAW/MERRA/Eastward_Wind/hourly_MERRA2/u2m_MERRA_m-s-1_hourly_2018.07.03_H11.M00.tif\", None, \"plasma\")\n",
        "pyWAPOR.Functions.Processing_Functions.Show_tif(r\"/content/sample_data/RAW/MERRA/Northward_Wind/hourly_MERRA2/v2m_MERRA_m-s-1_hourly_2018.07.03_H11.M00.tif\", None, \"cool\")\n",
        "pyWAPOR.Functions.Processing_Functions.Show_tif(r\"/content/sample_data/RAW/MERRA/Sea_Level_Pressure/hourly_MERRA2/slp_MERRA_kpa_hourly_2018.07.03_H11.M00.tif\", None, \"copper\")\n",
        "pyWAPOR.Functions.Processing_Functions.Show_tif(r\"/content/sample_data/RAW/MERRA/Specific_Humidity/hourly_MERRA2/q2m_MERRA_kg-kg-1_hourly_2018.07.03_H11.M00.tif\", None, \"RdBu\")\n",
        "pyWAPOR.Functions.Processing_Functions.Show_tif(r\"/content/sample_data/RAW/MERRA/Surface_Pressure/hourly_MERRA2/ps_MERRA_kpa_hourly_2018.07.03_H11.M00.tif\", None, \"PiYG\")\n",
        "pyWAPOR.Functions.Processing_Functions.Show_tif(r\"/content/sample_data/RAW/MERRA/Total_Precipitable_Water_Vapor/hourly_MERRA2/tpw_MERRA_mm_hourly_2018.07.03_H11.M00.tif\")\n",
        "pyWAPOR.Functions.Processing_Functions.Show_tif(r\"/content/sample_data/RAW/MERRA/Surface_Net_Downward_Shortwave_Flux/hourly_MERRA2/swgnet_MERRA_W-m-2_hourly_2018.07.03_H11.M00.tif\")"
      ],
      "execution_count": null,
      "outputs": []
    },
    {
      "cell_type": "markdown",
      "metadata": {
        "id": "DKIQ8gPerFcZ"
      },
      "source": [
        "### 1.6 MOD11\n",
        "\n",
        "The MOD11 is a daily  MODIS product observed by the TERRA MODIS satellites. The dataset consists of Land Surface Temperature data (LST) in Kelvin. The cloud pixels are replaced by \"No Data Values\". The data is globally available for the period: 2000-02-24 till now.  For the MOD11 data the NASA account is required.\n",
        "\n",
        "The required inputs in order to run this function are:\n",
        "1. output folder, in which the end product will be stored as a tiff file and in the WGS84 projection. \n",
        "2. Startdate as a string in the following format: \"yyyy-mm-dd\"\n",
        "3. Enddate as a string in the following format: \"yyyy-mm-dd\"\n",
        "4. Latitude Limits as an array with the following format: [Ymin, Ymax]\n",
        "5. Longitude Limits as an array with the following format: [Xmin, Xmax]\n",
        "6. username of your NASA account\n",
        "7. password of your NASA account\n",
        "\n",
        "In order to run the function for the Nile Delta for the sample period, the following command can be applied:"
      ]
    },
    {
      "cell_type": "code",
      "metadata": {
        "id": "uNOmA4x5sEkq"
      },
      "source": [
        "pyWAPOR.Collect.MOD11.LST(r\"/content/sample_data/RAW\", \"2009-07-03\", \"2009-07-05\", [28.5, 31.9], [29.2, 32.5], username, password)"
      ],
      "execution_count": null,
      "outputs": []
    },
    {
      "cell_type": "markdown",
      "metadata": {
        "id": "UlaByXfqvKTC"
      },
      "source": [
        "**Show LST *MOD11* data:**"
      ]
    },
    {
      "cell_type": "code",
      "metadata": {
        "id": "YInoIiHsvKlH"
      },
      "source": [
        "pyWAPOR.Functions.Processing_Functions.Show_tif(r\"/content/sample_data/RAW/MODIS/MOD11/LST_MOD11A1_K_daily_2009.07.03.tif\", None, \"coolwarm\")"
      ],
      "execution_count": null,
      "outputs": []
    },
    {
      "cell_type": "markdown",
      "metadata": {
        "id": "fyyOFzI6sPTJ"
      },
      "source": [
        "### 1.7 MOD13\n",
        "\n",
        "The MOD13 is the 16-daily  MODIS product observed by the TERRA MODIS satellites. The dataset consists of Normalized Difference Vegetation Index data (NDVI). The data is globally available for the period: 2000-02-24 till now.  For the MOD13 data the NASA account is required.\n",
        "\n",
        "The required inputs in order to run this function are:\n",
        "1. output folder, in which the end product will be stored as a tiff file and in the WGS84 projection. \n",
        "2. Startdate as a string in the following format: \"yyyy-mm-dd\"\n",
        "3. Enddate as a string in the following format: \"yyyy-mm-dd\"\n",
        "4. Latitude Limits as an array with the following format: [Ymin, Ymax]\n",
        "5. Longitude Limits as an array with the following format: [Xmin, Xmax]\n",
        "6. username of your NASA account\n",
        "7. password of your NASA account\n",
        "\n",
        "In order to run the function for the Nile Delta for the period between 2009-07-01 and 2009-07-17, the following command can be applied:"
      ]
    },
    {
      "cell_type": "code",
      "metadata": {
        "id": "NegPTae0sO-M"
      },
      "source": [
        "pyWAPOR.Collect.MOD13.NDVI(r\"/content/sample_data/RAW\", \"2009-07-01\", \"2009-07-17\", [28.5, 31.9], [29.2, 32.5], username, password)"
      ],
      "execution_count": null,
      "outputs": []
    },
    {
      "cell_type": "markdown",
      "metadata": {
        "id": "ulV66LPqFJy3"
      },
      "source": [
        "**Show NDVI *MOD13* data:**"
      ]
    },
    {
      "cell_type": "code",
      "metadata": {
        "id": "0msT0JWOFJ9W"
      },
      "source": [
        "pyWAPOR.Functions.Processing_Functions.Show_tif(r\"/content/sample_data/RAW/MODIS/MOD13/NDVI_MOD13Q1_-_16-daily_2009.07.12.tif\", None, \"Greens\")"
      ],
      "execution_count": null,
      "outputs": []
    },
    {
      "cell_type": "markdown",
      "metadata": {
        "id": "Bq_wNZ8tutGx"
      },
      "source": [
        "### 1.8 MSGCPP\n",
        "\n",
        "The MSGCPP product is a product of the KNMI. IT uses the data of the Meteosat Second Generation geostationary satellite. This satellite is measuring the cloud every 15 minutes. An Cloud Physical Properties algorighm (CPP) that is developed by the KNMI is used to calculate the down welling surface flux. The data is only avalailable for the MSG disk and for the period 2017-01-01 till now.\n",
        "\n",
        "The required inputs in order to run this function are:\n",
        "1. output folder, in which the end product will be stored as a tiff file and in the WGS84 projection. \n",
        "2. Startdate as a string in the following format: \"yyyy-mm-dd\"\n",
        "3. Enddate as a string in the following format: \"yyyy-mm-dd\"\n",
        "4. Latitude Limits as an array with the following format: [Ymin, Ymax]\n",
        "5. Longitude Limits as an array with the following format: [Xmin, Xmax]\n",
        "\n",
        "In order to run the function for the Nile Delta for the sample period, the following command can be applied to get a tiff file of down welling surface flux every 15 minutes:\n"
      ]
    },
    {
      "cell_type": "code",
      "metadata": {
        "id": "yLVi7saTwbnh"
      },
      "source": [
        "pyWAPOR.Collect.MSGCPP.SDS(r\"/content/sample_data/RAW\", \"2017-07-03\", \"2017-07-04\", [28.5, 31.9], [29.2, 32.5])"
      ],
      "execution_count": null,
      "outputs": []
    },
    {
      "cell_type": "markdown",
      "metadata": {
        "id": "v2pLE5plFunf"
      },
      "source": [
        "**Show NDVI MOD13 data:**"
      ]
    },
    {
      "cell_type": "code",
      "metadata": {
        "id": "nYCIM_0gFt1_"
      },
      "source": [
        "pyWAPOR.Functions.Processing_Functions.Show_tif(r\"/content/sample_data/RAW/MSGCPP/SDS/15min/SDS_MSGCPP_W-m-2_15min_2017.07.03_H13.M15.tif\", None, \"inferno\")"
      ],
      "execution_count": null,
      "outputs": []
    },
    {
      "cell_type": "markdown",
      "metadata": {
        "id": "1SKTvqtos1PK"
      },
      "source": [
        "### 1.9 MYD11\n",
        "\n",
        "The MYD11 is a daily  MODIS product observed by the AQUA MODIS satellites. The dataset consists of Land Surface Temperature data (LST) in Kelvin. The cloud pixels are replaced by \"No Data Values\". The data is globally available for the period: 2000-02-24 till now.  For the MYD11 data the NASA account is required.\n",
        "\n",
        "The required inputs in order to run this function are:\n",
        "1. output folder, in which the end product will be stored as a tiff file and in the WGS84 projection. \n",
        "2. Startdate as a string in the following format: \"yyyy-mm-dd\"\n",
        "3. Enddate as a string in the following format: \"yyyy-mm-dd\"\n",
        "4. Latitude Limits as an array with the following format: [Ymin, Ymax]\n",
        "5. Longitude Limits as an array with the following format: [Xmin, Xmax]\n",
        "6. username of your NASA account\n",
        "7. password of your NASA account\n",
        "\n",
        "In order to run the function for the Nile Delta for the sample period, the following command can be applied:\n",
        "\n"
      ]
    },
    {
      "cell_type": "code",
      "metadata": {
        "id": "rJnX0GpfuIdJ"
      },
      "source": [
        "pyWAPOR.Collect.MYD11.LST(r\"/content/sample_data/RAW\", \"2009-07-03\", \"2009-07-05\", [28.5, 31.9], [29.2, 32.5], username, password)"
      ],
      "execution_count": null,
      "outputs": []
    },
    {
      "cell_type": "markdown",
      "metadata": {
        "id": "hVMetIDUGeru"
      },
      "source": [
        "**Show LST MYD11 data:**"
      ]
    },
    {
      "cell_type": "code",
      "metadata": {
        "id": "GVPrncW0Ge2n"
      },
      "source": [
        "pyWAPOR.Functions.Processing_Functions.Show_tif(r\"/content/sample_data/RAW/MODIS/MYD11/LST_MYD11A1_K_daily_2009.07.04.tif\", None, \"coolwarm\")"
      ],
      "execution_count": null,
      "outputs": []
    },
    {
      "cell_type": "markdown",
      "metadata": {
        "id": "EHudy3hcuXHB"
      },
      "source": [
        "### 1.10 MYD13\n",
        "The MYD13 is the 16-daily MODIS product observed by the AQUA MODIS satellites. The dataset consists of Normalized Difference Vegetation Index data (NDVI). The data is globally available for the period: 2000-02-24 till now.  For the MYD13 data the NASA account is required.\n",
        "\n",
        "The required inputs in order to run this function are:\n",
        "\n",
        "output folder, in which the end product will be stored as a tiff file and in the WGS84 projection.\n",
        "Startdate as a string in the following format: \"yyyy-mm-dd\"\n",
        "Enddate as a string in the following format: \"yyyy-mm-dd\"\n",
        "Latitude Limits as an array with the following format: [Ymin, Ymax]\n",
        "Longitude Limits as an array with the following format: [Xmin, Xmax]\n",
        "username of your NASA account\n",
        "password of your NASA account\n",
        "In order to run the function for the Nile Delta for the period between 2009-07-01 and 2009-07-17, the following command can be applied:"
      ]
    },
    {
      "cell_type": "code",
      "metadata": {
        "id": "PbboNu5cul-p"
      },
      "source": [
        "pyWAPOR.Collect.MYD13.NDVI(r\"/content/sample_data/RAW\", \"2009-07-01\", \"2009-07-17\", [28.5, 31.9], [29.2, 32.5], username, password)"
      ],
      "execution_count": null,
      "outputs": []
    },
    {
      "cell_type": "markdown",
      "metadata": {
        "id": "bVMCUJtBHNzm"
      },
      "source": [
        "**Show WAPOR LandCover data:**"
      ]
    },
    {
      "cell_type": "code",
      "metadata": {
        "id": "OIAgQOgHHN7J"
      },
      "source": [
        "pyWAPOR.Functions.Processing_Functions.Show_tif(r\"/content/sample_data/RAW/WAPOR/LandCover/LC_WAPOR_2009.01.01.tif\", None, \"Set3\")"
      ],
      "execution_count": null,
      "outputs": []
    },
    {
      "cell_type": "markdown",
      "metadata": {
        "id": "EcRj_C0tuny5"
      },
      "source": [
        "### 1.11 SRTM\n",
        "\n",
        "The SRTM download the altitude information. \n",
        "\n",
        "The required inputs in order to run this function are:\n",
        "1. output folder, in which the end product will be stored as a tiff file and in the WGS84 projection. \n",
        "2. Latitude Limits as an array with the following format: [Ymin, Ymax]\n",
        "3. Longitude Limits as an array with the following format: [Xmin, Xmax]\n",
        "\n",
        "The following code can download the DEM map for the defined area:"
      ]
    },
    {
      "cell_type": "code",
      "metadata": {
        "id": "3zISWyElxRk6"
      },
      "source": [
        "pyWAPOR.Collect.SRTM.DEM(r\"/content/sample_data/RAW\", [28.5, 31.9], [29.2, 32.5])"
      ],
      "execution_count": null,
      "outputs": []
    },
    {
      "cell_type": "markdown",
      "metadata": {
        "id": "8S11IcoIHed_"
      },
      "source": [
        "**Show DEM SRTM data:**"
      ]
    },
    {
      "cell_type": "code",
      "metadata": {
        "id": "pBuEByxqHel6"
      },
      "source": [
        "pyWAPOR.Functions.Processing_Functions.Show_tif(r\"/content/sample_data/RAW/SRTM/DEM/DEM_SRTM_m_3s.tif\", None, \"terrain\")"
      ],
      "execution_count": null,
      "outputs": []
    },
    {
      "cell_type": "markdown",
      "metadata": {
        "id": "_KW8u_hbc-mo"
      },
      "source": [
        "### 1.12 WAPOR\n",
        "\n",
        "The WAPOR module downloads the yearly Landcover map created within the WAPOR project.\n",
        "\n",
        "The required inputs in order to run this function are:\n",
        "1. output folder, in which the end product will be stored as a tiff file and in the WGS84 projection. \n",
        "2. Startdate as a string in the following format: \"yyyy-mm-dd\"\n",
        "3. Enddate as a string in the following format: \"yyyy-mm-dd\"\n",
        "4. Latitude Limits as an array with the following format: [Ymin, Ymax]\n",
        "5. Longitude Limits as an array with the following format: [Xmin, Xmax]\n",
        "\n",
        "The following code can download the LandCover map for the defined area:"
      ]
    },
    {
      "cell_type": "code",
      "metadata": {
        "id": "f5gjpY2zdTz_",
        "outputId": "c8d65ef8-d62e-4a4c-93bb-cc011b07336f",
        "colab": {
          "base_uri": "https://localhost:8080/",
          "height": 72
        }
      },
      "source": [
        "pyWAPOR.Collect.WAPOR.LandCover(r\"/content/sample_data/RAW\", \"2009-01-01\", \"2010-12-31\", [28.5, 31.9], [29.2, 32.5])"
      ],
      "execution_count": null,
      "outputs": [
        {
          "output_type": "stream",
          "text": [
            "\n",
            "Downloading Yearly LandCover maps from WAPOR for the period 2009-01-01 till 2010-12-31\n",
            "Progress: |██████████████████████████████████████████████████| 100.0% Complete\n"
          ],
          "name": "stdout"
        }
      ]
    },
    {
      "cell_type": "markdown",
      "metadata": {
        "id": "tESaOMgfdc_w"
      },
      "source": [
        "**Show WAPOR LandCover data:**"
      ]
    },
    {
      "cell_type": "code",
      "metadata": {
        "id": "kOQR33EadcMe",
        "outputId": "9a23aded-196c-4b4b-faef-3c1acfa9d908",
        "colab": {
          "base_uri": "https://localhost:8080/",
          "height": 369
        }
      },
      "source": [
        "pyWAPOR.Functions.Processing_Functions.Show_tif(r\"/content/sample_data/RAW/WAPOR/LandCover/LC_WAPOR_2009.01.01.tif\", None, \"Set3\")"
      ],
      "execution_count": null,
      "outputs": [
        {
          "output_type": "display_data",
          "data": {
            "image/png": "[encoded data removed]",
            "text/plain": [
              "<Figure size 576x396 with 2 Axes>"
            ]
          },
          "metadata": {
            "tags": []
          }
        },
        {
          "output_type": "execute_result",
          "data": {
            "text/plain": [
              "()"
            ]
          },
          "metadata": {
            "tags": []
          },
          "execution_count": 11
        }
      ]
    },
    {
      "cell_type": "markdown",
      "metadata": {
        "id": "h8Rbm3B3xnHR"
      },
      "source": [
        "## 2. Processing Tool\n",
        "\n",
        "With only the collect tools, you will not get the required datasets that are needed for the ETLook model. The collect tools only collect the RAW data and no additonal processing is done besides changing the format to tiff, reprojection to WGS84 and clip the area. \n",
        "\n",
        "Before running the ETLook model, all the input raster datasets needs to have the same dimensions and also some parameters still have to be calculated based on the RAW sensor input collected by the collect tools.\n",
        "\n",
        "Therefor there are also processing tools. By running the overall processing tool, the required data for that day will be downloaded automatically if it not exists yet on the computer. The user need to give the following input in order to run the overall processing function:\n",
        "\n",
        "1. output_folder, in which the end products will be stored as a tiff file and in the WGS84 projection. \n",
        "2. Startdate as a string in the following format: \"yyyy-mm-dd\"\n",
        "3. Enddate as a string in the following format: \"yyyy-mm-dd\"\n",
        "4. Latitude Limits as an array with the following format: [Ymin, Ymax]\n",
        "5. Longitude Limits as an array with the following format: [Xmin, Xmax]\n",
        "6. username of your NASA account\n",
        "7. password of your NASA account\n",
        "8. \"GlobCover\" or \"WAPOR\" (Default is \"GlobCover\") defines which LandCover map will be used\n",
        "\n",
        "The function will create a folder within the user defined output folder mentioning the day. Within this folder all the pre-procesed rasters that are required for the ETLook model are located. \n",
        "\n",
        ">output_folder\n",
        "\n",
        "             >ETLook_input\n",
        "\n",
        "                    >yyyymmdd\n",
        "\n",
        "                           ALBEDO_yyyymmdd.tif\n",
        "                           Aspect.tif\n",
        "                           Bulk_Stomatal_resistance.tif\n",
        "                           DEM.tif\n",
        "                           LandMask.tif\n",
        "                           Lat_yyyymmdd.tif\n",
        "                           Lon_yyyymmdd.tif\n",
        "                           LST_yyyymmdd.tif\n",
        "                           Maximum_Obstacle_Height.tif\n",
        "                           NDVI_yyyymmdd.tif\n",
        "                           Pair_24_0_yyyymmdd.tif\n",
        "                           Pair_inst_0_yyyymmdd.tif\n",
        "                           Pair_inst_yyyymmdd.tif\n",
        "                           Precipitation_yyyymmdd.tif\n",
        "                           qv_24_yyyymmdd.tif\n",
        "                           qv_inst_yyyymmdd.tif\n",
        "                           Slope.tif\n",
        "                           tair_24_yyyymmdd.tif\n",
        "                           Tair_amp_yyyymmdd.tif\n",
        "                           tair_inst_yyyymmdd.tif\n",
        "                           Time_yyyymmdd.tif\n",
        "                           Trans_24_yyyymmdd.tif\n",
        "                           wind_24_yyyymmdd.tif\n",
        "                           wind_inst_yyyymmdd.tif\n",
        "                           wv_inst_yyyymmdd.tif\n",
        "\n",
        "The following code can used to create the input data for ETLook for one day for the Nile Basin:\n",
        "\n"
      ]
    },
    {
      "cell_type": "code",
      "metadata": {
        "id": "6lnHpGQpK3CY"
      },
      "source": [
        "pyWAPOR.Pre_ETLook.main(r\"/content/sample_data\", \"2009-07-03\", \"2009-07-03\", [28.5, 31.9], [29.2, 32.5], username, password)"
      ],
      "execution_count": null,
      "outputs": []
    },
    {
      "cell_type": "markdown",
      "metadata": {
        "id": "3k8Hs8ghMvQy"
      },
      "source": [
        "**Show some ETLook inputs :**\n",
        "\n",
        "1. Tair_24\n",
        "2. LST\n",
        "3. NDVI\n",
        "4. Albedo\n",
        "5. Bulk Stomatal Resistance\n",
        "6. Slope"
      ]
    },
    {
      "cell_type": "code",
      "metadata": {
        "id": "3kVuS5oVNRzb"
      },
      "source": [
        "pyWAPOR.Functions.Processing_Functions.Show_tif(r\"/content/sample_data/ETLook_input/20090703/tair_24_20090703.tif\", None, \"gist_stern\")\n",
        "pyWAPOR.Functions.Processing_Functions.Show_tif(r\"/content/sample_data/ETLook_input/20090703/LST_20090703.tif\", None, \"magma\")\n",
        "pyWAPOR.Functions.Processing_Functions.Show_tif(r\"/content/sample_data/ETLook_input/20090703/NDVI_20090703.tif\", None, \"YlGn\")\n",
        "pyWAPOR.Functions.Processing_Functions.Show_tif(r\"/content/sample_data/ETLook_input/20090703/ALBEDO_20090703.tif\", None, \"gist_yarg\")\n",
        "pyWAPOR.Functions.Processing_Functions.Show_tif(r\"/content/sample_data/ETLook_input/20090703/Bulk_Stomatal_resistance.tif\", None, \"tab10\")\n",
        "pyWAPOR.Functions.Processing_Functions.Show_tif(r\"/content/sample_data/ETLook_input/20090703/Slope.tif\", None, \"inferno\")"
      ],
      "execution_count": null,
      "outputs": []
    },
    {
      "cell_type": "markdown",
      "metadata": {
        "id": "3nPghoGLOKpA"
      },
      "source": [
        "## 3. ETLook model\n",
        "\n",
        "The last function correspond in applying the ETLook model by using the ETLook_input folder created in step 2.\n",
        "\n",
        "The required inputs are:\n",
        "\n",
        "1. input_folder_ETLook corresponds to the path created by the processing tools\n",
        "2. output_folder_ETLook, this folder will be created to store all the ETLook outputs\n",
        "3. Date, a python datetime defining the day (can be created by using pandas or datetime module)\n",
        "\n",
        "An example to apply the ETLook model on the folder generated in step 2 is shown below:"
      ]
    },
    {
      "cell_type": "code",
      "metadata": {
        "id": "db75aIsMPK4H"
      },
      "source": [
        "import pandas as pd\n",
        "\n",
        "Startdate = \"2009-07-03\"\n",
        "Enddate = \"2009-07-03\"\n",
        "\n",
        "# Create daily timesteps between start and enddate\n",
        "Dates = pd.date_range(Startdate, Enddate, freq = \"D\")\n",
        "\n",
        "# Loop over the dates\n",
        "for Date in Dates:\n",
        "    try:\n",
        "        pyWAPOR.ETLook.ETLook_code.main(r\"/content/sample_data/ETLook_input\", r\"/content/sample_data/ETLook_output\", Date)\n",
        "    except:\n",
        "        print(\"ETLook not applied for %s\" %Date) "
      ],
      "execution_count": null,
      "outputs": []
    },
    {
      "cell_type": "markdown",
      "metadata": {
        "id": "J0NMwvZRSJBD"
      },
      "source": [
        "**Show ETLook outputs :**"
      ]
    },
    {
      "cell_type": "code",
      "metadata": {
        "id": "6ZQi7GN4SQGT",
        "outputId": "1de6b916-1c64-4f7b-f4c5-694e5d4f4988",
        "colab": {
          "base_uri": "https://localhost:8080/",
          "height": 369
        }
      },
      "source": [
        "pyWAPOR.Functions.Processing_Functions.Show_tif(r\"/content/sample_data/ETLook_output/20090703/et_24_mm_20090703.tif\", None, \"Spectral\")"
      ],
      "execution_count": null,
      "outputs": [
        {
          "output_type": "display_data",
          "data": {
            "image/png": "[encoded data removed]",
            "text/plain": [
              "<Figure size 576x396 with 2 Axes>"
            ]
          },
          "metadata": {
            "tags": []
          }
        },
        {
          "output_type": "execute_result",
          "data": {
            "text/plain": [
              "()"
            ]
          },
          "metadata": {
            "tags": []
          },
          "execution_count": 7
        }
      ]
    },
    {
      "cell_type": "markdown",
      "metadata": {
        "id": "mI3lUBX9P0sx"
      },
      "source": [
        "## 4. Appendix\n",
        "\n",
        "Install gdal in colab:"
      ]
    },
    {
      "cell_type": "code",
      "metadata": {
        "id": "Qvwac2I8dVYW"
      },
      "source": [
        "!apt-get update"
      ],
      "execution_count": null,
      "outputs": []
    },
    {
      "cell_type": "code",
      "metadata": {
        "id": "kJwNDbn7dgkf",
        "outputId": "0ff606d2-b8b4-42a5-acc8-e318d958a589",
        "colab": {
          "base_uri": "https://localhost:8080/",
          "height": 102
        }
      },
      "source": [
        "\n",
        "!apt-get install libgdal-dev -y"
      ],
      "execution_count": null,
      "outputs": [
        {
          "output_type": "stream",
          "text": [
            "Reading package lists... Done\n",
            "Building dependency tree       \n",
            "Reading state information... Done\n",
            "libgdal-dev is already the newest version (2.2.3+dfsg-2).\n",
            "0 upgraded, 0 newly installed, 0 to remove and 41 not upgraded.\n"
          ],
          "name": "stdout"
        }
      ]
    },
    {
      "cell_type": "code",
      "metadata": {
        "id": "PJ2h6L0WdrbG"
      },
      "source": [
        "\n",
        "!apt-get install python-gdal -y"
      ],
      "execution_count": null,
      "outputs": []
    }
  ]
}