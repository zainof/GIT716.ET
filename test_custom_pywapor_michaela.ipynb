{
 "cells": [
  {
   "attachments": {},
   "cell_type": "markdown",
   "id": "91df2750",
   "metadata": {},
   "source": [
    "## Check Installation & Import Modules"
   ]
  },
  {
   "cell_type": "code",
   "execution_count": null,
   "id": "1a1d11da",
   "metadata": {},
   "outputs": [],
   "source": [
    "from osgeo import gdal\n",
    "print(\"Using gdal version\", gdal.__version__)"
   ]
  },
  {
   "cell_type": "code",
   "execution_count": null,
   "id": "ed7a4f57",
   "metadata": {},
   "outputs": [],
   "source": [
    "import pywapor\n",
    "print(\"Using pywapor version:\", pywapor.__version__)"
   ]
  },
  {
   "cell_type": "code",
   "execution_count": null,
   "id": "4dd1004b",
   "metadata": {},
   "outputs": [],
   "source": [
    "%matplotlib inline\n",
    "import xarray as xr\n",
    "print(\"Using xarray version:\", xr.__version__)\n",
    "import matplotlib.pyplot as plt\n",
    "import numpy as np\n",
    "import pandas as pd\n",
    "import rioxarray"
   ]
  },
  {
   "cell_type": "code",
   "execution_count": null,
   "id": "9706dbd6",
   "metadata": {},
   "outputs": [],
   "source": [
    "from functools import partial\n",
    "import pywapor.se_root as se_root"
   ]
  },
  {
   "cell_type": "code",
   "execution_count": null,
   "id": "61bbc1dd",
   "metadata": {},
   "outputs": [],
   "source": [
    "import glob\n",
    "import os"
   ]
  },
  {
   "attachments": {},
   "cell_type": "markdown",
   "id": "0aa39940",
   "metadata": {},
   "source": [
    "## Default ETLook Input"
   ]
  },
  {
   "attachments": {},
   "cell_type": "markdown",
   "id": "2f996887",
   "metadata": {},
   "source": [
    "### Basic Configuration **(Needs NASA Earthdata Login Details)**"
   ]
  },
  {
   "cell_type": "code",
   "execution_count": null,
   "id": "5fa2d066",
   "metadata": {},
   "outputs": [],
   "source": [
    "pywapor.collect.accounts.setup(\"NASA\")"
   ]
  },
  {
   "cell_type": "code",
   "execution_count": null,
   "id": "6c22e7b1",
   "metadata": {},
   "outputs": [],
   "source": [
    "# User inputs\n",
    "# Specify data input and output folders\n",
    "\n",
    "# The default ETLook project output folder\n",
    "default_project_folder = r\"/Users/micky/PycharmProjects/hackathon_pywapor/data_default_pywapor_1\"\n",
    "\n",
    "# The folder containing daily maximum temperature\n",
    "temp_max_folder = r\"/Users/micky/PycharmProjects/hackathon_pywapor/data_custom/temp_max\"\n",
    "\n",
    "# The folder for all netCDF created outputs\n",
    "# TODO: Check if we need to store xr.Dataset as a.nc file\n",
    "data_custom_netcdf_folder = r\"/Users/micky/PycharmProjects/hackathon_pywapor/data_custom_netcdf\"\n",
    "\n",
    "# The custom side loading method 1 output folder\n",
    "sl_1_project_folder = r\"/Users/micky/PycharmProjects/hackathon_pywapor/data_custom_SL_1\"\n",
    "\n",
    "# Time period: default composite length of pyWAPOR 10 days\n",
    "timelim = [\"2023-01-01\", \"2023-01-11\"]\n",
    "# Note: composites are also referred to as time_bins\n",
    "composite_length = \"DEKAD\"\n",
    "\n",
    "# Default data source\n",
    "level = \"level_1\"\n",
    "sources = pywapor.general.levels.pre_et_look_levels(level)\n",
    "\n",
    "# Bounding box of AOI\n",
    "# TODO: this must be updated\n",
    "latlim = [-34.1, -33.3] # first value refers to the southern border\n",
    "lonlim = [18.7, 19.4] # first value refers to the western border\n",
    "\n",
    "# Input Data Coordinate Reference System\n",
    "project_crs = \"EPSG:4326\""
   ]
  },
  {
   "cell_type": "code",
   "execution_count": null,
   "id": "b658be35",
   "metadata": {},
   "outputs": [],
   "source": [
    "# Download and prepare input data\n",
    "ds  = pywapor.pre_et_look.main(default_project_folder, latlim, lonlim, timelim, bin_length=composite_length)"
   ]
  },
  {
   "cell_type": "code",
   "execution_count": null,
   "id": "25ac910a",
   "metadata": {},
   "outputs": [],
   "source": [
    "# To see the file the dataset is stored in\n",
    "fh = ds.encoding[\"source\"]\n",
    "print(fh)"
   ]
  },
  {
   "cell_type": "code",
   "execution_count": null,
   "id": "3cf9ec3d",
   "metadata": {},
   "outputs": [],
   "source": [
    "fh = os.path.join(default_project_folder, \"et_look_in.nc\")"
   ]
  },
  {
   "cell_type": "code",
   "execution_count": null,
   "id": "0e819de3",
   "metadata": {},
   "outputs": [],
   "source": [
    "# To import the file the dataset is stored in (et_look_in.nc) (if you don't want to run pre_et_look again)\n",
    "# The decode_coords keyword is used to make sure CRS info is loaded correctly.\n",
    "ds = xr.open_dataset(fh, decode_coords = \"all\")"
   ]
  },
  {
   "cell_type": "code",
   "execution_count": null,
   "id": "c4a6d40b",
   "metadata": {},
   "outputs": [],
   "source": [
    "# Take a closer look at the contents of the datasets\n",
    "# This variable contains a xarray.Dataset which is a Python-package that let's you work with large multi-dimensional datasets.\n",
    "ds"
   ]
  },
  {
   "cell_type": "code",
   "execution_count": null,
   "id": "7cea4388",
   "metadata": {},
   "outputs": [],
   "source": [
    "# Access the coordinate reference system and boundaries\n",
    "print(\"DS CRS: \",ds.rio.crs)\n",
    "print(\"DS Bounds: \",ds.rio.bounds())\n",
    "print(\"DS Resolution: \",ds.rio.resolution())"
   ]
  },
  {
   "cell_type": "code",
   "execution_count": null,
   "id": "1d01081a",
   "metadata": {},
   "outputs": [],
   "source": [
    "# XArray datasets are also easy to plot and smart enough to automatically fill in the units and the description of the variable.\n",
    "ds.z.plot()"
   ]
  },
  {
   "cell_type": "code",
   "execution_count": null,
   "id": "7df39496",
   "metadata": {},
   "outputs": [],
   "source": [
    "# Make a map of a 3-dimensional variable, we will have to select for which time.\n",
    "ds.t_air_max_24.isel(time_bins = 0).plot()\n"
   ]
  },
  {
   "attachments": {},
   "cell_type": "markdown",
   "id": "e64270fa",
   "metadata": {},
   "source": [
    "## Running Default ETLook"
   ]
  },
  {
   "cell_type": "code",
   "execution_count": null,
   "id": "db73ab43",
   "metadata": {
    "scrolled": true
   },
   "outputs": [],
   "source": [
    "ds_out = pywapor.et_look.main(ds)"
   ]
  },
  {
   "cell_type": "code",
   "execution_count": null,
   "id": "7759da14",
   "metadata": {},
   "outputs": [],
   "source": [
    "# Check the contents of the new dataset\n",
    "ds_out"
   ]
  },
  {
   "cell_type": "code",
   "execution_count": null,
   "id": "75b385c3",
   "metadata": {},
   "outputs": [],
   "source": [
    "# Plot the daily evapotranspiration in mm\n",
    "ds_out.et_24_mm.isel(time_bins = 0).plot()"
   ]
  },
  {
   "cell_type": "code",
   "execution_count": null,
   "id": "d2c34c13",
   "metadata": {},
   "outputs": [],
   "source": [
    "# Note these calculations loads the array into working memory\n",
    "et_data = ds_out.et_24_mm.isel(time_bins = 0).values\n",
    "print(\"resolution:\", et_data.shape)\n",
    "print(\"total pixels:\", et_data.size)\n",
    "print(\"number of pixels with missing data:\", np.sum(np.isnan(et_data)))\n",
    "print(\"maximum value: {0:.2f}\".format(np.nanmax(et_data)))\n",
    "print(\"minimum value: {0:.2f}\".format(np.nanmin(et_data)))\n",
    "print(\"mean: {0:.2f}\".format(np.nanmean(et_data)))\n",
    "print(\"median: {0:.2f}\".format(np.nanmedian(et_data)))"
   ]
  },
  {
   "attachments": {},
   "cell_type": "markdown",
   "id": "c39e7a36",
   "metadata": {},
   "source": [
    "## TEST SIDELOADING METHOD 1\n",
    "Instead of passing a string to the sources input parameters of `pywapor.pre_et_look.main` we can also pass a dictionary that specifies which products we would like to use."
   ]
  },
  {
   "attachments": {},
   "cell_type": "markdown",
   "id": "47e4db44",
   "metadata": {},
   "source": [
    "### Loading multiple GeoTIFF files into a single xarray.Dataset"
   ]
  },
  {
   "attachments": {},
   "cell_type": "markdown",
   "id": "7ee8e146",
   "metadata": {},
   "source": [
    "Help from: https://docs.dea.ga.gov.au/notebooks/How_to_guides/Opening_GeoTIFFs_NetCDFs.html\n",
    "\n",
    "Citation:\n",
    "Krause, C., Dunn, B., Bishop-Taylor, R., Adams, C., Burton, C., Alger, M., Chua, S., Phillips, C., Newey, V., Kouzoubov,\n",
    "K., Leith, A., Ayers, D., Hicks, A., DEA Notebooks contributors 2021. Digital Earth Australia notebooks and tools \n",
    "repository. Geoscience Australia, Canberra. https://doi.org/10.26186/145234"
   ]
  },
  {
   "cell_type": "code",
   "execution_count": null,
   "id": "f8f7d093",
   "metadata": {},
   "outputs": [],
   "source": [
    "temp_max_geotiff_list = glob.glob(os.path.join(temp_max_folder, \"*.tif\"))\n",
    "print('# of files', len(temp_max_geotiff_list))\n",
    "temp_max_geotiff_list"
   ]
  },
  {
   "cell_type": "code",
   "execution_count": null,
   "id": "18a914f0",
   "metadata": {},
   "outputs": [],
   "source": [
    "string_slice=(0,10) # extract characters from position 0 to 9\n",
    "date_strings = [os.path.basename(i)[slice(*string_slice)] for i in temp_max_geotiff_list]\n",
    "datetime = pd.to_datetime(date_strings)\n",
    "\n",
    "# Create variable used for time axis\n",
    "time_var = xr.Variable('time', datetime)\n",
    "\n",
    "# Load in and concatenate all individual GeoTIFFs\n",
    "temp_max_geotiffs_da = xr.concat([rioxarray.open_rasterio(i) for i in temp_max_geotiff_list], dim=time_var)\n",
    "\n",
    "# Convert our xarray.DataArray into a xarray.Dataset\n",
    "temp_max_geotiffs_ds = temp_max_geotiffs_da.to_dataset('band')\n",
    "\n",
    "# Rename the variable to a more useful name\n",
    "temp_max_geotiffs_ds = temp_max_geotiffs_ds.rename({1: 't_air_max'})\n",
    "\n",
    "temp_max_geotiffs_ds"
   ]
  },
  {
   "cell_type": "code",
   "execution_count": null,
   "id": "89422487",
   "metadata": {},
   "outputs": [],
   "source": [
    "# Sort the time variable and select the required date range\n",
    "temp_max_geotiffs_ds_sorted = temp_max_geotiffs_ds.sortby('time')\n",
    "temp_max_geotiffs_ds_sorted_timelim = temp_max_geotiffs_ds_sorted.sel(time=slice(timelim[0], timelim[1]))"
   ]
  },
  {
   "cell_type": "code",
   "execution_count": null,
   "id": "77f6a7e8",
   "metadata": {},
   "outputs": [],
   "source": [
    "temp_max_geotiffs_ds_sorted_timelim"
   ]
  },
  {
   "cell_type": "code",
   "execution_count": null,
   "id": "a83635bc",
   "metadata": {},
   "outputs": [],
   "source": [
    "# Clip to the bounding box\n",
    "temp_max_geotiffs_ds_sorted_timelim_clip = temp_max_geotiffs_ds_sorted_timelim.rio.clip_box(\n",
    "    minx= lonlim[0],\n",
    "    miny= latlim[0],\n",
    "    maxx= lonlim[1],\n",
    "    maxy= latlim[1],\n",
    "    crs=project_crs,\n",
    ")\n",
    "\n",
    "# Mask out NoData values\n",
    "# TODO: Should these rather be filled and not masked? \n",
    "temp_max_geotiffs_ds_sorted_timelim_clip_masked = temp_max_geotiffs_ds_sorted_timelim_clip.where(temp_max_geotiffs_ds_sorted_timelim_clip['t_air_max'] != -9999.)\n",
    "\n",
    "# Reproject to match default pre_et_look output\n",
    "temp_max_geotiffs_ds_sorted_timelim_clip_masked_project = temp_max_geotiffs_ds_sorted_timelim_clip_masked.rio.reproject_match(ds)"
   ]
  },
  {
   "cell_type": "code",
   "execution_count": null,
   "id": "f9a943dc",
   "metadata": {},
   "outputs": [],
   "source": [
    "temp_max_geotiffs_ds_sorted_timelim_clip_masked_project"
   ]
  },
  {
   "cell_type": "code",
   "execution_count": null,
   "id": "9af1e9a5",
   "metadata": {},
   "outputs": [],
   "source": [
    "temp_max_geotiffs_ds_sorted_timelim_clip_masked_project.t_air_max.isel(time = 0).plot()"
   ]
  },
  {
   "cell_type": "code",
   "execution_count": null,
   "id": "17fc4550",
   "metadata": {},
   "outputs": [],
   "source": [
    "t_air_max_file = os.path.join(data_custom_netcdf_folder, \"t_air_max.nc\")\n",
    "# TODO: check if it is okay to use this function (not on the pywapor doc api)\n",
    "t_air_max_netcdf = pywapor.general.processing_functions.save_ds(\n",
    "    temp_max_geotiffs_ds_sorted_timelim_clip_masked_project, \n",
    "    t_air_max_file, \n",
    "    encoding=\"initiate\", \n",
    "    label=\"Testing: t_air_max\")"
   ]
  },
  {
   "attachments": {},
   "cell_type": "markdown",
   "id": "b792522b",
   "metadata": {},
   "source": [
    "### SIDELOADING METHOD 1"
   ]
  },
  {
   "cell_type": "code",
   "execution_count": null,
   "id": "031df036",
   "metadata": {},
   "outputs": [],
   "source": [
    "# Start by loading a defualt configuration for pre_et_look and pre_se_root\n",
    "et_look_config = pywapor.general.levels.pre_et_look_levels(level = \"level_1\")\n",
    "se_root_config = pywapor.general.levels.pre_se_root_levels(level = \"level_1\")"
   ]
  },
  {
   "cell_type": "code",
   "execution_count": null,
   "id": "1e60ae05",
   "metadata": {},
   "outputs": [],
   "source": [
    "# Create a list of variables\n",
    "meteo_vars = ['t_air_max']"
   ]
  },
  {
   "cell_type": "code",
   "execution_count": null,
   "id": "c0bcc08e",
   "metadata": {},
   "outputs": [],
   "source": [
    "# Check the default product source and functions\n",
    "et_look_config['t_air_max']"
   ]
  },
  {
   "cell_type": "code",
   "execution_count": null,
   "id": "3640318a",
   "metadata": {},
   "outputs": [],
   "source": [
    "# The default enhancers for a specific product can be accessed like this\n",
    "# TODO: identify if custom products need to keep the enhancers\n",
    "pywapor.collect.product.GEOS5.default_post_processors('inst3_2d_asm_Nx', 't_air_max')"
   ]
  },
  {
   "attachments": {},
   "cell_type": "markdown",
   "id": "6ba77023",
   "metadata": {},
   "source": [
    "* For each variable we need to adjust the \"products\" part.\n",
    "* Overwrite the list under the \"products\" key.\n",
    "* Note: the value of \"source\" needs to be a function that returns a xr.Dataset which contains a variable called 't_air_max'\n",
    "* For the product name we can choose a new name!"
   ]
  },
  {
   "attachments": {},
   "cell_type": "markdown",
   "id": "c28dcfb3",
   "metadata": {},
   "source": [
    "Older version doc of sideloading: https://www.fao.org/aquastat/py-wapor/notebooks/4_sideloading.html#Sideloading (before se_root model???)\n",
    "\n",
    "The sideloading function might need to meet certain criteria.\n",
    "A template function looks like this:"
   ]
  },
  {
   "cell_type": "code",
   "execution_count": null,
   "id": "b63914c8",
   "metadata": {},
   "outputs": [],
   "source": [
    "# TODO: Change custom sideload with more specific parameters\n",
    "def my_custom_source(folder, latlim, lonlim, timelim, product_name, req_vars, post_processors):\n",
    "    ...\n",
    "    # within thie function you can add whatever process you want to execute\n",
    "    # it must return an xr.Dataset that contains at least the variable for which it is specified in source\n",
    "    custom_ds = xr.Dataset()\n",
    "    return ds"
   ]
  },
  {
   "cell_type": "code",
   "execution_count": null,
   "id": "e16b09e1",
   "metadata": {},
   "outputs": [],
   "source": [
    "# Step 1: Define a function that can return the dataset\n",
    "# Note the **kwargs is added to discard the other arguments that are not used in this (very simple) function.\n",
    "def meteo_sideload(**kwargs):\n",
    "    meteo_netcdf_file = os.path.join(data_custom_netcdf_folder,\"t_air_max.nc\")\n",
    "    meteo_ds = xr.open_dataset(meteo_netcdf_file)\n",
    "    return meteo_ds"
   ]
  },
  {
   "cell_type": "code",
   "execution_count": null,
   "id": "9f868e50",
   "metadata": {},
   "outputs": [],
   "source": [
    "# Step 2: Put it inside the configuration for each variable.\n",
    "meteo_config = [{\"source\": meteo_sideload, \"product_name\": \"METEO_PROVIDED\", \"enhancers\": []}]\n",
    "for var in meteo_vars:\n",
    "    et_look_config[var][\"products\"] = meteo_config\n",
    "    se_root_config[var][\"products\"] = meteo_config"
   ]
  },
  {
   "cell_type": "code",
   "execution_count": null,
   "id": "f9a5fb2b",
   "metadata": {},
   "outputs": [],
   "source": [
    "# Now the configuration contains our new product\n",
    "et_look_config['t_air_max']"
   ]
  },
  {
   "attachments": {},
   "cell_type": "markdown",
   "id": "e86c28c5",
   "metadata": {},
   "source": [
    "Right now the configuration for `\"se_root\"` inside `et_look_config` still contains the original `level_1` configuration"
   ]
  },
  {
   "cell_type": "code",
   "execution_count": null,
   "id": "670cd59f",
   "metadata": {},
   "outputs": [],
   "source": [
    "et_look_config[\"se_root\"]"
   ]
  },
  {
   "cell_type": "code",
   "execution_count": null,
   "id": "5f21f0dc",
   "metadata": {},
   "outputs": [],
   "source": [
    "# We can adjust it like this: pass the adjusted se_root_config to et_look_config\n",
    "se_root_dler = partial(se_root.se_root, sources = se_root_config)\n",
    "et_look_config[\"se_root\"][\"products\"][0][\"source\"] = se_root_dler"
   ]
  },
  {
   "cell_type": "code",
   "execution_count": null,
   "id": "5bf6aebd",
   "metadata": {},
   "outputs": [],
   "source": [
    "# Now the configuration for \"se_root\" has been updated too\n",
    "et_look_config[\"se_root\"]"
   ]
  },
  {
   "attachments": {},
   "cell_type": "markdown",
   "id": "6ab2443a",
   "metadata": {},
   "source": [
    "#### Custom ETLook Input"
   ]
  },
  {
   "cell_type": "code",
   "execution_count": null,
   "id": "5156971a",
   "metadata": {
    "scrolled": true
   },
   "outputs": [],
   "source": [
    "# Finally we can start pre_et_look as usual\n",
    "custom_input_ds = pywapor.pre_et_look.main(sl_1_project_folder, latlim, lonlim, timelim, bin_length=composite_length, sources = et_look_config)"
   ]
  },
  {
   "cell_type": "code",
   "execution_count": null,
   "id": "d01f4b4d",
   "metadata": {
    "scrolled": true
   },
   "outputs": [],
   "source": [
    "custom_input_ds"
   ]
  },
  {
   "cell_type": "code",
   "execution_count": null,
   "id": "edc81dc7",
   "metadata": {},
   "outputs": [],
   "source": [
    "# Access the coordinate reference system and boundaries\n",
    "print(\"Custom CRS: \",custom_input_ds.rio.crs)\n",
    "print(\"Custom Bounds: \",custom_input_ds.rio.bounds())\n",
    "print(\"Custom Resolution: \",custom_input_ds.rio.resolution())"
   ]
  },
  {
   "cell_type": "code",
   "execution_count": null,
   "id": "5da6bb28",
   "metadata": {},
   "outputs": [],
   "source": [
    "custom_input_ds.t_air_max_24.isel(time_bins=0).plot()"
   ]
  },
  {
   "attachments": {},
   "cell_type": "markdown",
   "id": "8c510e59",
   "metadata": {},
   "source": [
    "#### Running Custom ETLook"
   ]
  },
  {
   "cell_type": "code",
   "execution_count": null,
   "id": "20d93460",
   "metadata": {
    "scrolled": true
   },
   "outputs": [],
   "source": [
    "# Run et_look\n",
    "custom_output_ds = pywapor.et_look.main(custom_input_ds)"
   ]
  },
  {
   "cell_type": "code",
   "execution_count": null,
   "id": "c08f9592",
   "metadata": {},
   "outputs": [],
   "source": [
    "custom_output_ds"
   ]
  },
  {
   "cell_type": "code",
   "execution_count": null,
   "id": "a27e2c4e",
   "metadata": {},
   "outputs": [],
   "source": [
    "# Plot the daily evapotranspiration in mm\n",
    "custom_output_ds.et_24_mm.isel(time_bins = 0).plot()"
   ]
  },
  {
   "cell_type": "code",
   "execution_count": null,
   "id": "1d4ed21e",
   "metadata": {},
   "outputs": [],
   "source": [
    "# Note these calculations loads the array into working memory\n",
    "custom_et_data = custom_output_ds.et_24_mm.isel(time_bins = 0).values\n",
    "print(\"resolution:\", custom_et_data.shape)\n",
    "print(\"total pixels:\", custom_et_data.size)\n",
    "print(\"number of pixels with missing data:\", np.sum(np.isnan(custom_et_data)))\n",
    "print(\"maximum value: {0:.2f}\".format(np.nanmax(custom_et_data)))\n",
    "print(\"minimum value: {0:.2f}\".format(np.nanmin(custom_et_data)))\n",
    "print(\"mean: {0:.2f}\".format(np.nanmean(custom_et_data)))\n",
    "print(\"median: {0:.2f}\".format(np.nanmedian(custom_et_data)))"
   ]
  },
  {
   "cell_type": "code",
   "execution_count": null,
   "id": "c13b3a4d",
   "metadata": {},
   "outputs": [],
   "source": []
  }
 ],
 "metadata": {
  "kernelspec": {
   "display_name": "pywapor",
   "language": "python",
   "name": "python3"
  },
  "language_info": {
   "codemirror_mode": {
    "name": "ipython",
    "version": 3
   },
   "file_extension": ".py",
   "mimetype": "text/x-python",
   "name": "python",
   "nbconvert_exporter": "python",
   "pygments_lexer": "ipython3",
   "version": "3.11.4"
  }
 },
 "nbformat": 4,
 "nbformat_minor": 5
}
