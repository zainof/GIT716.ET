{
 "cells": [
  {
   "cell_type": "markdown",
   "id": "26424b7b",
   "metadata": {},
   "source": [
    "The libary"
   ]
  },
  {
   "cell_type": "code",
   "execution_count": null,
   "id": "8d4a2249",
   "metadata": {},
   "outputs": [],
   "source": [
    "import arcpy\n",
    "from arcpy import env  \n",
    "from arcpy.sa import *\n"
   ]
  },
  {
   "cell_type": "markdown",
   "id": "a90a0fe4",
   "metadata": {},
   "source": [
    "Setting up the workspace"
   ]
  },
  {
   "cell_type": "code",
   "execution_count": null,
   "id": "78a5a7a7",
   "metadata": {},
   "outputs": [],
   "source": [
    "workspace = r\"C:/Users/jurge/Desktop/Stellenbosch/2023(Hons)/Modules/GIT 716/Hackathon/Dataoutputs/WeatherData\"\n",
    "arcpy.env.workspace = workspace\n",
    "\n",
    "#workspace = where some of the outputs are saved my workspace was where the csv data was stored, other files where in the workspace"
   ]
  },
  {
   "cell_type": "markdown",
   "id": "4527fb6e",
   "metadata": {},
   "source": [
    "Setting up enviorments"
   ]
  },
  {
   "cell_type": "code",
   "execution_count": null,
   "id": "4032aa79",
   "metadata": {},
   "outputs": [],
   "source": [
    "input_gdb = \"C:/Users/jurge/Desktop/Stellenbosch/2023(Hons)/Modules/GIT 716/Hackathon/Dataoutputs/WeatherData/Data Wrangled Meteocsv.csv\"\n",
    "output_feature_class = \"weather_points.shp\"\n",
    "x_field = \"longitude\"\n",
    "y_field = \"latitude\"\n",
    "arcpy.management.XYTableToPoint(input_gdb, output_feature_class, x_field, y_field)\n",
    "\n",
    "env.workspace = \"C:/Users/jurge/Desktop/Stellenbosch/2023(Hons)/Modules/GIT 716/Hackathon/Dataoutputs/WeatherDATAshapefile\"\n",
    "arcpy.env.extent = \"C:/Users/jurge/Desktop/Stellenbosch/2023(Hons)/Modules/GIT 716/Hackathon/Dataoutputs/250m_Extent_WGS84.tif\"\n",
    "arcpy.env.snapRaster = \"C:/Users/jurge/Desktop/Stellenbosch/2023(Hons)/Modules/GIT 716/Hackathon/Dataoutputs/250m_Extent_WGS84.tif\"\n",
    "cellsize = \"C:/Users/jurge/Desktop/Stellenbosch/2023(Hons)/Modules/GIT 716/Hackathon/Dataoutputs/250m_Extent_WGS84.tif\"\n",
    "\n",
    "#env.workspace = this will save the created points in the shapefile forder, the shapefile folder will create points from the csv file for each of the days\n",
    "#arcpy.env.extent = will use the extend of the raster jess made\n",
    "#arcpy.env.snapRaster = will snap to the raster jess made\n",
    "#cellsize = will set the cellsize the same as the raster Jess made"
   ]
  },
  {
   "cell_type": "markdown",
   "id": "826d5ec1",
   "metadata": {},
   "source": [
    "Creating some input variables"
   ]
  },
  {
   "cell_type": "code",
   "execution_count": null,
   "id": "74029d37",
   "metadata": {},
   "outputs": [],
   "source": [
    "# Convert CSV to shapefile using XYTableToPoint\n",
    "input_features = \"weather_points.shp\"\n",
    "x_field = \"longitude\"\n",
    "y_field = \"latitude\"\n",
    "savelocation = \"C:/Users/jurge/Desktop/Stellenbosch/2023(Hons)/Modules/GIT 716/Hackathon/Dataoutputs/InterpolateOut/\"\n",
    "\n",
    "#savelocation = where the interpolation rasters must be saved"
   ]
  },
  {
   "cell_type": "markdown",
   "id": "5c6dc476",
   "metadata": {},
   "source": [
    "List of date"
   ]
  },
  {
   "cell_type": "code",
   "execution_count": null,
   "id": "c0f46a36",
   "metadata": {},
   "outputs": [],
   "source": [
    "cursor_fields = [\"date\"]  # Add other fields if needed\n",
    "dates = set()  # Use a set to store unique dates will then only make each date show up once\n",
    "\n",
    "with arcpy.da.SearchCursor(input_features, cursor_fields) as cursor:\n",
    "    for row in cursor:\n",
    "        date_value = row[0]  \n",
    "        dates.add(date_value)\n",
    "        \n",
    "#this code creates an list of all of the dates to create the points, so if a other month is used the dates are not hard coded"
   ]
  },
  {
   "cell_type": "markdown",
   "id": "dfcc0ff5",
   "metadata": {},
   "source": [
    "where the intorpliation happens "
   ]
  },
  {
   "cell_type": "code",
   "execution_count": null,
   "id": "12972f23",
   "metadata": {},
   "outputs": [],
   "source": [
    "for i, date in enumerate(dates):\n",
    "    # Define the output paths based on the current date\n",
    "    out_feature_class = f\"C:/Users/jurge/Desktop/Stellenbosch/2023(Hons)/Modules/GIT 716/Hackathon/Dataoutputs/WeatherDATAshapefile/dayfirst_{i}.dbf\"#The path where the points will be saved and the name that will change for each itteration making them all unique and in this case will name them from 0 to 30\n",
    "    output_feature_class = f\"weather_points_{i}.shp\"\n",
    "    where_clause = f'\"date\" = \\'{date}\\''\n",
    "\n",
    "    # Convert table to feature class using XYTableToPoint\n",
    "    arcpy.management.XYTableToPoint(\n",
    "        arcpy.analysis.TableSelect(input_features, out_feature_class, where_clause),\n",
    "        output_feature_class, x_field, y_field\n",
    "    )\n",
    "    \n",
    "    # Interpolate windspeed, percipitation and humidity using IDW\n",
    "    outIDWwindspeed = Idw(output_feature_class, \"wind_speed\", cellsize, 2, RadiusVariable(12))\n",
    "    outIDWwindspeed.save(f\"{savelocation}InterpolateOutidwout_windspeed_{i}.tif\")\n",
    "    outIDWperc = Idw(output_feature_class, \"rain_sum\", cellsize, 2, RadiusVariable(12))\n",
    "    outIDWperc.save(f\"{savelocation}InterpolateOutidwout_percipitation_{i}.tif\")\n",
    "    outIDWhumd = Idw(output_feature_class, \"humidity_m\", cellsize, 2, RadiusVariable(12))\n",
    "    outIDWhumd.save(f\"{savelocation}InterpolateOutidwout_humidity_{i}.tif\")"
   ]
  },
  {
   "cell_type": "markdown",
   "id": "e0920c2d",
   "metadata": {},
   "source": [
    "Where composites are made for wind"
   ]
  },
  {
   "cell_type": "code",
   "execution_count": null,
   "id": "354d0dd7",
   "metadata": {},
   "outputs": [],
   "source": [
    "output_string_wind = \"\"\n",
    "\n",
    "for i in range(len(dates)):\n",
    "    interpolated_filename = f\"C:/Users/jurge/Desktop/Stellenbosch/2023(Hons)/Modules/GIT 716/Hackathon/Dataoutputs/InterpolateOut/InterpolateOutidwout_windspeed_{i}.tif\"\n",
    "    output_string_wind += interpolated_filename\n",
    "    if i < len(dates) - 1:\n",
    "        output_string_wind += \"; \"\n",
    "        \n",
    "arcpy.CompositeBands_management(output_string_wind ,\"windspeedComposite.tif\")"
   ]
  },
  {
   "cell_type": "markdown",
   "id": "0367cf40",
   "metadata": {},
   "source": [
    "Where composites are made for humidity"
   ]
  },
  {
   "cell_type": "code",
   "execution_count": null,
   "id": "0332665b",
   "metadata": {},
   "outputs": [],
   "source": [
    "output_string_humd = \"\"\n",
    "\n",
    "for i in range(len(dates)):\n",
    "    interpolated_filename = f\"C:/Users/jurge/Desktop/Stellenbosch/2023(Hons)/Modules/GIT 716/Hackathon/Dataoutputs/InterpolateOut/InterpolateOutidwout_humidity_{i}.tif\"\n",
    "    output_string_humd += interpolated_filename\n",
    "    if i < len(dates) - 1:\n",
    "        output_string_humd += \"; \"\n",
    "        \n",
    "arcpy.CompositeBands_management(output_string_humd ,\"humidityComposite.tif\")\n"
   ]
  },
  {
   "cell_type": "markdown",
   "id": "fa751314",
   "metadata": {},
   "source": [
    "Where composites are made for percipitation"
   ]
  },
  {
   "cell_type": "code",
   "execution_count": null,
   "id": "c9f85999",
   "metadata": {},
   "outputs": [],
   "source": [
    "output_string_perc = \"\"\n",
    "\n",
    "for i in range(len(dates)):\n",
    "    interpolated_filename = f\"C:/Users/jurge/Desktop/Stellenbosch/2023(Hons)/Modules/GIT 716/Hackathon/Dataoutputs/InterpolateOut/InterpolateOutidwout_percipitation_{i}.tif\"\n",
    "    output_string_perc += interpolated_filename\n",
    "    if i < len(dates) - 1:\n",
    "        output_string_perc += \"; \"\n",
    "        \n",
    "arcpy.CompositeBands_management(output_string_perc ,\"percComposite.tif\")"
   ]
  },
  {
   "cell_type": "code",
   "execution_count": null,
   "id": "3f2542de",
   "metadata": {},
   "outputs": [],
   "source": []
  }
 ],
 "metadata": {
  "kernelspec": {
   "display_name": "Python 3",
   "language": "python",
   "name": "python3"
  },
  "language_info": {
   "codemirror_mode": {
    "name": "ipython",
    "version": 3
   },
   "file_extension": ".py",
   "mimetype": "text/x-python",
   "name": "python",
   "nbconvert_exporter": "python",
   "pygments_lexer": "ipython3",
   "version": "3.9.11"
  }
 },
 "nbformat": 4,
 "nbformat_minor": 5
}
